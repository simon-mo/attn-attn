{
 "cells": [
  {
   "cell_type": "markdown",
   "metadata": {},
   "source": [
    "Changing the loss"
   ]
  },
  {
   "cell_type": "code",
   "execution_count": 1,
   "metadata": {},
   "outputs": [],
   "source": [
    "import sys\n",
    "sys.path.insert(0, '..')"
   ]
  },
  {
   "cell_type": "code",
   "execution_count": 2,
   "metadata": {
    "collapsed": true
   },
   "outputs": [],
   "source": [
    "from AttentionModule import Conv2d_Attn\n",
    "\n",
    "import torch\n",
    "from torch import nn\n",
    "from torchvision import models, datasets, transforms\n",
    "import torch.optim as optim\n",
    "from torch.autograd import Variable\n",
    "import torchvision\n",
    "import torchvision.transforms as transforms\n",
    "\n",
    "import re\n",
    "import numpy as np"
   ]
  },
  {
   "cell_type": "code",
   "execution_count": 3,
   "metadata": {},
   "outputs": [],
   "source": [
    "resnet_pretrained = models.resnet101(pretrained=True)\n",
    "nn.Conv2d = Conv2d_Attn\n",
    "resnet_attn = models.resnet101()\n",
    "resnet_attn.load_state_dict(resnet_pretrained.state_dict(), strict=False)"
   ]
  },
  {
   "cell_type": "code",
   "execution_count": 4,
   "metadata": {
    "collapsed": true
   },
   "outputs": [],
   "source": [
    "# This block turns 'layer1.0.downsample.0.weight' to 'layer1[0].downsample[0].weight'\n",
    "param_keys = list(resnet_attn.state_dict().keys())\n",
    "formatted_keys = []\n",
    "for k in param_keys:\n",
    "    found = re.findall(r'\\.[\\d]{1,2}\\.', k)\n",
    "    if len(found):\n",
    "        for f in found:\n",
    "            k = k.replace(f, '[{}].'.format(f.strip('.')))\n",
    "    formatted_keys.append(k)"
   ]
  },
  {
   "cell_type": "code",
   "execution_count": 5,
   "metadata": {
    "collapsed": true
   },
   "outputs": [],
   "source": [
    "# This block turn off gradient up for all params except attn_weights\n",
    "def turn_off_grad_except(lst=[]):\n",
    "    turning_off_keys = [k for k in formatted_keys for l in lst if l in k]\n",
    "    for k in formatted_keys:\n",
    "        obj = eval('resnet_attn.'+k)\n",
    "        if k in turning_off_keys:\n",
    "            obj.requires_grad = True\n",
    "        else:\n",
    "            obj.requires_grad = False"
   ]
  },
  {
   "cell_type": "code",
   "execution_count": 6,
   "metadata": {
    "collapsed": true
   },
   "outputs": [],
   "source": [
    "resnet_attn.fc = nn.Linear(resnet_attn.fc.in_features, 144)"
   ]
  },
  {
   "cell_type": "markdown",
   "metadata": {},
   "source": [
    "Start training"
   ]
  },
  {
   "cell_type": "code",
   "execution_count": 7,
   "metadata": {},
   "outputs": [],
   "source": [
    "batch_size = 32"
   ]
  },
  {
   "cell_type": "code",
   "execution_count": 8,
   "metadata": {},
   "outputs": [],
   "source": [
    "normalize = transforms.Normalize(mean=[0.485, 0.456, 0.406],\n",
    "                                 std=[0.229, 0.224, 0.225])\n",
    "transform = transforms.Compose(\n",
    "    [transforms.ToTensor(),\n",
    "     normalize])\n",
    "\n",
    "trainset = torchvision.datasets.ImageFolder(root='../data/train', transform=transform)\n",
    "trainloader = torch.utils.data.DataLoader(trainset, batch_size=batch_size,\n",
    "                                          shuffle=True, num_workers=2)"
   ]
  },
  {
   "cell_type": "code",
   "execution_count": 9,
   "metadata": {},
   "outputs": [],
   "source": [
    "total_imgs = len(trainset.imgs)"
   ]
  },
  {
   "cell_type": "code",
   "execution_count": 10,
   "metadata": {
    "collapsed": true
   },
   "outputs": [],
   "source": [
    "resnet_attn = resnet_attn.cuda()"
   ]
  },
  {
   "cell_type": "code",
   "execution_count": 11,
   "metadata": {},
   "outputs": [
    {
     "name": "stdout",
     "output_type": "stream",
     "text": [
      "Total number of attention parameters 52672\n"
     ]
    }
   ],
   "source": [
    "total_attn_params = 0\n",
    "for k in formatted_keys:\n",
    "    obj = eval('resnet_attn.'+k)\n",
    "    if 'attn_weights' in k:\n",
    "        total_attn_params += np.prod(obj.shape)\n",
    "print(\"Total number of attention parameters\", total_attn_params)"
   ]
  },
  {
   "cell_type": "markdown",
   "metadata": {},
   "source": [
    "We want the attention parameters to diverge from 1, therefore we penalize element-wise square loss as $\\lambda (1 \\times \\text{# params} - (x - 1)^2)$\n",
    "\n",
    "But this is too big a number,\n",
    "let's try: \n",
    "$- (x - 1)^2$ for now"
   ]
  },
  {
   "cell_type": "code",
   "execution_count": 12,
   "metadata": {},
   "outputs": [],
   "source": [
    "_lambda = 1e-1 #set default"
   ]
  },
  {
   "cell_type": "code",
   "execution_count": 13,
   "metadata": {},
   "outputs": [],
   "source": [
    "def get_params_objs(name, net='resnet_attn'):\n",
    "    res = []\n",
    "    for k in formatted_keys:\n",
    "        obj = eval(f'{net}.'+k)\n",
    "        if name in k:\n",
    "            res.append(obj)\n",
    "    return res"
   ]
  },
  {
   "cell_type": "code",
   "execution_count": 14,
   "metadata": {},
   "outputs": [],
   "source": [
    "def compute_attn_loss(n_params=26560):\n",
    "    attns = get_params_objs('attn_weights')\n",
    "    penality = sum([torch.pow(t - 1,2).mean() for t in attns])\n",
    "#     penality = (1000/n_params)*sum([torch.min(torch.pow(t-2, 2), torch.pow(t, 2)).sum() for t in attns])\n",
    "    return (_lambda)*(-penality)"
   ]
  },
  {
   "cell_type": "code",
   "execution_count": 15,
   "metadata": {},
   "outputs": [
    {
     "data": {
      "text/plain": [
       "104"
      ]
     },
     "execution_count": 15,
     "metadata": {},
     "output_type": "execute_result"
    }
   ],
   "source": [
    "len(get_params_objs('attn_weights'))"
   ]
  },
  {
   "cell_type": "code",
   "execution_count": 16,
   "metadata": {},
   "outputs": [
    {
     "data": {
      "text/plain": [
       "Variable containing:\n",
       "-0\n",
       "[torch.cuda.FloatTensor of size 1 (GPU 0)]"
      ]
     },
     "execution_count": 16,
     "metadata": {},
     "output_type": "execute_result"
    }
   ],
   "source": [
    "compute_attn_loss()"
   ]
  },
  {
   "cell_type": "code",
   "execution_count": 17,
   "metadata": {},
   "outputs": [],
   "source": [
    "print_every = 5"
   ]
  },
  {
   "cell_type": "code",
   "execution_count": 18,
   "metadata": {},
   "outputs": [],
   "source": [
    "def train_k_epoch(k, add_attn=True, score_epoch=False):\n",
    "    cls_criterion = nn.CrossEntropyLoss()\n",
    "    optimizer = optim.Adam(filter(lambda p: p.requires_grad, resnet_attn.parameters()))\n",
    "    \n",
    "    for epoch in range(k):\n",
    "        running_loss = 0.0\n",
    "        running_attn_loss = 0.0\n",
    "        for i, data in enumerate(trainloader, 0):\n",
    "            inputs, labels = data\n",
    "            inputs, labels = Variable(inputs).cuda(), Variable(labels).cuda()\n",
    "\n",
    "            optimizer.zero_grad()\n",
    "            outputs = resnet_attn(inputs)\n",
    "            clf_loss = cls_criterion(outputs, labels)\n",
    "                        \n",
    "            attn_loss = compute_attn_loss()\n",
    "            \n",
    "            if add_attn:\n",
    "                loss = clf_loss + attn_loss\n",
    "            else:\n",
    "                loss = clf_loss\n",
    "\n",
    "            loss.backward()\n",
    "            optimizer.step()\n",
    "\n",
    "            running_loss += clf_loss.data[0]\n",
    "            running_attn_loss += attn_loss.data[0]\n",
    "\n",
    "            if i % print_every == 0:\n",
    "                print('[%5d] iter, [%2f] epoch, classifer loss: %.3f, attn_loss: %.5f ' %\n",
    "                      (i + 1, i*batch_size/total_imgs, running_loss/print_every, running_attn_loss/print_every))\n",
    "                running_loss = 0.0\n",
    "                running_attn_loss = 0.0\n",
    "        if score_epoch:\n",
    "            print(score(batch_size=32))"
   ]
  },
  {
   "cell_type": "code",
   "execution_count": 19,
   "metadata": {},
   "outputs": [],
   "source": [
    "from tqdm import tqdm\n",
    "def score(net=resnet_attn, batch_size=batch_size):\n",
    "    trainset = torchvision.datasets.ImageFolder(root='../data/train', transform=transform)\n",
    "    trainloader = torch.utils.data.DataLoader(trainset, batch_size=batch_size,\n",
    "                                              shuffle=True, num_workers=2)\n",
    "    \n",
    "    valset = torchvision.datasets.ImageFolder(root='../data/val', transform=transform)\n",
    "    valloader = torch.utils.data.DataLoader(valset, batch_size=batch_size,\n",
    "                                              shuffle=True, num_workers=2)\n",
    "    \n",
    "    train_correct = 0\n",
    "    val_correct = 0\n",
    "    \n",
    "    for inp, label in tqdm(iter(trainloader)):\n",
    "        _, idx = net(Variable(inp).cuda()).max(1)\n",
    "        train_correct += int(sum(idx.cpu().data == label))\n",
    "    \n",
    "    for inp, label in tqdm(iter(valloader)):\n",
    "        _, idx = net(Variable(inp).cuda()).max(1)\n",
    "        val_correct += int(sum(idx.cpu().data == label))\n",
    "    \n",
    "    return {\n",
    "        'train_accu': train_correct/len(trainset),\n",
    "        'val_accu': val_correct/len(valset)\n",
    "    }"
   ]
  },
  {
   "cell_type": "markdown",
   "metadata": {},
   "source": [
    "Train a fresh fc layer. \n",
    "`turn_off_grad_except([])` turns off grads for all weights but the fc layer"
   ]
  },
  {
   "cell_type": "code",
   "execution_count": 20,
   "metadata": {},
   "outputs": [],
   "source": [
    "print_every = 50"
   ]
  },
  {
   "cell_type": "code",
   "execution_count": 21,
   "metadata": {},
   "outputs": [
    {
     "name": "stdout",
     "output_type": "stream",
     "text": [
      "[    1] iter, [0.000000] epoch, classifer loss: 0.102, attn_loss: 0.00000 \n",
      "[   51] iter, [0.196054] epoch, classifer loss: 4.171, attn_loss: 0.00000 \n",
      "[  101] iter, [0.392109] epoch, classifer loss: 3.447, attn_loss: 0.00000 \n",
      "[  151] iter, [0.588163] epoch, classifer loss: 3.216, attn_loss: 0.00000 \n",
      "[  201] iter, [0.784218] epoch, classifer loss: 2.992, attn_loss: 0.00000 \n",
      "[  251] iter, [0.980272] epoch, classifer loss: 2.928, attn_loss: 0.00000 \n"
     ]
    },
    {
     "name": "stderr",
     "output_type": "stream",
     "text": [
      "100%|██████████| 256/256 [01:51<00:00,  2.29it/s]\n",
      "100%|██████████| 55/55 [00:24<00:00,  2.28it/s]"
     ]
    },
    {
     "name": "stdout",
     "output_type": "stream",
     "text": [
      "{'train_accu': 0.40693542458032106, 'val_accu': 0.33751425313568983}\n"
     ]
    },
    {
     "name": "stderr",
     "output_type": "stream",
     "text": [
      "\n"
     ]
    },
    {
     "name": "stdout",
     "output_type": "stream",
     "text": [
      "[    1] iter, [0.000000] epoch, classifer loss: 0.045, attn_loss: 0.00000 \n",
      "[   51] iter, [0.196054] epoch, classifer loss: 2.371, attn_loss: 0.00000 \n",
      "[  101] iter, [0.392109] epoch, classifer loss: 2.347, attn_loss: 0.00000 \n",
      "[  151] iter, [0.588163] epoch, classifer loss: 2.348, attn_loss: 0.00000 \n",
      "[  201] iter, [0.784218] epoch, classifer loss: 2.447, attn_loss: 0.00000 \n",
      "[  251] iter, [0.980272] epoch, classifer loss: 2.343, attn_loss: 0.00000 \n"
     ]
    },
    {
     "name": "stderr",
     "output_type": "stream",
     "text": [
      "100%|██████████| 256/256 [01:51<00:00,  2.29it/s]\n",
      "100%|██████████| 55/55 [00:24<00:00,  2.29it/s]"
     ]
    },
    {
     "name": "stdout",
     "output_type": "stream",
     "text": [
      "{'train_accu': 0.47776007842176205, 'val_accu': 0.35746864310148235}\n"
     ]
    },
    {
     "name": "stderr",
     "output_type": "stream",
     "text": [
      "\n"
     ]
    },
    {
     "name": "stdout",
     "output_type": "stream",
     "text": [
      "[    1] iter, [0.000000] epoch, classifer loss: 0.028, attn_loss: 0.00000 \n",
      "[   51] iter, [0.196054] epoch, classifer loss: 1.953, attn_loss: 0.00000 \n",
      "[  101] iter, [0.392109] epoch, classifer loss: 1.983, attn_loss: 0.00000 \n",
      "[  151] iter, [0.588163] epoch, classifer loss: 2.007, attn_loss: 0.00000 \n",
      "[  201] iter, [0.784218] epoch, classifer loss: 2.108, attn_loss: 0.00000 \n",
      "[  251] iter, [0.980272] epoch, classifer loss: 2.044, attn_loss: 0.00000 \n"
     ]
    },
    {
     "name": "stderr",
     "output_type": "stream",
     "text": [
      "100%|██████████| 256/256 [01:51<00:00,  2.29it/s]\n",
      "100%|██████████| 55/55 [00:24<00:00,  2.28it/s]"
     ]
    },
    {
     "name": "stdout",
     "output_type": "stream",
     "text": [
      "{'train_accu': 0.5128048033329249, 'val_accu': 0.3660205245153934}\n"
     ]
    },
    {
     "name": "stderr",
     "output_type": "stream",
     "text": [
      "\n"
     ]
    },
    {
     "name": "stdout",
     "output_type": "stream",
     "text": [
      "[    1] iter, [0.000000] epoch, classifer loss: 0.047, attn_loss: 0.00000 \n",
      "[   51] iter, [0.196054] epoch, classifer loss: 1.791, attn_loss: 0.00000 \n",
      "[  101] iter, [0.392109] epoch, classifer loss: 1.778, attn_loss: 0.00000 \n",
      "[  151] iter, [0.588163] epoch, classifer loss: 1.798, attn_loss: 0.00000 \n",
      "[  201] iter, [0.784218] epoch, classifer loss: 1.823, attn_loss: 0.00000 \n",
      "[  251] iter, [0.980272] epoch, classifer loss: 1.778, attn_loss: 0.00000 \n"
     ]
    },
    {
     "name": "stderr",
     "output_type": "stream",
     "text": [
      "100%|██████████| 256/256 [01:51<00:00,  2.29it/s]\n",
      "100%|██████████| 55/55 [00:24<00:00,  2.28it/s]"
     ]
    },
    {
     "name": "stdout",
     "output_type": "stream",
     "text": [
      "{'train_accu': 0.565494424702855, 'val_accu': 0.37400228050171036}\n"
     ]
    },
    {
     "name": "stderr",
     "output_type": "stream",
     "text": [
      "\n"
     ]
    },
    {
     "name": "stdout",
     "output_type": "stream",
     "text": [
      "[    1] iter, [0.000000] epoch, classifer loss: 0.023, attn_loss: 0.00000 \n",
      "[   51] iter, [0.196054] epoch, classifer loss: 1.542, attn_loss: 0.00000 \n",
      "[  101] iter, [0.392109] epoch, classifer loss: 1.577, attn_loss: 0.00000 \n",
      "[  151] iter, [0.588163] epoch, classifer loss: 1.649, attn_loss: 0.00000 \n",
      "[  201] iter, [0.784218] epoch, classifer loss: 1.622, attn_loss: 0.00000 \n",
      "[  251] iter, [0.980272] epoch, classifer loss: 1.661, attn_loss: 0.00000 \n"
     ]
    },
    {
     "name": "stderr",
     "output_type": "stream",
     "text": [
      "100%|██████████| 256/256 [01:51<00:00,  2.29it/s]\n",
      "100%|██████████| 55/55 [00:24<00:00,  2.28it/s]"
     ]
    },
    {
     "name": "stdout",
     "output_type": "stream",
     "text": [
      "{'train_accu': 0.5833843891679941, 'val_accu': 0.3603192702394527}\n"
     ]
    },
    {
     "name": "stderr",
     "output_type": "stream",
     "text": [
      "\n"
     ]
    },
    {
     "name": "stdout",
     "output_type": "stream",
     "text": [
      "[    1] iter, [0.000000] epoch, classifer loss: 0.029, attn_loss: 0.00000 \n",
      "[   51] iter, [0.196054] epoch, classifer loss: 1.445, attn_loss: 0.00000 \n",
      "[  101] iter, [0.392109] epoch, classifer loss: 1.462, attn_loss: 0.00000 \n",
      "[  151] iter, [0.588163] epoch, classifer loss: 1.456, attn_loss: 0.00000 \n",
      "[  201] iter, [0.784218] epoch, classifer loss: 1.530, attn_loss: 0.00000 \n",
      "[  251] iter, [0.980272] epoch, classifer loss: 1.544, attn_loss: 0.00000 \n"
     ]
    },
    {
     "name": "stderr",
     "output_type": "stream",
     "text": [
      "100%|██████████| 256/256 [01:51<00:00,  2.29it/s]\n",
      "100%|██████████| 55/55 [00:24<00:00,  2.28it/s]"
     ]
    },
    {
     "name": "stdout",
     "output_type": "stream",
     "text": [
      "{'train_accu': 0.6347261365028796, 'val_accu': 0.37970353477765106}\n"
     ]
    },
    {
     "name": "stderr",
     "output_type": "stream",
     "text": [
      "\n"
     ]
    },
    {
     "name": "stdout",
     "output_type": "stream",
     "text": [
      "[    1] iter, [0.000000] epoch, classifer loss: 0.025, attn_loss: 0.00000 \n",
      "[   51] iter, [0.196054] epoch, classifer loss: 1.353, attn_loss: 0.00000 \n",
      "[  101] iter, [0.392109] epoch, classifer loss: 1.328, attn_loss: 0.00000 \n",
      "[  151] iter, [0.588163] epoch, classifer loss: 1.374, attn_loss: 0.00000 \n",
      "[  201] iter, [0.784218] epoch, classifer loss: 1.387, attn_loss: 0.00000 \n",
      "[  251] iter, [0.980272] epoch, classifer loss: 1.373, attn_loss: 0.00000 \n"
     ]
    },
    {
     "name": "stderr",
     "output_type": "stream",
     "text": [
      "100%|██████████| 256/256 [01:51<00:00,  2.29it/s]\n",
      "100%|██████████| 55/55 [00:24<00:00,  2.28it/s]"
     ]
    },
    {
     "name": "stdout",
     "output_type": "stream",
     "text": [
      "{'train_accu': 0.632152922435976, 'val_accu': 0.36659064994298746}\n"
     ]
    },
    {
     "name": "stderr",
     "output_type": "stream",
     "text": [
      "\n"
     ]
    },
    {
     "name": "stdout",
     "output_type": "stream",
     "text": [
      "[    1] iter, [0.000000] epoch, classifer loss: 0.034, attn_loss: 0.00000 \n",
      "[   51] iter, [0.196054] epoch, classifer loss: 1.175, attn_loss: 0.00000 \n",
      "[  101] iter, [0.392109] epoch, classifer loss: 1.227, attn_loss: 0.00000 \n",
      "[  151] iter, [0.588163] epoch, classifer loss: 1.269, attn_loss: 0.00000 \n",
      "[  201] iter, [0.784218] epoch, classifer loss: 1.292, attn_loss: 0.00000 \n",
      "[  251] iter, [0.980272] epoch, classifer loss: 1.310, attn_loss: 0.00000 \n"
     ]
    },
    {
     "name": "stderr",
     "output_type": "stream",
     "text": [
      "100%|██████████| 256/256 [01:51<00:00,  2.29it/s]\n",
      "100%|██████████| 55/55 [00:24<00:00,  2.28it/s]"
     ]
    },
    {
     "name": "stdout",
     "output_type": "stream",
     "text": [
      "{'train_accu': 0.6649920352897929, 'val_accu': 0.3814139110604333}\n"
     ]
    },
    {
     "name": "stderr",
     "output_type": "stream",
     "text": [
      "\n"
     ]
    },
    {
     "name": "stdout",
     "output_type": "stream",
     "text": [
      "[    1] iter, [0.000000] epoch, classifer loss: 0.025, attn_loss: 0.00000 \n",
      "[   51] iter, [0.196054] epoch, classifer loss: 1.080, attn_loss: 0.00000 \n",
      "[  101] iter, [0.392109] epoch, classifer loss: 1.152, attn_loss: 0.00000 \n",
      "[  151] iter, [0.588163] epoch, classifer loss: 1.230, attn_loss: 0.00000 \n",
      "[  201] iter, [0.784218] epoch, classifer loss: 1.245, attn_loss: 0.00000 \n",
      "[  251] iter, [0.980272] epoch, classifer loss: 1.209, attn_loss: 0.00000 \n"
     ]
    },
    {
     "name": "stderr",
     "output_type": "stream",
     "text": [
      "100%|██████████| 256/256 [01:51<00:00,  2.29it/s]\n",
      "100%|██████████| 55/55 [00:24<00:00,  2.28it/s]"
     ]
    },
    {
     "name": "stdout",
     "output_type": "stream",
     "text": [
      "{'train_accu': 0.7120450925131724, 'val_accu': 0.3888255416191562}\n"
     ]
    },
    {
     "name": "stderr",
     "output_type": "stream",
     "text": [
      "\n"
     ]
    },
    {
     "name": "stdout",
     "output_type": "stream",
     "text": [
      "[    1] iter, [0.000000] epoch, classifer loss: 0.024, attn_loss: 0.00000 \n",
      "[   51] iter, [0.196054] epoch, classifer loss: 1.160, attn_loss: 0.00000 \n",
      "[  101] iter, [0.392109] epoch, classifer loss: 1.092, attn_loss: 0.00000 \n",
      "[  151] iter, [0.588163] epoch, classifer loss: 1.111, attn_loss: 0.00000 \n",
      "[  201] iter, [0.784218] epoch, classifer loss: 1.106, attn_loss: 0.00000 \n",
      "[  251] iter, [0.980272] epoch, classifer loss: 1.165, attn_loss: 0.00000 \n"
     ]
    },
    {
     "name": "stderr",
     "output_type": "stream",
     "text": [
      "100%|██████████| 256/256 [01:51<00:00,  2.29it/s]\n",
      "100%|██████████| 55/55 [00:24<00:00,  2.28it/s]"
     ]
    },
    {
     "name": "stdout",
     "output_type": "stream",
     "text": [
      "{'train_accu': 0.719887268717069, 'val_accu': 0.37457240592930446}\n"
     ]
    },
    {
     "name": "stderr",
     "output_type": "stream",
     "text": [
      "\n"
     ]
    },
    {
     "name": "stdout",
     "output_type": "stream",
     "text": [
      "[    1] iter, [0.000000] epoch, classifer loss: 0.017, attn_loss: 0.00000 \n",
      "[   51] iter, [0.196054] epoch, classifer loss: 1.007, attn_loss: 0.00000 \n",
      "[  101] iter, [0.392109] epoch, classifer loss: 1.065, attn_loss: 0.00000 \n",
      "[  151] iter, [0.588163] epoch, classifer loss: 1.015, attn_loss: 0.00000 \n",
      "[  201] iter, [0.784218] epoch, classifer loss: 1.102, attn_loss: 0.00000 \n",
      "[  251] iter, [0.980272] epoch, classifer loss: 1.099, attn_loss: 0.00000 \n"
     ]
    },
    {
     "name": "stderr",
     "output_type": "stream",
     "text": [
      "100%|██████████| 256/256 [01:51<00:00,  2.29it/s]\n",
      "100%|██████████| 55/55 [00:24<00:00,  2.28it/s]"
     ]
    },
    {
     "name": "stdout",
     "output_type": "stream",
     "text": [
      "{'train_accu': 0.7365518931503492, 'val_accu': 0.3768529076396807}\n"
     ]
    },
    {
     "name": "stderr",
     "output_type": "stream",
     "text": [
      "\n"
     ]
    },
    {
     "name": "stdout",
     "output_type": "stream",
     "text": [
      "[    1] iter, [0.000000] epoch, classifer loss: 0.023, attn_loss: 0.00000 \n",
      "[   51] iter, [0.196054] epoch, classifer loss: 0.879, attn_loss: 0.00000 \n",
      "[  101] iter, [0.392109] epoch, classifer loss: 0.915, attn_loss: 0.00000 \n",
      "[  151] iter, [0.588163] epoch, classifer loss: 1.058, attn_loss: 0.00000 \n",
      "[  201] iter, [0.784218] epoch, classifer loss: 1.042, attn_loss: 0.00000 \n",
      "[  251] iter, [0.980272] epoch, classifer loss: 1.077, attn_loss: 0.00000 \n"
     ]
    },
    {
     "name": "stderr",
     "output_type": "stream",
     "text": [
      "100%|██████████| 256/256 [01:51<00:00,  2.29it/s]\n",
      "100%|██████████| 55/55 [00:24<00:00,  2.27it/s]"
     ]
    },
    {
     "name": "stdout",
     "output_type": "stream",
     "text": [
      "{'train_accu': 0.7722092880774415, 'val_accu': 0.3814139110604333}\n"
     ]
    },
    {
     "name": "stderr",
     "output_type": "stream",
     "text": [
      "\n"
     ]
    },
    {
     "name": "stdout",
     "output_type": "stream",
     "text": [
      "[    1] iter, [0.000000] epoch, classifer loss: 0.020, attn_loss: 0.00000 \n",
      "[   51] iter, [0.196054] epoch, classifer loss: 0.947, attn_loss: 0.00000 \n",
      "[  101] iter, [0.392109] epoch, classifer loss: 0.918, attn_loss: 0.00000 \n",
      "[  151] iter, [0.588163] epoch, classifer loss: 0.965, attn_loss: 0.00000 \n",
      "[  201] iter, [0.784218] epoch, classifer loss: 1.020, attn_loss: 0.00000 \n",
      "[  251] iter, [0.980272] epoch, classifer loss: 0.958, attn_loss: 0.00000 \n"
     ]
    },
    {
     "name": "stderr",
     "output_type": "stream",
     "text": [
      "100%|██████████| 256/256 [01:51<00:00,  2.29it/s]\n",
      "100%|██████████| 55/55 [00:24<00:00,  2.28it/s]"
     ]
    },
    {
     "name": "stdout",
     "output_type": "stream",
     "text": [
      "{'train_accu': 0.7736796961156721, 'val_accu': 0.3905359179019384}\n"
     ]
    },
    {
     "name": "stderr",
     "output_type": "stream",
     "text": [
      "\n"
     ]
    },
    {
     "name": "stdout",
     "output_type": "stream",
     "text": [
      "[    1] iter, [0.000000] epoch, classifer loss: 0.013, attn_loss: 0.00000 \n",
      "[   51] iter, [0.196054] epoch, classifer loss: 0.902, attn_loss: 0.00000 \n",
      "[  101] iter, [0.392109] epoch, classifer loss: 0.891, attn_loss: 0.00000 \n",
      "[  151] iter, [0.588163] epoch, classifer loss: 0.910, attn_loss: 0.00000 \n",
      "[  201] iter, [0.784218] epoch, classifer loss: 0.882, attn_loss: 0.00000 \n",
      "[  251] iter, [0.980272] epoch, classifer loss: 0.922, attn_loss: 0.00000 \n"
     ]
    },
    {
     "name": "stderr",
     "output_type": "stream",
     "text": [
      "100%|██████████| 256/256 [01:51<00:00,  2.29it/s]\n",
      "100%|██████████| 55/55 [00:24<00:00,  2.28it/s]"
     ]
    },
    {
     "name": "stdout",
     "output_type": "stream",
     "text": [
      "{'train_accu': 0.7796838622717804, 'val_accu': 0.4013683010262258}\n"
     ]
    },
    {
     "name": "stderr",
     "output_type": "stream",
     "text": [
      "\n"
     ]
    },
    {
     "name": "stdout",
     "output_type": "stream",
     "text": [
      "[    1] iter, [0.000000] epoch, classifer loss: 0.021, attn_loss: 0.00000 \n",
      "[   51] iter, [0.196054] epoch, classifer loss: 0.909, attn_loss: 0.00000 \n",
      "[  101] iter, [0.392109] epoch, classifer loss: 0.821, attn_loss: 0.00000 \n",
      "[  151] iter, [0.588163] epoch, classifer loss: 0.874, attn_loss: 0.00000 \n",
      "[  201] iter, [0.784218] epoch, classifer loss: 0.869, attn_loss: 0.00000 \n",
      "[  251] iter, [0.980272] epoch, classifer loss: 0.892, attn_loss: 0.00000 \n"
     ]
    },
    {
     "name": "stderr",
     "output_type": "stream",
     "text": [
      "100%|██████████| 256/256 [01:51<00:00,  2.29it/s]\n",
      "100%|██████████| 55/55 [00:24<00:00,  2.28it/s]"
     ]
    },
    {
     "name": "stdout",
     "output_type": "stream",
     "text": [
      "{'train_accu': 0.7457419433892906, 'val_accu': 0.3734321550741163}\n"
     ]
    },
    {
     "name": "stderr",
     "output_type": "stream",
     "text": [
      "\n"
     ]
    },
    {
     "name": "stdout",
     "output_type": "stream",
     "text": [
      "[    1] iter, [0.000000] epoch, classifer loss: 0.019, attn_loss: 0.00000 \n",
      "[   51] iter, [0.196054] epoch, classifer loss: 0.815, attn_loss: 0.00000 \n",
      "[  101] iter, [0.392109] epoch, classifer loss: 0.808, attn_loss: 0.00000 \n",
      "[  151] iter, [0.588163] epoch, classifer loss: 0.797, attn_loss: 0.00000 \n",
      "[  201] iter, [0.784218] epoch, classifer loss: 0.866, attn_loss: 0.00000 \n",
      "[  251] iter, [0.980272] epoch, classifer loss: 0.838, attn_loss: 0.00000 \n"
     ]
    },
    {
     "name": "stderr",
     "output_type": "stream",
     "text": [
      "100%|██████████| 256/256 [01:51<00:00,  2.29it/s]\n",
      "100%|██████████| 55/55 [00:24<00:00,  2.28it/s]"
     ]
    },
    {
     "name": "stdout",
     "output_type": "stream",
     "text": [
      "{'train_accu': 0.772821958093371, 'val_accu': 0.37799315849486886}\n"
     ]
    },
    {
     "name": "stderr",
     "output_type": "stream",
     "text": [
      "\n"
     ]
    },
    {
     "name": "stdout",
     "output_type": "stream",
     "text": [
      "[    1] iter, [0.000000] epoch, classifer loss: 0.013, attn_loss: 0.00000 \n",
      "[   51] iter, [0.196054] epoch, classifer loss: 0.841, attn_loss: 0.00000 \n",
      "[  101] iter, [0.392109] epoch, classifer loss: 0.775, attn_loss: 0.00000 \n",
      "[  151] iter, [0.588163] epoch, classifer loss: 0.787, attn_loss: 0.00000 \n",
      "[  201] iter, [0.784218] epoch, classifer loss: 0.811, attn_loss: 0.00000 \n",
      "[  251] iter, [0.980272] epoch, classifer loss: 0.803, attn_loss: 0.00000 \n"
     ]
    },
    {
     "name": "stderr",
     "output_type": "stream",
     "text": [
      "100%|██████████| 256/256 [01:51<00:00,  2.29it/s]\n",
      "100%|██████████| 55/55 [00:24<00:00,  2.28it/s]"
     ]
    },
    {
     "name": "stdout",
     "output_type": "stream",
     "text": [
      "{'train_accu': 0.7881387084916064, 'val_accu': 0.37115165336374}\n"
     ]
    },
    {
     "name": "stderr",
     "output_type": "stream",
     "text": [
      "\n"
     ]
    },
    {
     "name": "stdout",
     "output_type": "stream",
     "text": [
      "[    1] iter, [0.000000] epoch, classifer loss: 0.009, attn_loss: 0.00000 \n",
      "[   51] iter, [0.196054] epoch, classifer loss: 0.706, attn_loss: 0.00000 \n",
      "[  101] iter, [0.392109] epoch, classifer loss: 0.710, attn_loss: 0.00000 \n",
      "[  151] iter, [0.588163] epoch, classifer loss: 0.780, attn_loss: 0.00000 \n",
      "[  201] iter, [0.784218] epoch, classifer loss: 0.804, attn_loss: 0.00000 \n",
      "[  251] iter, [0.980272] epoch, classifer loss: 0.759, attn_loss: 0.00000 \n"
     ]
    },
    {
     "name": "stderr",
     "output_type": "stream",
     "text": [
      "100%|██████████| 256/256 [01:51<00:00,  2.29it/s]\n",
      "100%|██████████| 55/55 [00:24<00:00,  2.28it/s]"
     ]
    },
    {
     "name": "stdout",
     "output_type": "stream",
     "text": [
      "{'train_accu': 0.7940203406445289, 'val_accu': 0.3757126567844926}\n"
     ]
    },
    {
     "name": "stderr",
     "output_type": "stream",
     "text": [
      "\n"
     ]
    },
    {
     "name": "stdout",
     "output_type": "stream",
     "text": [
      "[    1] iter, [0.000000] epoch, classifer loss: 0.013, attn_loss: 0.00000 \n",
      "[   51] iter, [0.196054] epoch, classifer loss: 0.709, attn_loss: 0.00000 \n",
      "[  101] iter, [0.392109] epoch, classifer loss: 0.703, attn_loss: 0.00000 \n",
      "[  151] iter, [0.588163] epoch, classifer loss: 0.733, attn_loss: 0.00000 \n",
      "[  201] iter, [0.784218] epoch, classifer loss: 0.733, attn_loss: 0.00000 \n",
      "[  251] iter, [0.980272] epoch, classifer loss: 0.743, attn_loss: 0.00000 \n"
     ]
    },
    {
     "name": "stderr",
     "output_type": "stream",
     "text": [
      "100%|██████████| 256/256 [01:51<00:00,  2.29it/s]\n",
      "100%|██████████| 55/55 [00:24<00:00,  2.28it/s]"
     ]
    },
    {
     "name": "stdout",
     "output_type": "stream",
     "text": [
      "{'train_accu': 0.8247763754441858, 'val_accu': 0.3979475484606613}\n"
     ]
    },
    {
     "name": "stderr",
     "output_type": "stream",
     "text": [
      "\n"
     ]
    },
    {
     "name": "stdout",
     "output_type": "stream",
     "text": [
      "[    1] iter, [0.000000] epoch, classifer loss: 0.015, attn_loss: 0.00000 \n",
      "[   51] iter, [0.196054] epoch, classifer loss: 0.686, attn_loss: 0.00000 \n",
      "[  101] iter, [0.392109] epoch, classifer loss: 0.681, attn_loss: 0.00000 \n",
      "[  151] iter, [0.588163] epoch, classifer loss: 0.671, attn_loss: 0.00000 \n",
      "[  201] iter, [0.784218] epoch, classifer loss: 0.752, attn_loss: 0.00000 \n",
      "[  251] iter, [0.980272] epoch, classifer loss: 0.740, attn_loss: 0.00000 \n"
     ]
    },
    {
     "name": "stderr",
     "output_type": "stream",
     "text": [
      "100%|██████████| 256/256 [01:51<00:00,  2.29it/s]\n",
      "100%|██████████| 55/55 [00:24<00:00,  2.28it/s]"
     ]
    },
    {
     "name": "stdout",
     "output_type": "stream",
     "text": [
      "{'train_accu': 0.8177919372625904, 'val_accu': 0.3717217787913341}\n"
     ]
    },
    {
     "name": "stderr",
     "output_type": "stream",
     "text": [
      "\n"
     ]
    }
   ],
   "source": [
    "turn_off_grad_except(['fc'])\n",
    "resnet_attn.eval()\n",
    "train_k_epoch(20,score_epoch=True, add_attn=False)"
   ]
  },
  {
   "cell_type": "markdown",
   "metadata": {},
   "source": [
    "```\n",
    "{'train_accu': 0.40693542458032106, 'val_accu': 0.33751425313568983}\n",
    "{'train_accu': 0.47776007842176205, 'val_accu': 0.35746864310148235}\n",
    "{'train_accu': 0.5128048033329249, 'val_accu': 0.3660205245153934}\n",
    "{'train_accu': 0.565494424702855, 'val_accu': 0.37400228050171036}\n",
    "{'train_accu': 0.5833843891679941, 'val_accu': 0.3603192702394527}\n",
    "{'train_accu': 0.6347261365028796, 'val_accu': 0.37970353477765106}\n",
    "{'train_accu': 0.632152922435976, 'val_accu': 0.36659064994298746}\n",
    "{'train_accu': 0.6649920352897929, 'val_accu': 0.3814139110604333}\n",
    "{'train_accu': 0.7120450925131724, 'val_accu': 0.3888255416191562}\n",
    "{'train_accu': 0.719887268717069, 'val_accu': 0.37457240592930446}\n",
    "{'train_accu': 0.7365518931503492, 'val_accu': 0.3768529076396807}\n",
    "{'train_accu': 0.7722092880774415, 'val_accu': 0.3814139110604333}\n",
    "{'train_accu': 0.7736796961156721, 'val_accu': 0.3905359179019384}\n",
    "{'train_accu': 0.7796838622717804, 'val_accu': 0.4013683010262258}\n",
    "{'train_accu': 0.7457419433892906, 'val_accu': 0.3734321550741163}\n",
    "{'train_accu': 0.772821958093371, 'val_accu': 0.37799315849486886}\n",
    "{'train_accu': 0.7881387084916064, 'val_accu': 0.37115165336374}\n",
    "{'train_accu': 0.7940203406445289, 'val_accu': 0.3757126567844926}\n",
    "{'train_accu': 0.8247763754441858, 'val_accu': 0.3979475484606613}\n",
    "{'train_accu': 0.8177919372625904, 'val_accu': 0.3717217787913341}\n",
    "```"
   ]
  },
  {
   "cell_type": "code",
   "execution_count": 22,
   "metadata": {},
   "outputs": [],
   "source": [
    "import numpy as np\n",
    "import pandas as pd\n",
    "import matplotlib.pyplot as plt\n",
    "%matplotlib inline\n",
    "\n",
    "import seaborn as sns"
   ]
  },
  {
   "cell_type": "code",
   "execution_count": 23,
   "metadata": {},
   "outputs": [],
   "source": [
    "raw = \"\"\"\n",
    "{'train_accu': 0.40693542458032106, 'val_accu': 0.33751425313568983}\n",
    "{'train_accu': 0.47776007842176205, 'val_accu': 0.35746864310148235}\n",
    "{'train_accu': 0.5128048033329249, 'val_accu': 0.3660205245153934}\n",
    "{'train_accu': 0.565494424702855, 'val_accu': 0.37400228050171036}\n",
    "{'train_accu': 0.5833843891679941, 'val_accu': 0.3603192702394527}\n",
    "{'train_accu': 0.6347261365028796, 'val_accu': 0.37970353477765106}\n",
    "{'train_accu': 0.632152922435976, 'val_accu': 0.36659064994298746}\n",
    "{'train_accu': 0.6649920352897929, 'val_accu': 0.3814139110604333}\n",
    "{'train_accu': 0.7120450925131724, 'val_accu': 0.3888255416191562}\n",
    "{'train_accu': 0.719887268717069, 'val_accu': 0.37457240592930446}\n",
    "{'train_accu': 0.7365518931503492, 'val_accu': 0.3768529076396807}\n",
    "{'train_accu': 0.7722092880774415, 'val_accu': 0.3814139110604333}\n",
    "{'train_accu': 0.7736796961156721, 'val_accu': 0.3905359179019384}\n",
    "{'train_accu': 0.7796838622717804, 'val_accu': 0.4013683010262258}\n",
    "{'train_accu': 0.7457419433892906, 'val_accu': 0.3734321550741163}\n",
    "{'train_accu': 0.772821958093371, 'val_accu': 0.37799315849486886}\n",
    "{'train_accu': 0.7881387084916064, 'val_accu': 0.37115165336374}\n",
    "{'train_accu': 0.7940203406445289, 'val_accu': 0.3757126567844926}\n",
    "{'train_accu': 0.8247763754441858, 'val_accu': 0.3979475484606613}\n",
    "{'train_accu': 0.8177919372625904, 'val_accu': 0.3717217787913341}\n",
    "\"\"\""
   ]
  },
  {
   "cell_type": "code",
   "execution_count": 24,
   "metadata": {},
   "outputs": [],
   "source": [
    "from ast import literal_eval"
   ]
  },
  {
   "cell_type": "code",
   "execution_count": 29,
   "metadata": {},
   "outputs": [],
   "source": [
    "df = pd.DataFrame.from_dict([\n",
    "    literal_eval(d.rstrip('\\n'))\n",
    "    for d in raw.splitlines()[1:-1]\n",
    "])"
   ]
  },
  {
   "cell_type": "code",
   "execution_count": 31,
   "metadata": {},
   "outputs": [
    {
     "data": {
      "text/plain": [
       "<matplotlib.axes._subplots.AxesSubplot at 0x7fae1f377278>"
      ]
     },
     "execution_count": 31,
     "metadata": {},
     "output_type": "execute_result"
    },
    {
     "data": {
      "image/png": "[encoded data removed]",
      "text/plain": [
       "<Figure size 432x288 with 1 Axes>"
      ]
     },
     "metadata": {},
     "output_type": "display_data"
    }
   ],
   "source": [
    "df.plot()"
   ]
  },
  {
   "cell_type": "code",
   "execution_count": null,
   "metadata": {},
   "outputs": [],
   "source": []
  }
 ],
 "metadata": {
  "kernelspec": {
   "display_name": "Python 3",
   "language": "python",
   "name": "python3"
  },
  "language_info": {
   "codemirror_mode": {
    "name": "ipython",
    "version": 3
   },
   "file_extension": ".py",
   "mimetype": "text/x-python",
   "name": "python",
   "nbconvert_exporter": "python",
   "pygments_lexer": "ipython3",
   "version": "3.6.4"
  }
 },
 "nbformat": 4,
 "nbformat_minor": 2
}
