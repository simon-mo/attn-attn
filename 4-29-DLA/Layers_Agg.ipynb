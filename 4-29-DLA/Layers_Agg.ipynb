{
 "cells": [
  {
   "cell_type": "code",
   "execution_count": 1,
   "metadata": {},
   "outputs": [],
   "source": [
    "# from AttentionModule import Conv2d_Attn\n",
    "\n",
    "import torch\n",
    "from torch import nn\n",
    "from torchvision import models, datasets, transforms\n",
    "import torch.optim as optim\n",
    "from torch.autograd import Variable\n",
    "import torchvision\n",
    "import torchvision.transforms as transforms\n",
    "\n",
    "import re\n",
    "import numpy as np"
   ]
  },
  {
   "cell_type": "code",
   "execution_count": 2,
   "metadata": {},
   "outputs": [],
   "source": [
    "import numpy as np\n",
    "import pandas as pd\n",
    "import matplotlib.pyplot as plt\n",
    "%matplotlib inline\n",
    "\n",
    "import seaborn as sns"
   ]
  },
  {
   "cell_type": "code",
   "execution_count": 3,
   "metadata": {},
   "outputs": [],
   "source": [
    "res = models.resnet50(pretrained=True)"
   ]
  },
  {
   "cell_type": "code",
   "execution_count": 4,
   "metadata": {},
   "outputs": [],
   "source": [
    "blks = list(res.children())"
   ]
  },
  {
   "cell_type": "code",
   "execution_count": 5,
   "metadata": {},
   "outputs": [],
   "source": [
    "batch_size = 32\n",
    "normalize = transforms.Normalize(mean=[0.485, 0.456, 0.406],\n",
    "                                 std=[0.229, 0.224, 0.225])\n",
    "transform = transforms.Compose(\n",
    "    [transforms.ToTensor(),\n",
    "     normalize])\n",
    "\n",
    "trainset = torchvision.datasets.ImageFolder(root='../data/train', transform=transform)\n",
    "trainloader = torch.utils.data.DataLoader(trainset, batch_size=batch_size,\n",
    "                                          shuffle=True, num_workers=2)"
   ]
  },
  {
   "cell_type": "code",
   "execution_count": 6,
   "metadata": {},
   "outputs": [],
   "source": [
    "res = res.eval().cuda()"
   ]
  },
  {
   "cell_type": "code",
   "execution_count": 7,
   "metadata": {},
   "outputs": [],
   "source": [
    "kernel_size = [56,56,28,14,7]"
   ]
  },
  {
   "cell_type": "code",
   "execution_count": 8,
   "metadata": {},
   "outputs": [],
   "source": [
    "def linear_pre_hook(out):\n",
    "    return out.view(out.size(0), -1)"
   ]
  },
  {
   "cell_type": "code",
   "execution_count": 9,
   "metadata": {},
   "outputs": [],
   "source": [
    "# pre_fc_size = 64+256+512+1024+2048\n",
    "pre_fc_size = 64+256+512+1024"
   ]
  },
  {
   "cell_type": "code",
   "execution_count": 10,
   "metadata": {},
   "outputs": [],
   "source": [
    "class ResNetWrap(nn.Module):\n",
    "    def __init__(self, resnet):\n",
    "        super(ResNetWrap, self).__init__()\n",
    "        self.blks = list(res.children())\n",
    "        self.max_pool_seq = nn.Sequential(*blks[:4])\n",
    "        self.seq_1 = blks[4]\n",
    "        self.seq_2 = blks[5]\n",
    "        self.seq_3 = blks[6]\n",
    "        self.seq_4 = blks[7]\n",
    "        self.avg_pool = blks[8]\n",
    "        self.fc = nn.Linear(pre_fc_size, 144)\n",
    "    \n",
    "    def forward(self, inp):\n",
    "        self.seq_0_out = self.max_pool_seq(inp)\n",
    "        self.seq_1_out = self.seq_1(self.seq_0_out)\n",
    "        self.seq_2_out = self.seq_2(self.seq_1_out)\n",
    "        self.seq_3_out = self.seq_3(self.seq_2_out)\n",
    "        self.seq_4_out = self.seq_4(self.seq_3_out)\n",
    "        \n",
    "        outs = [\n",
    "            self.seq_0_out,\n",
    "            self.seq_1_out,\n",
    "            self.seq_2_out,\n",
    "            self.seq_3_out,\n",
    "#             self.seq_4_out,\n",
    "        ]\n",
    "        \n",
    "        avg_pools = [\n",
    "            torch.nn.functional.avg_pool2d(out, kernel_size[i])\n",
    "            for i,out in enumerate(outs)\n",
    "        ]\n",
    "        self.avg_pools_out = torch.cat(avg_pools, dim=1)\n",
    "        avg_pools = linear_pre_hook(self.avg_pools_out)\n",
    "        return self.fc(avg_pools)"
   ]
  },
  {
   "cell_type": "code",
   "execution_count": 11,
   "metadata": {},
   "outputs": [],
   "source": [
    "agg = ResNetWrap(res).eval().cuda()"
   ]
  },
  {
   "cell_type": "code",
   "execution_count": 12,
   "metadata": {},
   "outputs": [],
   "source": [
    "def format_keys(network_name):\n",
    "    # This block turns 'layer1.0.downsample.0.weight' to 'layer1[0].downsample[0].weight'\n",
    "    param_keys = list(eval(network_name).state_dict().keys())\n",
    "    formatted_keys = []\n",
    "    for k in param_keys:\n",
    "        found = re.findall(r'\\.[\\d]{1,2}\\.', k)\n",
    "        if len(found):\n",
    "            for f in found:\n",
    "                k = k.replace(f, '[{}].'.format(f.strip('.')))\n",
    "        formatted_keys.append(k)\n",
    "    return formatted_keys"
   ]
  },
  {
   "cell_type": "code",
   "execution_count": 13,
   "metadata": {},
   "outputs": [],
   "source": [
    "# This block turn off gradient up for all params except attn_weights\n",
    "def turn_off_grad_except(network_name, lst=[], verbose=False):\n",
    "    formatted_keys = format_keys(network_name)\n",
    "    for k in formatted_keys:\n",
    "        obj = eval(f'{network_name}.'+k)\n",
    "        for kw in lst:\n",
    "            if not kw in k:\n",
    "                obj.requires_grad = False\n",
    "            else:\n",
    "                if verbose:\n",
    "                    print(k)\n",
    "                obj.requires_grad = True"
   ]
  },
  {
   "cell_type": "code",
   "execution_count": 14,
   "metadata": {},
   "outputs": [
    {
     "name": "stdout",
     "output_type": "stream",
     "text": [
      "fc.weight\n",
      "fc.bias\n"
     ]
    }
   ],
   "source": [
    "turn_off_grad_except('agg', ['fc'], True)"
   ]
  },
  {
   "cell_type": "code",
   "execution_count": 15,
   "metadata": {},
   "outputs": [],
   "source": [
    "print_every = 30"
   ]
  },
  {
   "cell_type": "code",
   "execution_count": 16,
   "metadata": {},
   "outputs": [],
   "source": [
    "total_imgs = len(trainset)"
   ]
  },
  {
   "cell_type": "code",
   "execution_count": 17,
   "metadata": {},
   "outputs": [],
   "source": [
    "from tqdm import tqdm\n",
    "def score(net_name, batch_size=batch_size):\n",
    "    net = eval(net_name)\n",
    "    trainset = torchvision.datasets.ImageFolder(root='../data/train', transform=transform)\n",
    "    trainloader = torch.utils.data.DataLoader(trainset, batch_size=batch_size,\n",
    "                                              shuffle=True, num_workers=2)\n",
    "    \n",
    "    valset = torchvision.datasets.ImageFolder(root='../data/val', transform=transform)\n",
    "    valloader = torch.utils.data.DataLoader(valset, batch_size=batch_size,\n",
    "                                              shuffle=True, num_workers=2)\n",
    "    \n",
    "    train_correct = 0\n",
    "    val_correct = 0\n",
    "    \n",
    "    for inp, label in tqdm(iter(trainloader)):\n",
    "        _, idx = net(Variable(inp).cuda()).max(1)\n",
    "        train_correct += int(sum(idx.cpu().data == label))\n",
    "    \n",
    "    for inp, label in tqdm(iter(valloader)):\n",
    "        _, idx = net(Variable(inp).cuda()).max(1)\n",
    "        val_correct += int(sum(idx.cpu().data == label))\n",
    "    \n",
    "    return {\n",
    "        'train_accu': train_correct/len(trainset),\n",
    "        'val_accu': val_correct/len(valset)\n",
    "    }\n",
    "\n",
    "def train_k_epoch(net_name, k, score_epoch=False):\n",
    "    cls_criterion = nn.CrossEntropyLoss()\n",
    "    optimizer = optim.Adam(filter(lambda p: p.requires_grad, eval(net_name).parameters()))\n",
    "    \n",
    "    for epoch in range(k):\n",
    "        running_loss = 0.0\n",
    "        for i, data in enumerate(trainloader, 0):\n",
    "            inputs, labels = data\n",
    "            inputs, labels = Variable(inputs).cuda(), Variable(labels).cuda()\n",
    "\n",
    "            optimizer.zero_grad()\n",
    "            outputs = eval(net_name)(inputs)\n",
    "            clf_loss = cls_criterion(outputs, labels)\n",
    "            \n",
    "            clf_loss.backward()\n",
    "            optimizer.step()\n",
    "\n",
    "            running_loss += clf_loss.data[0]\n",
    "\n",
    "            if i % print_every == 0:\n",
    "                print('[%5d] iter, [%2f] epoch, classifer loss: %.3f' %\n",
    "                      (i + 1, i*batch_size/total_imgs, running_loss/print_every))\n",
    "                running_loss = 0.0\n",
    "                running_attn_loss = 0.0\n",
    "        if score_epoch:\n",
    "            print(score(net_name, batch_size=32))"
   ]
  },
  {
   "cell_type": "code",
   "execution_count": 18,
   "metadata": {},
   "outputs": [
    {
     "name": "stdout",
     "output_type": "stream",
     "text": [
      "[    1] iter, [0.000000] epoch, classifer loss: 0.165\n",
      "[   31] iter, [0.117633] epoch, classifer loss: 4.395\n",
      "[   61] iter, [0.235265] epoch, classifer loss: 4.284\n",
      "[   91] iter, [0.352898] epoch, classifer loss: 4.213\n",
      "[  121] iter, [0.470531] epoch, classifer loss: 4.137\n",
      "[  151] iter, [0.588163] epoch, classifer loss: 4.144\n",
      "[  181] iter, [0.705796] epoch, classifer loss: 4.146\n",
      "[  211] iter, [0.823429] epoch, classifer loss: 4.021\n",
      "[  241] iter, [0.941061] epoch, classifer loss: 4.063\n"
     ]
    },
    {
     "name": "stderr",
     "output_type": "stream",
     "text": [
      "100%|██████████| 256/256 [01:08<00:00,  3.73it/s]\n",
      "100%|██████████| 55/55 [00:14<00:00,  3.70it/s]"
     ]
    },
    {
     "name": "stdout",
     "output_type": "stream",
     "text": [
      "{'train_accu': 0.09422864844994486, 'val_accu': 0.09407069555302167}\n"
     ]
    },
    {
     "name": "stderr",
     "output_type": "stream",
     "text": [
      "\n"
     ]
    },
    {
     "name": "stdout",
     "output_type": "stream",
     "text": [
      "[    1] iter, [0.000000] epoch, classifer loss: 0.130\n",
      "[   31] iter, [0.117633] epoch, classifer loss: 4.058\n",
      "[   61] iter, [0.235265] epoch, classifer loss: 3.977\n",
      "[   91] iter, [0.352898] epoch, classifer loss: 4.003\n",
      "[  121] iter, [0.470531] epoch, classifer loss: 3.933\n",
      "[  151] iter, [0.588163] epoch, classifer loss: 3.989\n",
      "[  181] iter, [0.705796] epoch, classifer loss: 3.955\n",
      "[  211] iter, [0.823429] epoch, classifer loss: 3.994\n",
      "[  241] iter, [0.941061] epoch, classifer loss: 3.920\n"
     ]
    },
    {
     "name": "stderr",
     "output_type": "stream",
     "text": [
      "100%|██████████| 256/256 [01:08<00:00,  3.72it/s]\n",
      "100%|██████████| 55/55 [00:14<00:00,  3.68it/s]"
     ]
    },
    {
     "name": "stdout",
     "output_type": "stream",
     "text": [
      "{'train_accu': 0.11751010905526284, 'val_accu': 0.11858608893956671}\n"
     ]
    },
    {
     "name": "stderr",
     "output_type": "stream",
     "text": [
      "\n"
     ]
    },
    {
     "name": "stdout",
     "output_type": "stream",
     "text": [
      "[    1] iter, [0.000000] epoch, classifer loss: 0.112\n",
      "[   31] iter, [0.117633] epoch, classifer loss: 3.892\n",
      "[   61] iter, [0.235265] epoch, classifer loss: 3.886\n",
      "[   91] iter, [0.352898] epoch, classifer loss: 3.867\n",
      "[  121] iter, [0.470531] epoch, classifer loss: 3.891\n",
      "[  151] iter, [0.588163] epoch, classifer loss: 3.793\n",
      "[  181] iter, [0.705796] epoch, classifer loss: 3.813\n",
      "[  211] iter, [0.823429] epoch, classifer loss: 3.805\n",
      "[  241] iter, [0.941061] epoch, classifer loss: 3.803\n"
     ]
    },
    {
     "name": "stderr",
     "output_type": "stream",
     "text": [
      "100%|██████████| 256/256 [01:08<00:00,  3.72it/s]\n",
      "100%|██████████| 55/55 [00:14<00:00,  3.68it/s]"
     ]
    },
    {
     "name": "stdout",
     "output_type": "stream",
     "text": [
      "{'train_accu': 0.1539027080014704, 'val_accu': 0.15450399087799316}\n"
     ]
    },
    {
     "name": "stderr",
     "output_type": "stream",
     "text": [
      "\n"
     ]
    },
    {
     "name": "stdout",
     "output_type": "stream",
     "text": [
      "[    1] iter, [0.000000] epoch, classifer loss: 0.134\n",
      "[   31] iter, [0.117633] epoch, classifer loss: 3.737\n",
      "[   61] iter, [0.235265] epoch, classifer loss: 3.726\n",
      "[   91] iter, [0.352898] epoch, classifer loss: 3.757\n",
      "[  121] iter, [0.470531] epoch, classifer loss: 3.674\n",
      "[  151] iter, [0.588163] epoch, classifer loss: 3.686\n",
      "[  181] iter, [0.705796] epoch, classifer loss: 3.790\n",
      "[  211] iter, [0.823429] epoch, classifer loss: 3.759\n",
      "[  241] iter, [0.941061] epoch, classifer loss: 3.729\n"
     ]
    },
    {
     "name": "stderr",
     "output_type": "stream",
     "text": [
      "100%|██████████| 256/256 [01:08<00:00,  3.72it/s]\n",
      "100%|██████████| 55/55 [00:14<00:00,  3.68it/s]"
     ]
    },
    {
     "name": "stdout",
     "output_type": "stream",
     "text": [
      "{'train_accu': 0.1784095086386472, 'val_accu': 0.16875712656784492}\n"
     ]
    },
    {
     "name": "stderr",
     "output_type": "stream",
     "text": [
      "\n"
     ]
    },
    {
     "name": "stdout",
     "output_type": "stream",
     "text": [
      "[    1] iter, [0.000000] epoch, classifer loss: 0.119\n",
      "[   31] iter, [0.117633] epoch, classifer loss: 3.655\n",
      "[   61] iter, [0.235265] epoch, classifer loss: 3.626\n",
      "[   91] iter, [0.352898] epoch, classifer loss: 3.707\n",
      "[  121] iter, [0.470531] epoch, classifer loss: 3.621\n",
      "[  151] iter, [0.588163] epoch, classifer loss: 3.661\n",
      "[  181] iter, [0.705796] epoch, classifer loss: 3.615\n",
      "[  211] iter, [0.823429] epoch, classifer loss: 3.609\n",
      "[  241] iter, [0.941061] epoch, classifer loss: 3.707\n"
     ]
    },
    {
     "name": "stderr",
     "output_type": "stream",
     "text": [
      "100%|██████████| 256/256 [01:08<00:00,  3.71it/s]\n",
      "100%|██████████| 55/55 [00:14<00:00,  3.69it/s]"
     ]
    },
    {
     "name": "stdout",
     "output_type": "stream",
     "text": [
      "{'train_accu': 0.1632152922435976, 'val_accu': 0.16647662485746864}\n"
     ]
    },
    {
     "name": "stderr",
     "output_type": "stream",
     "text": [
      "\n"
     ]
    },
    {
     "name": "stdout",
     "output_type": "stream",
     "text": [
      "[    1] iter, [0.000000] epoch, classifer loss: 0.121\n",
      "[   31] iter, [0.117633] epoch, classifer loss: 3.593\n",
      "[   61] iter, [0.235265] epoch, classifer loss: 3.554\n",
      "[   91] iter, [0.352898] epoch, classifer loss: 3.607\n",
      "[  121] iter, [0.470531] epoch, classifer loss: 3.609\n",
      "[  151] iter, [0.588163] epoch, classifer loss: 3.648\n",
      "[  181] iter, [0.705796] epoch, classifer loss: 3.510\n",
      "[  211] iter, [0.823429] epoch, classifer loss: 3.603\n",
      "[  241] iter, [0.941061] epoch, classifer loss: 3.490\n"
     ]
    },
    {
     "name": "stderr",
     "output_type": "stream",
     "text": [
      "100%|██████████| 256/256 [01:08<00:00,  3.72it/s]\n",
      "100%|██████████| 55/55 [00:14<00:00,  3.68it/s]"
     ]
    },
    {
     "name": "stdout",
     "output_type": "stream",
     "text": [
      "{'train_accu': 0.1608871461830658, 'val_accu': 0.161345496009122}\n"
     ]
    },
    {
     "name": "stderr",
     "output_type": "stream",
     "text": [
      "\n"
     ]
    },
    {
     "name": "stdout",
     "output_type": "stream",
     "text": [
      "[    1] iter, [0.000000] epoch, classifer loss: 0.116\n",
      "[   31] iter, [0.117633] epoch, classifer loss: 3.465\n",
      "[   61] iter, [0.235265] epoch, classifer loss: 3.535\n",
      "[   91] iter, [0.352898] epoch, classifer loss: 3.520\n",
      "[  121] iter, [0.470531] epoch, classifer loss: 3.485\n",
      "[  151] iter, [0.588163] epoch, classifer loss: 3.508\n",
      "[  181] iter, [0.705796] epoch, classifer loss: 3.495\n",
      "[  211] iter, [0.823429] epoch, classifer loss: 3.532\n",
      "[  241] iter, [0.941061] epoch, classifer loss: 3.454\n"
     ]
    },
    {
     "name": "stderr",
     "output_type": "stream",
     "text": [
      "100%|██████████| 256/256 [01:08<00:00,  3.72it/s]\n",
      "100%|██████████| 55/55 [00:14<00:00,  3.69it/s]"
     ]
    },
    {
     "name": "stdout",
     "output_type": "stream",
     "text": [
      "{'train_accu': 0.21443450557529714, 'val_accu': 0.19384264538198404}\n"
     ]
    },
    {
     "name": "stderr",
     "output_type": "stream",
     "text": [
      "\n"
     ]
    },
    {
     "name": "stdout",
     "output_type": "stream",
     "text": [
      "[    1] iter, [0.000000] epoch, classifer loss: 0.132\n",
      "[   31] iter, [0.117633] epoch, classifer loss: 3.501\n",
      "[   61] iter, [0.235265] epoch, classifer loss: 3.469\n",
      "[   91] iter, [0.352898] epoch, classifer loss: 3.489\n",
      "[  121] iter, [0.470531] epoch, classifer loss: 3.327\n",
      "[  151] iter, [0.588163] epoch, classifer loss: 3.397\n",
      "[  181] iter, [0.705796] epoch, classifer loss: 3.376\n",
      "[  211] iter, [0.823429] epoch, classifer loss: 3.519\n",
      "[  241] iter, [0.941061] epoch, classifer loss: 3.442\n"
     ]
    },
    {
     "name": "stderr",
     "output_type": "stream",
     "text": [
      "100%|██████████| 256/256 [01:08<00:00,  3.72it/s]\n",
      "100%|██████████| 55/55 [00:14<00:00,  3.68it/s]"
     ]
    },
    {
     "name": "stdout",
     "output_type": "stream",
     "text": [
      "{'train_accu': 0.20058816321529224, 'val_accu': 0.16875712656784492}\n"
     ]
    },
    {
     "name": "stderr",
     "output_type": "stream",
     "text": [
      "\n"
     ]
    },
    {
     "name": "stdout",
     "output_type": "stream",
     "text": [
      "[    1] iter, [0.000000] epoch, classifer loss: 0.099\n",
      "[   31] iter, [0.117633] epoch, classifer loss: 3.446\n",
      "[   61] iter, [0.235265] epoch, classifer loss: 3.396\n",
      "[   91] iter, [0.352898] epoch, classifer loss: 3.334\n",
      "[  121] iter, [0.470531] epoch, classifer loss: 3.412\n",
      "[  151] iter, [0.588163] epoch, classifer loss: 3.367\n",
      "[  181] iter, [0.705796] epoch, classifer loss: 3.372\n",
      "[  211] iter, [0.823429] epoch, classifer loss: 3.427\n",
      "[  241] iter, [0.941061] epoch, classifer loss: 3.393\n"
     ]
    },
    {
     "name": "stderr",
     "output_type": "stream",
     "text": [
      "100%|██████████| 256/256 [01:08<00:00,  3.72it/s]\n",
      "100%|██████████| 55/55 [00:14<00:00,  3.70it/s]"
     ]
    },
    {
     "name": "stdout",
     "output_type": "stream",
     "text": [
      "{'train_accu': 0.21994853571866194, 'val_accu': 0.19954389965792474}\n"
     ]
    },
    {
     "name": "stderr",
     "output_type": "stream",
     "text": [
      "\n"
     ]
    },
    {
     "name": "stdout",
     "output_type": "stream",
     "text": [
      "[    1] iter, [0.000000] epoch, classifer loss: 0.110\n",
      "[   31] iter, [0.117633] epoch, classifer loss: 3.400\n",
      "[   61] iter, [0.235265] epoch, classifer loss: 3.319\n",
      "[   91] iter, [0.352898] epoch, classifer loss: 3.336\n",
      "[  121] iter, [0.470531] epoch, classifer loss: 3.412\n",
      "[  151] iter, [0.588163] epoch, classifer loss: 3.320\n",
      "[  181] iter, [0.705796] epoch, classifer loss: 3.309\n",
      "[  211] iter, [0.823429] epoch, classifer loss: 3.320\n",
      "[  241] iter, [0.941061] epoch, classifer loss: 3.320\n"
     ]
    },
    {
     "name": "stderr",
     "output_type": "stream",
     "text": [
      "100%|██████████| 256/256 [01:08<00:00,  3.72it/s]\n",
      "100%|██████████| 55/55 [00:14<00:00,  3.70it/s]"
     ]
    },
    {
     "name": "stdout",
     "output_type": "stream",
     "text": [
      "{'train_accu': 0.20904300943511825, 'val_accu': 0.18700114025085518}\n"
     ]
    },
    {
     "name": "stderr",
     "output_type": "stream",
     "text": [
      "\n"
     ]
    }
   ],
   "source": [
    "train_k_epoch('agg', k=10, score_epoch=True)"
   ]
  },
  {
   "cell_type": "code",
   "execution_count": null,
   "metadata": {},
   "outputs": [],
   "source": []
  },
  {
   "cell_type": "code",
   "execution_count": null,
   "metadata": {},
   "outputs": [],
   "source": []
  },
  {
   "cell_type": "code",
   "execution_count": null,
   "metadata": {},
   "outputs": [],
   "source": []
  }
 ],
 "metadata": {
  "kernelspec": {
   "display_name": "Python 3",
   "language": "python",
   "name": "python3"
  },
  "language_info": {
   "codemirror_mode": {
    "name": "ipython",
    "version": 3
   },
   "file_extension": ".py",
   "mimetype": "text/x-python",
   "name": "python",
   "nbconvert_exporter": "python",
   "pygments_lexer": "ipython3",
   "version": "3.6.4"
  }
 },
 "nbformat": 4,
 "nbformat_minor": 2
}
