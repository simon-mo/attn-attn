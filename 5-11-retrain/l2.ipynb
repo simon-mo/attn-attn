{
 "cells": [
  {
   "cell_type": "code",
   "execution_count": 56,
   "metadata": {},
   "outputs": [
    {
     "name": "stdout",
     "output_type": "stream",
     "text": [
      "2018_05_11_07:43:16.726337_ffffffffff_resnet34_None_None.pth\n",
      "2018_05_11_07:52:37.371781_ffaaabaaabaa_resnet34_l2_full.pth\n",
      "2018_05_11_08:29:03.086237_ffffffffff_inception_v3_None_None_inception.pth\n",
      "2018_05_11_10:06:09.015206_ffffffffff_resnet50_None_None_layer4_fc.pth\n",
      "2018_05_11_10:21:38.412821_ffaaabaaabaa_resnet50_l2_full_layer4_fc.pth\n",
      "2018_05_11_21:41:20.255008_faaa_resnet50_l2_full.pth\n",
      "l1.pth\n"
     ]
    }
   ],
   "source": [
    "!ls saved_models/"
   ]
  },
  {
   "cell_type": "code",
   "execution_count": 57,
   "metadata": {},
   "outputs": [],
   "source": [
    "import sys\n",
    "sys.path.insert(0, '..')"
   ]
  },
  {
   "cell_type": "code",
   "execution_count": 58,
   "metadata": {},
   "outputs": [],
   "source": [
    "from AttentionModule import Conv2d_Attn"
   ]
  },
  {
   "cell_type": "code",
   "execution_count": 59,
   "metadata": {},
   "outputs": [],
   "source": [
    "import torch\n",
    "import numpy as np\n",
    "import pandas as pd\n",
    "import matplotlib.pyplot as plt\n",
    "%matplotlib inline\n",
    "\n",
    "import seaborn as sns"
   ]
  },
  {
   "cell_type": "code",
   "execution_count": 60,
   "metadata": {},
   "outputs": [
    {
     "name": "stderr",
     "output_type": "stream",
     "text": [
      "/home/ubuntu/miniconda3/lib/python3.6/site-packages/torch/serialization.py:325: SourceChangeWarning: source code of class 'AttentionModule.Conv2d_Attn' has changed. you can retrieve the original source code by accessing the object's source attribute or set `torch.nn.Module.dump_patches = True` and use the patch tool to revert the changes.\n",
      "  warnings.warn(msg, SourceChangeWarning)\n"
     ]
    }
   ],
   "source": [
    "m = torch.load('saved_models/2018_05_11_07:52:37.371781_ffaaabaaabaa_resnet34_l2_full.pth')"
   ]
  },
  {
   "cell_type": "code",
   "execution_count": 61,
   "metadata": {},
   "outputs": [],
   "source": [
    "# This block turns 'layer1.0.downsample.0.weight' to 'layer1[0].downsample[0].weight'\n",
    "def get_formatted_keys(network_name):\n",
    "    param_keys = list(eval(network_name).state_dict().keys())\n",
    "    formatted_keys = []\n",
    "    for k in param_keys:\n",
    "        found = re.findall(r'\\.[\\d]{1,2}\\.', k)\n",
    "        if len(found):\n",
    "            for f in found:\n",
    "                k = k.replace(f, '[{}].'.format(f.strip('.')))\n",
    "        formatted_keys.append(k)\n",
    "    return formatted_keys\n",
    "    \n",
    "# This block turn off gradient up for all params except attn_weights\n",
    "def turn_off_grad_except(network_name, lst=[]):\n",
    "    formatted_keys = get_formatted_keys(network_name)\n",
    "    for k in formatted_keys:\n",
    "        obj = eval(f'{network_name}.'+k)\n",
    "        for kw in lst:\n",
    "            if not kw in k:\n",
    "                obj.requires_grad = False\n",
    "            else:\n",
    "                obj.requires_grad = True"
   ]
  },
  {
   "cell_type": "code",
   "execution_count": 62,
   "metadata": {},
   "outputs": [],
   "source": [
    "def get_params_objs(name, net):\n",
    "    res = []\n",
    "    for k in get_formatted_keys(net):\n",
    "        obj = eval(f'{net}.'+k)\n",
    "        if name in k:\n",
    "            res.append(obj)\n",
    "    return res"
   ]
  },
  {
   "cell_type": "code",
   "execution_count": 63,
   "metadata": {},
   "outputs": [],
   "source": [
    "import re"
   ]
  },
  {
   "cell_type": "code",
   "execution_count": 64,
   "metadata": {},
   "outputs": [],
   "source": [
    "objs = get_params_objs('attn', 'm')"
   ]
  },
  {
   "cell_type": "code",
   "execution_count": 65,
   "metadata": {},
   "outputs": [],
   "source": [
    "o = objs[0]"
   ]
  },
  {
   "cell_type": "code",
   "execution_count": 66,
   "metadata": {},
   "outputs": [],
   "source": [
    "flat = [o.squeeze().view(-1).data.cpu().numpy() for o in objs]"
   ]
  },
  {
   "cell_type": "code",
   "execution_count": 69,
   "metadata": {},
   "outputs": [],
   "source": [
    "cat = np.concatenate(flat)"
   ]
  },
  {
   "cell_type": "code",
   "execution_count": 74,
   "metadata": {},
   "outputs": [
    {
     "data": {
      "image/png": "[encoded data removed]",
      "text/plain": [
       "<Figure size 576x432 with 1 Axes>"
      ]
     },
     "metadata": {},
     "output_type": "display_data"
    }
   ],
   "source": [
    "plt.figure(figsize=(8,6))\n",
    "plt.hist(cat, bins=100, log=True, label='After')\n",
    "plt.axvspan(0.99, 1.01, label='Before', color='y')\n",
    "plt.legend()\n",
    "plt.xlim((0,2))\n",
    "plt.title(r\"Histogram of Attention Weights Using Modified $\\ell_2$ Regularization\")\n",
    "plt.xlabel('Attention Weight Value')\n",
    "plt.ylabel('Log (Number of Weights)')\n",
    "plt.savefig('hist_2.png')"
   ]
  },
  {
   "cell_type": "code",
   "execution_count": null,
   "metadata": {},
   "outputs": [],
   "source": []
  },
  {
   "cell_type": "code",
   "execution_count": null,
   "metadata": {},
   "outputs": [],
   "source": []
  },
  {
   "cell_type": "code",
   "execution_count": null,
   "metadata": {},
   "outputs": [],
   "source": []
  },
  {
   "cell_type": "code",
   "execution_count": null,
   "metadata": {},
   "outputs": [],
   "source": []
  }
 ],
 "metadata": {
  "kernelspec": {
   "display_name": "Python 3",
   "language": "python",
   "name": "python3"
  },
  "language_info": {
   "codemirror_mode": {
    "name": "ipython",
    "version": 3
   },
   "file_extension": ".py",
   "mimetype": "text/x-python",
   "name": "python",
   "nbconvert_exporter": "python",
   "pygments_lexer": "ipython3",
   "version": "3.6.4"
  }
 },
 "nbformat": 4,
 "nbformat_minor": 2
}
