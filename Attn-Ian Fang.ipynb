{
 "cells": [
  {
   "cell_type": "code",
   "execution_count": 1,
   "metadata": {},
   "outputs": [],
   "source": [
    "from AttentionModule import Conv2d_Attn\n",
    "\n",
    "import torch\n",
    "from torch import nn\n",
    "from torchvision import models, datasets, transforms\n",
    "import torch.optim as optim\n",
    "from torch.autograd import Variable\n",
    "import torchvision\n",
    "import torchvision.transforms as transforms\n",
    "\n",
    "import re\n",
    "import numpy as np\n",
    "import time\n",
    "from tqdm import tqdm"
   ]
  },
  {
   "cell_type": "code",
   "execution_count": 2,
   "metadata": {},
   "outputs": [],
   "source": [
    "resnet_pretrained = models.resnet50(pretrained=True)\n",
    "nn.Conv2d = Conv2d_Attn\n",
    "resnet_attn = models.resnet50()\n",
    "    \n",
    "resnet_attn.load_state_dict(resnet_pretrained.state_dict(), strict=False)\n",
    "# print(resnet_pretrained.state_dist())"
   ]
  },
  {
   "cell_type": "code",
   "execution_count": null,
   "metadata": {},
   "outputs": [],
   "source": []
  },
  {
   "cell_type": "code",
   "execution_count": 3,
   "metadata": {
    "collapsed": true
   },
   "outputs": [],
   "source": [
    "# This block turns 'layer1.0.downsample.0.weight' to 'layer1[0].downsample[0].weight'\n",
    "param_keys = list(resnet_attn.state_dict().keys())\n",
    "formatted_keys = []\n",
    "for k in param_keys:\n",
    "    found = re.findall(r'\\.[\\d]{1,2}\\.', k)\n",
    "    if len(found):\n",
    "        for f in found:\n",
    "            k = k.replace(f, '[{}].'.format(f.strip('.')))\n",
    "    formatted_keys.append(k)"
   ]
  },
  {
   "cell_type": "code",
   "execution_count": 4,
   "metadata": {
    "collapsed": true
   },
   "outputs": [],
   "source": [
    "# This block turn off gradient up for all params except attn_weights\n",
    "def turn_off_grad_except(lst=[]):\n",
    "    turning_off_keys = [k for k in formatted_keys for l in lst if l in k]\n",
    "    for k in formatted_keys:\n",
    "        obj = eval('resnet_attn.'+k)\n",
    "        if k in turning_off_keys:\n",
    "            print(k)\n",
    "            obj.requires_grad = True\n",
    "        else:\n",
    "            obj.requires_grad = False\n",
    "    \n",
    "\n",
    "def turn_on_layer4_conv_weight():\n",
    "    for k in range(3):\n",
    "        for j in range(1, 4):\n",
    "            eval('resnet_attn.layer4[{}].conv{}.weight'.format(k, j)).requires_gred = True"
   ]
  },
  {
   "cell_type": "code",
   "execution_count": 5,
   "metadata": {
    "collapsed": true
   },
   "outputs": [],
   "source": [
    "resnet_attn.fc = nn.Linear(resnet_attn.fc.in_features, 144)"
   ]
  },
  {
   "cell_type": "markdown",
   "metadata": {},
   "source": [
    "Start training"
   ]
  },
  {
   "cell_type": "code",
   "execution_count": 6,
   "metadata": {},
   "outputs": [],
   "source": [
    "batch_size = 32"
   ]
  },
  {
   "cell_type": "code",
   "execution_count": 7,
   "metadata": {},
   "outputs": [],
   "source": [
    "normalize = transforms.Normalize(mean=[0.485, 0.456, 0.406],\n",
    "                                 std=[0.229, 0.224, 0.225])\n",
    "transform = transforms.Compose(\n",
    "    [transforms.ToTensor(),\n",
    "     normalize])\n",
    "\n",
    "trainset = torchvision.datasets.ImageFolder(root='./data/train', transform=transform)\n",
    "trainloader = torch.utils.data.DataLoader(trainset, batch_size=batch_size,\n",
    "                                          shuffle=True, num_workers=2)"
   ]
  },
  {
   "cell_type": "code",
   "execution_count": 8,
   "metadata": {},
   "outputs": [],
   "source": [
    "total_imgs = len(trainset.imgs)"
   ]
  },
  {
   "cell_type": "code",
   "execution_count": 9,
   "metadata": {
    "collapsed": true
   },
   "outputs": [],
   "source": [
    "resnet_attn = resnet_attn.cuda()"
   ]
  },
  {
   "cell_type": "code",
   "execution_count": 10,
   "metadata": {},
   "outputs": [
    {
     "name": "stdout",
     "output_type": "stream",
     "text": [
      "Total number of attention parameters 26560\n"
     ]
    }
   ],
   "source": [
    "total_attn_params = 0\n",
    "for k in formatted_keys:\n",
    "    obj = eval('resnet_attn.'+k)\n",
    "    if 'attn_weights' in k:\n",
    "        total_attn_params += np.prod(obj.shape)\n",
    "print(\"Total number of attention parameters\", total_attn_params)"
   ]
  },
  {
   "cell_type": "markdown",
   "metadata": {},
   "source": [
    "We want the attention parameters to diverge from 1, therefore we penalize element-wise square loss as $\\lambda (1 \\times \\text{# params} - (x - 1)^2)$\n",
    "\n",
    "But this is too big a number,\n",
    "let's try: \n",
    "$- (x - 1)^2$ for now"
   ]
  },
  {
   "cell_type": "code",
   "execution_count": 11,
   "metadata": {},
   "outputs": [],
   "source": [
    "_lambda = 1e-1 #set default"
   ]
  },
  {
   "cell_type": "code",
   "execution_count": 12,
   "metadata": {},
   "outputs": [],
   "source": [
    "def get_params_objs(name, net='resnet_attn'):\n",
    "    res = []\n",
    "    for k in formatted_keys:\n",
    "        obj = eval('{}.'.format(net)+k)\n",
    "        if name in k:\n",
    "            res.append(obj)\n",
    "    return res"
   ]
  },
  {
   "cell_type": "code",
   "execution_count": 13,
   "metadata": {},
   "outputs": [],
   "source": [
    "def compute_attn_loss(n_params=26560):\n",
    "    attns = get_params_objs('attn_weights')\n",
    "#     penality = sum([torch.pow(t - 1,2).mean() for t in attns])\n",
    "    penality = (1000/n_params)*sum([torch.min(torch.pow(t-2, 2), torch.pow(t, 2)).sum() for t in attns])\n",
    "    return (_lambda)*(penality)"
   ]
  },
  {
   "cell_type": "code",
   "execution_count": 14,
   "metadata": {},
   "outputs": [
    {
     "data": {
      "text/plain": [
       "53"
      ]
     },
     "execution_count": 14,
     "metadata": {},
     "output_type": "execute_result"
    }
   ],
   "source": [
    "len(get_params_objs('attn_weights'))"
   ]
  },
  {
   "cell_type": "code",
   "execution_count": 15,
   "metadata": {},
   "outputs": [
    {
     "data": {
      "text/plain": [
       "tensor(100.0000, device='cuda:0')"
      ]
     },
     "execution_count": 15,
     "metadata": {},
     "output_type": "execute_result"
    }
   ],
   "source": [
    "compute_attn_loss()"
   ]
  },
  {
   "cell_type": "code",
   "execution_count": 16,
   "metadata": {},
   "outputs": [],
   "source": [
    "print_every = 20"
   ]
  },
  {
   "cell_type": "code",
   "execution_count": 26,
   "metadata": {},
   "outputs": [],
   "source": [
    "def train_k_epoch(k, add_attn=True, score_epoch=False):\n",
    "    cls_criterion = nn.CrossEntropyLoss()\n",
    "    optimizer = optim.Adam(filter(lambda p: p.requires_grad, resnet_attn.parameters()))\n",
    "    \n",
    "    start = time.time()\n",
    "    \n",
    "    for epoch in range(k):\n",
    "        running_loss = 0.0\n",
    "        running_attn_loss = 0.0\n",
    "\n",
    "        for i, data in enumerate(trainloader, 0):\n",
    "            inputs, labels = data\n",
    "            inputs, labels = Variable(inputs).cuda(), Variable(labels).cuda()\n",
    "\n",
    "            optimizer.zero_grad()\n",
    "            outputs = resnet_attn(inputs)\n",
    "            clf_loss = cls_criterion(outputs, labels)\n",
    "                        \n",
    "            attn_loss = compute_attn_loss()\n",
    "            \n",
    "            if add_attn:\n",
    "                loss = clf_loss + attn_loss\n",
    "            else:\n",
    "                loss = clf_loss\n",
    "\n",
    "            loss.backward()\n",
    "            optimizer.step()\n",
    "\n",
    "            running_loss += clf_loss.data[0]\n",
    "            running_attn_loss += attn_loss.data[0]\n",
    "\n",
    "            if i % print_every == 0:\n",
    "                print('[%5d] iter, [%2f] epoch, classifer loss: %.3f, attn_loss: %.5f' %\n",
    "                      (i + 1, i*batch_size/total_imgs, running_loss/print_every, running_attn_loss/print_every))\n",
    "                running_loss = 0.0\n",
    "                running_attn_loss = 0.0\n",
    "        if score_epoch:\n",
    "            dic = score(batch_size=32)\n",
    "            e_time = time.time() - start\n",
    "            dic['time_elapsed'] = '{:.0f}m {:.0f}s'.format(e_time // 60, e_time%60)\n",
    "            print(dic)"
   ]
  },
  {
   "cell_type": "code",
   "execution_count": 24,
   "metadata": {},
   "outputs": [],
   "source": [
    "\n",
    "def score(net=resnet_attn, batch_size=batch_size):\n",
    "    trainset = torchvision.datasets.ImageFolder(root='./data/train', transform=transform)\n",
    "    trainloader = torch.utils.data.DataLoader(trainset, batch_size=batch_size,\n",
    "                                              shuffle=True, num_workers=2)\n",
    "    \n",
    "    valset = torchvision.datasets.ImageFolder(root='./data/val', transform=transform)\n",
    "    valloader = torch.utils.data.DataLoader(valset, batch_size=batch_size,\n",
    "                                              shuffle=True, num_workers=2)\n",
    "    \n",
    "    train_correct = 0\n",
    "    val_correct_top1 = 0\n",
    "    val_correct_top3 = 0\n",
    "    val_correct_top5 = 0\n",
    "    \n",
    "    for inp, label in tqdm(iter(valloader)):\n",
    "        _, idx = net(Variable(inp).cuda()).topk(1)\n",
    "        val_correct_top1 += int(sum([label[i] in idx.cpu().data[i] for i in range(len(idx))]))\n",
    "        \n",
    "        _, idx = net(Variable(inp).cuda()).topk(3)\n",
    "        val_correct_top3 += int(sum([label[i] in idx.cpu().data[i] for i in range(len(idx))]))\n",
    "        \n",
    "        _, idx = net(Variable(inp).cuda()).topk(5)\n",
    "        val_correct_top5 += int(sum([label[i] in idx.cpu().data[i] for i in range(len(idx))]))\n",
    "        \n",
    "    for inp, label in tqdm(iter(trainloader)):\n",
    "        _, idx = net(Variable(inp).cuda()).topk(1)\n",
    "        train_correct += int(sum([label[i] in idx.cpu().data[i] for i in range(len(idx))]))\n",
    "    \n",
    "    return {\n",
    "        'train_accu': train_correct/len(trainset),\n",
    "        'val_accu_top1': val_correct_top1/len(valset),\n",
    "        'val_accu_top3': val_correct_top3/len(valset),\n",
    "        'val_accu_top5': val_correct_top5/len(valset)\n",
    "    }"
   ]
  },
  {
   "cell_type": "markdown",
   "metadata": {},
   "source": [
    "Train a fresh fc layer. \n",
    "`turn_off_grad_except([])` turns off grads for all weights but the fc layer"
   ]
  },
  {
   "cell_type": "code",
   "execution_count": null,
   "metadata": {},
   "outputs": [
    {
     "name": "stdout",
     "output_type": "stream",
     "text": [
      "fc.weight\n",
      "fc.bias\n"
     ]
    },
    {
     "name": "stderr",
     "output_type": "stream",
     "text": [
      "/usr/local/lib/python3.5/dist-packages/ipykernel_launcher.py:29: UserWarning: invalid index of a 0-dim tensor. This will be an error in PyTorch 0.5. Use tensor.item() to convert a 0-dim tensor to a Python number\n",
      "/usr/local/lib/python3.5/dist-packages/ipykernel_launcher.py:30: UserWarning: invalid index of a 0-dim tensor. This will be an error in PyTorch 0.5. Use tensor.item() to convert a 0-dim tensor to a Python number\n"
     ]
    },
    {
     "name": "stdout",
     "output_type": "stream",
     "text": [
      "[    1] iter, [0.000000] epoch, classifer loss: 0.147, attn_loss: 5.00000\n",
      "[   21] iter, [0.078422] epoch, classifer loss: 3.365, attn_loss: 100.00001\n",
      "[   41] iter, [0.156844] epoch, classifer loss: 2.824, attn_loss: 100.00001\n",
      "[   61] iter, [0.235265] epoch, classifer loss: 2.821, attn_loss: 100.00001\n",
      "[   81] iter, [0.313687] epoch, classifer loss: 2.784, attn_loss: 100.00001\n",
      "[  101] iter, [0.392109] epoch, classifer loss: 2.722, attn_loss: 100.00001\n",
      "[  121] iter, [0.470531] epoch, classifer loss: 2.623, attn_loss: 100.00001\n",
      "[  141] iter, [0.548952] epoch, classifer loss: 2.691, attn_loss: 100.00001\n",
      "[  161] iter, [0.627374] epoch, classifer loss: 2.727, attn_loss: 100.00001\n",
      "[  181] iter, [0.705796] epoch, classifer loss: 2.566, attn_loss: 100.00001\n",
      "[  201] iter, [0.784218] epoch, classifer loss: 2.613, attn_loss: 100.00001\n",
      "[  221] iter, [0.862639] epoch, classifer loss: 2.621, attn_loss: 100.00001\n",
      "[  241] iter, [0.941061] epoch, classifer loss: 2.507, attn_loss: 100.00001\n"
     ]
    },
    {
     "name": "stderr",
     "output_type": "stream",
     "text": [
      "100%|██████████| 55/55 [00:43<00:00,  1.27it/s]\n",
      "100%|██████████| 256/256 [01:07<00:00,  3.78it/s]"
     ]
    },
    {
     "name": "stdout",
     "output_type": "stream",
     "text": [
      "{'val_accu_top5': 0.6180159635119726, 'train_accu': 0.43389290528121555, 'time_elapsed': '2m 59s', 'val_accu_top3': 0.5273660205245154, 'val_accu_top1': 0.3403648802736602}\n"
     ]
    },
    {
     "name": "stderr",
     "output_type": "stream",
     "text": [
      "\n"
     ]
    },
    {
     "name": "stdout",
     "output_type": "stream",
     "text": [
      "[    1] iter, [0.000000] epoch, classifer loss: 0.087, attn_loss: 5.00000\n",
      "[   21] iter, [0.078422] epoch, classifer loss: 2.357, attn_loss: 100.00001\n",
      "[   41] iter, [0.156844] epoch, classifer loss: 2.324, attn_loss: 100.00001\n",
      "[   61] iter, [0.235265] epoch, classifer loss: 2.262, attn_loss: 100.00001\n",
      "[   81] iter, [0.313687] epoch, classifer loss: 2.204, attn_loss: 100.00001\n",
      "[  101] iter, [0.392109] epoch, classifer loss: 2.285, attn_loss: 100.00001\n",
      "[  121] iter, [0.470531] epoch, classifer loss: 2.277, attn_loss: 100.00001\n",
      "[  141] iter, [0.548952] epoch, classifer loss: 2.284, attn_loss: 100.00001\n",
      "[  161] iter, [0.627374] epoch, classifer loss: 2.343, attn_loss: 100.00001\n",
      "[  181] iter, [0.705796] epoch, classifer loss: 2.203, attn_loss: 100.00001\n",
      "[  201] iter, [0.784218] epoch, classifer loss: 2.217, attn_loss: 100.00001\n",
      "[  221] iter, [0.862639] epoch, classifer loss: 2.180, attn_loss: 100.00001\n",
      "[  241] iter, [0.941061] epoch, classifer loss: 2.197, attn_loss: 100.00001\n"
     ]
    },
    {
     "name": "stderr",
     "output_type": "stream",
     "text": [
      "100%|██████████| 55/55 [00:43<00:00,  1.27it/s]\n",
      "100%|██████████| 256/256 [01:07<00:00,  3.77it/s]"
     ]
    },
    {
     "name": "stdout",
     "output_type": "stream",
     "text": [
      "{'val_accu_top5': 0.621436716077537, 'train_accu': 0.4673446881509619, 'time_elapsed': '5m 59s', 'val_accu_top3': 0.5347776510832383, 'val_accu_top1': 0.34207525655644244}\n"
     ]
    },
    {
     "name": "stderr",
     "output_type": "stream",
     "text": [
      "\n"
     ]
    },
    {
     "name": "stdout",
     "output_type": "stream",
     "text": [
      "[    1] iter, [0.000000] epoch, classifer loss: 0.092, attn_loss: 5.00000\n",
      "[   21] iter, [0.078422] epoch, classifer loss: 2.040, attn_loss: 100.00001\n",
      "[   41] iter, [0.156844] epoch, classifer loss: 2.013, attn_loss: 100.00001\n",
      "[   61] iter, [0.235265] epoch, classifer loss: 2.069, attn_loss: 100.00001\n",
      "[   81] iter, [0.313687] epoch, classifer loss: 1.992, attn_loss: 100.00001\n",
      "[  101] iter, [0.392109] epoch, classifer loss: 1.903, attn_loss: 100.00001\n",
      "[  121] iter, [0.470531] epoch, classifer loss: 1.936, attn_loss: 100.00001\n",
      "[  141] iter, [0.548952] epoch, classifer loss: 1.935, attn_loss: 100.00001\n",
      "[  161] iter, [0.627374] epoch, classifer loss: 1.967, attn_loss: 100.00001\n",
      "[  181] iter, [0.705796] epoch, classifer loss: 2.016, attn_loss: 100.00001\n",
      "[  201] iter, [0.784218] epoch, classifer loss: 2.007, attn_loss: 100.00001\n",
      "[  221] iter, [0.862639] epoch, classifer loss: 2.049, attn_loss: 100.00001\n",
      "[  241] iter, [0.941061] epoch, classifer loss: 2.026, attn_loss: 100.00001\n"
     ]
    },
    {
     "name": "stderr",
     "output_type": "stream",
     "text": [
      "100%|██████████| 55/55 [00:43<00:00,  1.27it/s]\n",
      "100%|██████████| 256/256 [01:07<00:00,  3.77it/s]"
     ]
    },
    {
     "name": "stdout",
     "output_type": "stream",
     "text": [
      "{'val_accu_top5': 0.6225769669327252, 'train_accu': 0.4755544663644161, 'time_elapsed': '8m 59s', 'val_accu_top3': 0.5256556442417332, 'val_accu_top1': 0.30786773090079816}\n"
     ]
    },
    {
     "name": "stderr",
     "output_type": "stream",
     "text": [
      "\n"
     ]
    },
    {
     "name": "stdout",
     "output_type": "stream",
     "text": [
      "[    1] iter, [0.000000] epoch, classifer loss: 0.063, attn_loss: 5.00000\n",
      "[   21] iter, [0.078422] epoch, classifer loss: 1.899, attn_loss: 100.00001\n",
      "[   41] iter, [0.156844] epoch, classifer loss: 1.821, attn_loss: 100.00001\n",
      "[   61] iter, [0.235265] epoch, classifer loss: 1.867, attn_loss: 100.00001\n",
      "[   81] iter, [0.313687] epoch, classifer loss: 1.775, attn_loss: 100.00001\n",
      "[  101] iter, [0.392109] epoch, classifer loss: 1.804, attn_loss: 100.00001\n",
      "[  121] iter, [0.470531] epoch, classifer loss: 1.836, attn_loss: 100.00001\n",
      "[  141] iter, [0.548952] epoch, classifer loss: 1.790, attn_loss: 100.00001\n",
      "[  161] iter, [0.627374] epoch, classifer loss: 1.864, attn_loss: 100.00001\n",
      "[  181] iter, [0.705796] epoch, classifer loss: 1.859, attn_loss: 100.00001\n",
      "[  201] iter, [0.784218] epoch, classifer loss: 1.873, attn_loss: 100.00001\n",
      "[  221] iter, [0.862639] epoch, classifer loss: 1.680, attn_loss: 100.00001\n",
      "[  241] iter, [0.941061] epoch, classifer loss: 1.891, attn_loss: 100.00001\n"
     ]
    },
    {
     "name": "stderr",
     "output_type": "stream",
     "text": [
      "100%|██████████| 55/55 [00:43<00:00,  1.27it/s]\n",
      "100%|██████████| 256/256 [01:07<00:00,  3.77it/s]"
     ]
    },
    {
     "name": "stdout",
     "output_type": "stream",
     "text": [
      "{'val_accu_top5': 0.6510832383124288, 'train_accu': 0.5772576890086999, 'time_elapsed': '11m 59s', 'val_accu_top3': 0.5513112884834663, 'val_accu_top1': 0.3443557582668187}\n"
     ]
    },
    {
     "name": "stderr",
     "output_type": "stream",
     "text": [
      "\n"
     ]
    },
    {
     "name": "stdout",
     "output_type": "stream",
     "text": [
      "[    1] iter, [0.000000] epoch, classifer loss: 0.068, attn_loss: 5.00000\n",
      "[   21] iter, [0.078422] epoch, classifer loss: 1.661, attn_loss: 100.00001\n",
      "[   41] iter, [0.156844] epoch, classifer loss: 1.560, attn_loss: 100.00001\n",
      "[   61] iter, [0.235265] epoch, classifer loss: 1.517, attn_loss: 100.00001\n",
      "[   81] iter, [0.313687] epoch, classifer loss: 1.715, attn_loss: 100.00001\n",
      "[  101] iter, [0.392109] epoch, classifer loss: 1.616, attn_loss: 100.00001\n",
      "[  121] iter, [0.470531] epoch, classifer loss: 1.697, attn_loss: 100.00001\n",
      "[  141] iter, [0.548952] epoch, classifer loss: 1.763, attn_loss: 100.00001\n",
      "[  161] iter, [0.627374] epoch, classifer loss: 1.778, attn_loss: 100.00001\n",
      "[  181] iter, [0.705796] epoch, classifer loss: 1.704, attn_loss: 100.00001\n",
      "[  201] iter, [0.784218] epoch, classifer loss: 1.814, attn_loss: 100.00001\n",
      "[  221] iter, [0.862639] epoch, classifer loss: 1.694, attn_loss: 100.00001\n",
      "[  241] iter, [0.941061] epoch, classifer loss: 1.745, attn_loss: 100.00001\n"
     ]
    },
    {
     "name": "stderr",
     "output_type": "stream",
     "text": [
      "100%|██████████| 55/55 [00:43<00:00,  1.27it/s]\n",
      "100%|██████████| 256/256 [01:07<00:00,  3.77it/s]"
     ]
    },
    {
     "name": "stdout",
     "output_type": "stream",
     "text": [
      "{'val_accu_top5': 0.6459521094640821, 'train_accu': 0.5710084548462199, 'time_elapsed': '14m 58s', 'val_accu_top3': 0.5433295324971493, 'val_accu_top1': 0.3289623717217788}\n"
     ]
    },
    {
     "name": "stderr",
     "output_type": "stream",
     "text": [
      "\n"
     ]
    },
    {
     "name": "stdout",
     "output_type": "stream",
     "text": [
      "[    1] iter, [0.000000] epoch, classifer loss: 0.082, attn_loss: 5.00000\n",
      "[   21] iter, [0.078422] epoch, classifer loss: 1.782, attn_loss: 100.00001\n",
      "[   41] iter, [0.156844] epoch, classifer loss: 1.503, attn_loss: 100.00001\n",
      "[   61] iter, [0.235265] epoch, classifer loss: 1.461, attn_loss: 100.00001\n",
      "[   81] iter, [0.313687] epoch, classifer loss: 1.459, attn_loss: 100.00001\n",
      "[  101] iter, [0.392109] epoch, classifer loss: 1.624, attn_loss: 100.00001\n",
      "[  121] iter, [0.470531] epoch, classifer loss: 1.589, attn_loss: 100.00001\n",
      "[  141] iter, [0.548952] epoch, classifer loss: 1.672, attn_loss: 100.00001\n",
      "[  161] iter, [0.627374] epoch, classifer loss: 1.550, attn_loss: 100.00001\n",
      "[  181] iter, [0.705796] epoch, classifer loss: 1.542, attn_loss: 100.00001\n",
      "[  201] iter, [0.784218] epoch, classifer loss: 1.697, attn_loss: 100.00001\n",
      "[  221] iter, [0.862639] epoch, classifer loss: 1.609, attn_loss: 100.00001\n",
      "[  241] iter, [0.941061] epoch, classifer loss: 1.637, attn_loss: 100.00001\n"
     ]
    },
    {
     "name": "stderr",
     "output_type": "stream",
     "text": [
      "100%|██████████| 55/55 [00:43<00:00,  1.27it/s]\n",
      "100%|██████████| 256/256 [01:07<00:00,  3.77it/s]"
     ]
    },
    {
     "name": "stdout",
     "output_type": "stream",
     "text": [
      "{'val_accu_top5': 0.6436716077537058, 'train_accu': 0.6047053057223379, 'time_elapsed': '17m 58s', 'val_accu_top3': 0.5456100342075256, 'val_accu_top1': 0.3289623717217788}\n"
     ]
    },
    {
     "name": "stderr",
     "output_type": "stream",
     "text": [
      "\n"
     ]
    },
    {
     "name": "stdout",
     "output_type": "stream",
     "text": [
      "[    1] iter, [0.000000] epoch, classifer loss: 0.064, attn_loss: 5.00000\n",
      "[   21] iter, [0.078422] epoch, classifer loss: 1.583, attn_loss: 100.00001\n",
      "[   41] iter, [0.156844] epoch, classifer loss: 1.468, attn_loss: 100.00001\n",
      "[   61] iter, [0.235265] epoch, classifer loss: 1.470, attn_loss: 100.00001\n",
      "[   81] iter, [0.313687] epoch, classifer loss: 1.516, attn_loss: 100.00001\n",
      "[  101] iter, [0.392109] epoch, classifer loss: 1.472, attn_loss: 100.00001\n",
      "[  121] iter, [0.470531] epoch, classifer loss: 1.473, attn_loss: 100.00001\n",
      "[  141] iter, [0.548952] epoch, classifer loss: 1.464, attn_loss: 100.00001\n",
      "[  161] iter, [0.627374] epoch, classifer loss: 1.505, attn_loss: 100.00001\n",
      "[  181] iter, [0.705796] epoch, classifer loss: 1.496, attn_loss: 100.00001\n",
      "[  201] iter, [0.784218] epoch, classifer loss: 1.363, attn_loss: 100.00001\n",
      "[  221] iter, [0.862639] epoch, classifer loss: 1.525, attn_loss: 100.00001\n",
      "[  241] iter, [0.941061] epoch, classifer loss: 1.499, attn_loss: 100.00001\n"
     ]
    },
    {
     "name": "stderr",
     "output_type": "stream",
     "text": [
      "100%|██████████| 55/55 [00:43<00:00,  1.27it/s]\n",
      "100%|██████████| 256/256 [01:07<00:00,  3.80it/s]"
     ]
    },
    {
     "name": "stdout",
     "output_type": "stream",
     "text": [
      "{'val_accu_top5': 0.6493728620296465, 'train_accu': 0.6339909324837643, 'time_elapsed': '20m 57s', 'val_accu_top3': 0.556442417331813, 'val_accu_top1': 0.3563283922462942}\n"
     ]
    },
    {
     "name": "stderr",
     "output_type": "stream",
     "text": [
      "\n"
     ]
    },
    {
     "name": "stdout",
     "output_type": "stream",
     "text": [
      "[    1] iter, [0.000000] epoch, classifer loss: 0.063, attn_loss: 5.00000\n",
      "[   21] iter, [0.078422] epoch, classifer loss: 1.444, attn_loss: 100.00001\n",
      "[   41] iter, [0.156844] epoch, classifer loss: 1.400, attn_loss: 100.00001\n",
      "[   61] iter, [0.235265] epoch, classifer loss: 1.262, attn_loss: 100.00001\n",
      "[   81] iter, [0.313687] epoch, classifer loss: 1.227, attn_loss: 100.00001\n",
      "[  101] iter, [0.392109] epoch, classifer loss: 1.289, attn_loss: 100.00001\n",
      "[  121] iter, [0.470531] epoch, classifer loss: 1.385, attn_loss: 100.00001\n",
      "[  141] iter, [0.548952] epoch, classifer loss: 1.449, attn_loss: 100.00001\n",
      "[  161] iter, [0.627374] epoch, classifer loss: 1.471, attn_loss: 100.00001\n",
      "[  181] iter, [0.705796] epoch, classifer loss: 1.410, attn_loss: 100.00001\n",
      "[  201] iter, [0.784218] epoch, classifer loss: 1.405, attn_loss: 100.00001\n",
      "[  221] iter, [0.862639] epoch, classifer loss: 1.536, attn_loss: 100.00001\n",
      "[  241] iter, [0.941061] epoch, classifer loss: 1.363, attn_loss: 100.00001\n"
     ]
    },
    {
     "name": "stderr",
     "output_type": "stream",
     "text": [
      "100%|██████████| 55/55 [00:43<00:00,  1.27it/s]\n",
      "100%|██████████| 256/256 [01:07<00:00,  3.79it/s]"
     ]
    },
    {
     "name": "stdout",
     "output_type": "stream",
     "text": [
      "{'val_accu_top5': 0.6499429874572406, 'train_accu': 0.6553118490381081, 'time_elapsed': '23m 57s', 'val_accu_top3': 0.5615735461801596, 'val_accu_top1': 0.34321550741163054}\n"
     ]
    },
    {
     "name": "stderr",
     "output_type": "stream",
     "text": [
      "\n"
     ]
    },
    {
     "name": "stdout",
     "output_type": "stream",
     "text": [
      "[    1] iter, [0.000000] epoch, classifer loss: 0.061, attn_loss: 5.00000\n",
      "[   21] iter, [0.078422] epoch, classifer loss: 1.411, attn_loss: 100.00001\n",
      "[   41] iter, [0.156844] epoch, classifer loss: 1.302, attn_loss: 100.00001\n",
      "[   61] iter, [0.235265] epoch, classifer loss: 1.244, attn_loss: 100.00001\n",
      "[   81] iter, [0.313687] epoch, classifer loss: 1.324, attn_loss: 100.00001\n",
      "[  101] iter, [0.392109] epoch, classifer loss: 1.249, attn_loss: 100.00001\n",
      "[  121] iter, [0.470531] epoch, classifer loss: 1.258, attn_loss: 100.00001\n",
      "[  141] iter, [0.548952] epoch, classifer loss: 1.309, attn_loss: 100.00001\n",
      "[  161] iter, [0.627374] epoch, classifer loss: 1.387, attn_loss: 100.00001\n",
      "[  181] iter, [0.705796] epoch, classifer loss: 1.306, attn_loss: 100.00001\n",
      "[  201] iter, [0.784218] epoch, classifer loss: 1.412, attn_loss: 100.00001\n",
      "[  221] iter, [0.862639] epoch, classifer loss: 1.387, attn_loss: 100.00001\n",
      "[  241] iter, [0.941061] epoch, classifer loss: 1.388, attn_loss: 100.00001\n"
     ]
    },
    {
     "name": "stderr",
     "output_type": "stream",
     "text": [
      "100%|██████████| 55/55 [00:43<00:00,  1.28it/s]\n",
      "100%|██████████| 256/256 [01:07<00:00,  3.79it/s]"
     ]
    },
    {
     "name": "stdout",
     "output_type": "stream",
     "text": [
      "{'val_accu_top5': 0.636259977194983, 'train_accu': 0.6456316627864233, 'time_elapsed': '26m 55s', 'val_accu_top3': 0.5530216647662486, 'val_accu_top1': 0.3443557582668187}\n"
     ]
    },
    {
     "name": "stderr",
     "output_type": "stream",
     "text": [
      "\n"
     ]
    },
    {
     "name": "stdout",
     "output_type": "stream",
     "text": [
      "[    1] iter, [0.000000] epoch, classifer loss: 0.053, attn_loss: 5.00000\n",
      "[   21] iter, [0.078422] epoch, classifer loss: 1.210, attn_loss: 100.00001\n",
      "[   41] iter, [0.156844] epoch, classifer loss: 1.250, attn_loss: 100.00001\n",
      "[   61] iter, [0.235265] epoch, classifer loss: 1.250, attn_loss: 100.00001\n",
      "[   81] iter, [0.313687] epoch, classifer loss: 1.261, attn_loss: 100.00001\n",
      "[  101] iter, [0.392109] epoch, classifer loss: 1.287, attn_loss: 100.00001\n",
      "[  121] iter, [0.470531] epoch, classifer loss: 1.211, attn_loss: 100.00001\n",
      "[  141] iter, [0.548952] epoch, classifer loss: 1.238, attn_loss: 100.00001\n",
      "[  161] iter, [0.627374] epoch, classifer loss: 1.221, attn_loss: 100.00001\n",
      "[  181] iter, [0.705796] epoch, classifer loss: 1.175, attn_loss: 100.00001\n",
      "[  201] iter, [0.784218] epoch, classifer loss: 1.393, attn_loss: 100.00001\n",
      "[  221] iter, [0.862639] epoch, classifer loss: 1.372, attn_loss: 100.00001\n",
      "[  241] iter, [0.941061] epoch, classifer loss: 1.348, attn_loss: 100.00001\n"
     ]
    },
    {
     "name": "stderr",
     "output_type": "stream",
     "text": [
      "100%|██████████| 55/55 [00:43<00:00,  1.27it/s]\n",
      "100%|██████████| 256/256 [01:07<00:00,  3.79it/s]"
     ]
    },
    {
     "name": "stdout",
     "output_type": "stream",
     "text": [
      "{'val_accu_top5': 0.644811858608894, 'train_accu': 0.6717314054650165, 'time_elapsed': '29m 54s', 'val_accu_top3': 0.556442417331813, 'val_accu_top1': 0.34378563283922464}\n"
     ]
    },
    {
     "name": "stderr",
     "output_type": "stream",
     "text": [
      "\n"
     ]
    },
    {
     "name": "stdout",
     "output_type": "stream",
     "text": [
      "[    1] iter, [0.000000] epoch, classifer loss: 0.061, attn_loss: 5.00000\n",
      "[   21] iter, [0.078422] epoch, classifer loss: 1.348, attn_loss: 100.00001\n",
      "[   41] iter, [0.156844] epoch, classifer loss: 1.270, attn_loss: 100.00001\n",
      "[   61] iter, [0.235265] epoch, classifer loss: 1.183, attn_loss: 100.00001\n",
      "[   81] iter, [0.313687] epoch, classifer loss: 1.213, attn_loss: 100.00001\n",
      "[  101] iter, [0.392109] epoch, classifer loss: 1.261, attn_loss: 100.00001\n",
      "[  121] iter, [0.470531] epoch, classifer loss: 1.218, attn_loss: 100.00001\n",
      "[  141] iter, [0.548952] epoch, classifer loss: 1.161, attn_loss: 100.00001\n",
      "[  161] iter, [0.627374] epoch, classifer loss: 1.208, attn_loss: 100.00001\n",
      "[  181] iter, [0.705796] epoch, classifer loss: 1.231, attn_loss: 100.00001\n",
      "[  201] iter, [0.784218] epoch, classifer loss: 1.243, attn_loss: 100.00001\n",
      "[  221] iter, [0.862639] epoch, classifer loss: 1.281, attn_loss: 100.00001\n",
      "[  241] iter, [0.941061] epoch, classifer loss: 1.388, attn_loss: 100.00001\n"
     ]
    },
    {
     "name": "stderr",
     "output_type": "stream",
     "text": [
      "100%|██████████| 55/55 [00:43<00:00,  1.27it/s]\n",
      "100%|██████████| 256/256 [01:07<00:00,  3.79it/s]"
     ]
    },
    {
     "name": "stdout",
     "output_type": "stream",
     "text": [
      "{'val_accu_top5': 0.644811858608894, 'train_accu': 0.6740595515255483, 'time_elapsed': '32m 54s', 'val_accu_top3': 0.556442417331813, 'val_accu_top1': 0.34321550741163054}\n"
     ]
    },
    {
     "name": "stderr",
     "output_type": "stream",
     "text": [
      "\n"
     ]
    },
    {
     "name": "stdout",
     "output_type": "stream",
     "text": [
      "[    1] iter, [0.000000] epoch, classifer loss: 0.058, attn_loss: 5.00000\n",
      "[   21] iter, [0.078422] epoch, classifer loss: 1.246, attn_loss: 100.00001\n",
      "[   41] iter, [0.156844] epoch, classifer loss: 1.058, attn_loss: 100.00001\n",
      "[   61] iter, [0.235265] epoch, classifer loss: 1.152, attn_loss: 100.00001\n",
      "[   81] iter, [0.313687] epoch, classifer loss: 1.140, attn_loss: 100.00001\n",
      "[  101] iter, [0.392109] epoch, classifer loss: 1.159, attn_loss: 100.00001\n",
      "[  121] iter, [0.470531] epoch, classifer loss: 1.179, attn_loss: 100.00001\n",
      "[  141] iter, [0.548952] epoch, classifer loss: 1.223, attn_loss: 100.00001\n",
      "[  161] iter, [0.627374] epoch, classifer loss: 1.185, attn_loss: 100.00001\n",
      "[  181] iter, [0.705796] epoch, classifer loss: 1.053, attn_loss: 100.00001\n",
      "[  201] iter, [0.784218] epoch, classifer loss: 1.258, attn_loss: 100.00001\n",
      "[  221] iter, [0.862639] epoch, classifer loss: 1.209, attn_loss: 100.00001\n",
      "[  241] iter, [0.941061] epoch, classifer loss: 1.267, attn_loss: 100.00001\n"
     ]
    },
    {
     "name": "stderr",
     "output_type": "stream",
     "text": [
      "100%|██████████| 55/55 [00:43<00:00,  1.27it/s]\n",
      "100%|██████████| 256/256 [01:07<00:00,  3.78it/s]"
     ]
    },
    {
     "name": "stdout",
     "output_type": "stream",
     "text": [
      "{'val_accu_top5': 0.6488027366020525, 'train_accu': 0.6885185639014827, 'time_elapsed': '35m 53s', 'val_accu_top3': 0.5450399087799316, 'val_accu_top1': 0.330672748004561}\n"
     ]
    },
    {
     "name": "stderr",
     "output_type": "stream",
     "text": [
      "\n"
     ]
    },
    {
     "name": "stdout",
     "output_type": "stream",
     "text": [
      "[    1] iter, [0.000000] epoch, classifer loss: 0.051, attn_loss: 5.00000\n",
      "[   21] iter, [0.078422] epoch, classifer loss: 1.238, attn_loss: 100.00001\n",
      "[   41] iter, [0.156844] epoch, classifer loss: 1.149, attn_loss: 100.00001\n",
      "[   61] iter, [0.235265] epoch, classifer loss: 1.003, attn_loss: 100.00001\n",
      "[   81] iter, [0.313687] epoch, classifer loss: 1.097, attn_loss: 100.00001\n",
      "[  101] iter, [0.392109] epoch, classifer loss: 1.074, attn_loss: 100.00001\n",
      "[  121] iter, [0.470531] epoch, classifer loss: 1.094, attn_loss: 100.00001\n",
      "[  141] iter, [0.548952] epoch, classifer loss: 1.126, attn_loss: 100.00001\n",
      "[  161] iter, [0.627374] epoch, classifer loss: 1.171, attn_loss: 100.00001\n",
      "[  181] iter, [0.705796] epoch, classifer loss: 1.160, attn_loss: 100.00001\n",
      "[  201] iter, [0.784218] epoch, classifer loss: 1.146, attn_loss: 100.00001\n",
      "[  221] iter, [0.862639] epoch, classifer loss: 1.223, attn_loss: 100.00001\n",
      "[  241] iter, [0.941061] epoch, classifer loss: 1.132, attn_loss: 100.00001\n"
     ]
    },
    {
     "name": "stderr",
     "output_type": "stream",
     "text": [
      "100%|██████████| 55/55 [00:43<00:00,  1.27it/s]\n",
      "100%|██████████| 256/256 [01:07<00:00,  3.78it/s]"
     ]
    },
    {
     "name": "stdout",
     "output_type": "stream",
     "text": [
      "{'val_accu_top5': 0.6545039908779932, 'train_accu': 0.6931748560225462, 'time_elapsed': '38m 52s', 'val_accu_top3': 0.563854047890536, 'val_accu_top1': 0.3580387685290764}\n"
     ]
    },
    {
     "name": "stderr",
     "output_type": "stream",
     "text": [
      "\n"
     ]
    },
    {
     "name": "stdout",
     "output_type": "stream",
     "text": [
      "[    1] iter, [0.000000] epoch, classifer loss: 0.080, attn_loss: 5.00000\n",
      "[   21] iter, [0.078422] epoch, classifer loss: 1.219, attn_loss: 100.00001\n",
      "[   41] iter, [0.156844] epoch, classifer loss: 1.147, attn_loss: 100.00001\n",
      "[   61] iter, [0.235265] epoch, classifer loss: 1.029, attn_loss: 100.00001\n",
      "[   81] iter, [0.313687] epoch, classifer loss: 1.011, attn_loss: 100.00001\n",
      "[  101] iter, [0.392109] epoch, classifer loss: 1.054, attn_loss: 100.00001\n",
      "[  121] iter, [0.470531] epoch, classifer loss: 0.997, attn_loss: 100.00001\n",
      "[  141] iter, [0.548952] epoch, classifer loss: 1.116, attn_loss: 100.00001\n",
      "[  161] iter, [0.627374] epoch, classifer loss: 1.112, attn_loss: 100.00001\n",
      "[  181] iter, [0.705796] epoch, classifer loss: 1.130, attn_loss: 100.00001\n",
      "[  201] iter, [0.784218] epoch, classifer loss: 1.031, attn_loss: 100.00001\n",
      "[  221] iter, [0.862639] epoch, classifer loss: 1.150, attn_loss: 100.00001\n",
      "[  241] iter, [0.941061] epoch, classifer loss: 1.170, attn_loss: 100.00001\n"
     ]
    },
    {
     "name": "stderr",
     "output_type": "stream",
     "text": [
      "100%|██████████| 55/55 [00:43<00:00,  1.27it/s]\n",
      "100%|██████████| 256/256 [01:07<00:00,  3.78it/s]"
     ]
    },
    {
     "name": "stdout",
     "output_type": "stream",
     "text": [
      "{'val_accu_top5': 0.6482326111744584, 'train_accu': 0.6988114201690969, 'time_elapsed': '41m 51s', 'val_accu_top3': 0.5627137970353477, 'val_accu_top1': 0.34150513112884834}\n"
     ]
    },
    {
     "name": "stderr",
     "output_type": "stream",
     "text": [
      "\n"
     ]
    },
    {
     "name": "stdout",
     "output_type": "stream",
     "text": [
      "[    1] iter, [0.000000] epoch, classifer loss: 0.047, attn_loss: 5.00000\n",
      "[   21] iter, [0.078422] epoch, classifer loss: 1.048, attn_loss: 100.00001\n",
      "[   41] iter, [0.156844] epoch, classifer loss: 0.991, attn_loss: 100.00001\n",
      "[   61] iter, [0.235265] epoch, classifer loss: 0.921, attn_loss: 100.00001\n",
      "[   81] iter, [0.313687] epoch, classifer loss: 1.013, attn_loss: 100.00001\n",
      "[  101] iter, [0.392109] epoch, classifer loss: 1.095, attn_loss: 100.00001\n",
      "[  121] iter, [0.470531] epoch, classifer loss: 1.022, attn_loss: 100.00001\n",
      "[  141] iter, [0.548952] epoch, classifer loss: 0.953, attn_loss: 100.00001\n",
      "[  161] iter, [0.627374] epoch, classifer loss: 1.065, attn_loss: 100.00001\n",
      "[  181] iter, [0.705796] epoch, classifer loss: 1.045, attn_loss: 100.00001\n",
      "[  201] iter, [0.784218] epoch, classifer loss: 1.076, attn_loss: 100.00001\n",
      "[  221] iter, [0.862639] epoch, classifer loss: 1.114, attn_loss: 100.00001\n",
      "[  241] iter, [0.941061] epoch, classifer loss: 1.112, attn_loss: 100.00001\n"
     ]
    },
    {
     "name": "stderr",
     "output_type": "stream",
     "text": [
      "100%|██████████| 55/55 [00:43<00:00,  1.27it/s]\n",
      "100%|██████████| 256/256 [01:07<00:00,  3.78it/s]"
     ]
    },
    {
     "name": "stdout",
     "output_type": "stream",
     "text": [
      "{'val_accu_top5': 0.6470923603192702, 'train_accu': 0.6968508761181228, 'time_elapsed': '44m 51s', 'val_accu_top3': 0.5513112884834663, 'val_accu_top1': 0.33808437856328394}\n"
     ]
    },
    {
     "name": "stderr",
     "output_type": "stream",
     "text": [
      "\n"
     ]
    },
    {
     "name": "stdout",
     "output_type": "stream",
     "text": [
      "[    1] iter, [0.000000] epoch, classifer loss: 0.051, attn_loss: 5.00000\n",
      "[   21] iter, [0.078422] epoch, classifer loss: 1.253, attn_loss: 100.00001\n",
      "[   41] iter, [0.156844] epoch, classifer loss: 0.998, attn_loss: 100.00001\n",
      "[   61] iter, [0.235265] epoch, classifer loss: 1.064, attn_loss: 100.00001\n",
      "[   81] iter, [0.313687] epoch, classifer loss: 1.004, attn_loss: 100.00001\n",
      "[  101] iter, [0.392109] epoch, classifer loss: 1.053, attn_loss: 100.00001\n",
      "[  121] iter, [0.470531] epoch, classifer loss: 0.936, attn_loss: 100.00001\n",
      "[  141] iter, [0.548952] epoch, classifer loss: 1.017, attn_loss: 100.00001\n",
      "[  161] iter, [0.627374] epoch, classifer loss: 1.061, attn_loss: 100.00001\n",
      "[  181] iter, [0.705796] epoch, classifer loss: 1.106, attn_loss: 100.00001\n",
      "[  201] iter, [0.784218] epoch, classifer loss: 0.996, attn_loss: 100.00001\n",
      "[  221] iter, [0.862639] epoch, classifer loss: 1.039, attn_loss: 100.00001\n"
     ]
    },
    {
     "name": "stderr",
     "output_type": "stream",
     "text": [
      "100%|██████████| 55/55 [00:43<00:00,  1.28it/s]\n",
      "100%|██████████| 55/55 [00:43<00:00,  1.27it/s]\n",
      "100%|██████████| 256/256 [01:07<00:00,  3.77it/s]"
     ]
    },
    {
     "name": "stdout",
     "output_type": "stream",
     "text": [
      "{'val_accu_top5': 0.644811858608894, 'train_accu': 0.8207327533390516, 'time_elapsed': '116m 23s', 'val_accu_top3': 0.5627137970353477, 'val_accu_top1': 0.34378563283922464}\n"
     ]
    },
    {
     "name": "stderr",
     "output_type": "stream",
     "text": [
      "\n"
     ]
    },
    {
     "name": "stdout",
     "output_type": "stream",
     "text": [
      "[    1] iter, [0.000000] epoch, classifer loss: 0.037, attn_loss: 5.00000\n",
      "[   21] iter, [0.078422] epoch, classifer loss: 0.699, attn_loss: 100.00001\n",
      "[   41] iter, [0.156844] epoch, classifer loss: 0.625, attn_loss: 100.00001\n",
      "[   61] iter, [0.235265] epoch, classifer loss: 0.546, attn_loss: 100.00001\n",
      "[   81] iter, [0.313687] epoch, classifer loss: 0.610, attn_loss: 100.00001\n",
      "[  101] iter, [0.392109] epoch, classifer loss: 0.681, attn_loss: 100.00001\n",
      "[  121] iter, [0.470531] epoch, classifer loss: 0.534, attn_loss: 100.00001\n",
      "[  141] iter, [0.548952] epoch, classifer loss: 0.610, attn_loss: 100.00001\n",
      "[  161] iter, [0.627374] epoch, classifer loss: 0.613, attn_loss: 100.00001\n",
      "[  181] iter, [0.705796] epoch, classifer loss: 0.703, attn_loss: 100.00001\n",
      "[  201] iter, [0.784218] epoch, classifer loss: 0.589, attn_loss: 100.00001\n",
      "[  221] iter, [0.862639] epoch, classifer loss: 0.748, attn_loss: 100.00001\n",
      "[  241] iter, [0.941061] epoch, classifer loss: 0.634, attn_loss: 100.00001\n"
     ]
    },
    {
     "name": "stderr",
     "output_type": "stream",
     "text": [
      "100%|██████████| 55/55 [00:43<00:00,  1.27it/s]\n",
      "100%|██████████| 256/256 [01:07<00:00,  3.77it/s]"
     ]
    },
    {
     "name": "stdout",
     "output_type": "stream",
     "text": [
      "{'val_accu_top5': 0.6488027366020525, 'train_accu': 0.8385001838010048, 'time_elapsed': '119m 22s', 'val_accu_top3': 0.5627137970353477, 'val_accu_top1': 0.3563283922462942}\n"
     ]
    },
    {
     "name": "stderr",
     "output_type": "stream",
     "text": [
      "\n"
     ]
    },
    {
     "name": "stdout",
     "output_type": "stream",
     "text": [
      "[    1] iter, [0.000000] epoch, classifer loss: 0.030, attn_loss: 5.00000\n",
      "[   21] iter, [0.078422] epoch, classifer loss: 0.710, attn_loss: 100.00001\n",
      "[   41] iter, [0.156844] epoch, classifer loss: 0.637, attn_loss: 100.00001\n",
      "[   61] iter, [0.235265] epoch, classifer loss: 0.553, attn_loss: 100.00001\n",
      "[   81] iter, [0.313687] epoch, classifer loss: 0.622, attn_loss: 100.00001\n",
      "[  101] iter, [0.392109] epoch, classifer loss: 0.571, attn_loss: 100.00001\n",
      "[  121] iter, [0.470531] epoch, classifer loss: 0.576, attn_loss: 100.00001\n",
      "[  141] iter, [0.548952] epoch, classifer loss: 0.616, attn_loss: 100.00001\n",
      "[  161] iter, [0.627374] epoch, classifer loss: 0.670, attn_loss: 100.00001\n",
      "[  181] iter, [0.705796] epoch, classifer loss: 0.569, attn_loss: 100.00001\n",
      "[  201] iter, [0.784218] epoch, classifer loss: 0.690, attn_loss: 100.00001\n",
      "[  221] iter, [0.862639] epoch, classifer loss: 0.680, attn_loss: 100.00001\n",
      "[  241] iter, [0.941061] epoch, classifer loss: 0.620, attn_loss: 100.00001\n"
     ]
    },
    {
     "name": "stderr",
     "output_type": "stream",
     "text": [
      "100%|██████████| 55/55 [00:43<00:00,  1.27it/s]\n",
      "100%|██████████| 256/256 [01:07<00:00,  3.77it/s]"
     ]
    },
    {
     "name": "stdout",
     "output_type": "stream",
     "text": [
      "{'val_accu_top5': 0.637400228050171, 'train_accu': 0.7918147285871829, 'time_elapsed': '122m 21s', 'val_accu_top3': 0.5507411630558723, 'val_accu_top1': 0.3255416191562144}\n"
     ]
    },
    {
     "name": "stderr",
     "output_type": "stream",
     "text": [
      "\n"
     ]
    },
    {
     "name": "stdout",
     "output_type": "stream",
     "text": [
      "[    1] iter, [0.000000] epoch, classifer loss: 0.033, attn_loss: 5.00000\n",
      "[   21] iter, [0.078422] epoch, classifer loss: 0.791, attn_loss: 100.00001\n",
      "[   41] iter, [0.156844] epoch, classifer loss: 0.700, attn_loss: 100.00001\n",
      "[   61] iter, [0.235265] epoch, classifer loss: 0.588, attn_loss: 100.00001\n",
      "[   81] iter, [0.313687] epoch, classifer loss: 0.604, attn_loss: 100.00001\n",
      "[  101] iter, [0.392109] epoch, classifer loss: 0.616, attn_loss: 100.00001\n",
      "[  121] iter, [0.470531] epoch, classifer loss: 0.637, attn_loss: 100.00001\n",
      "[  141] iter, [0.548952] epoch, classifer loss: 0.559, attn_loss: 100.00001\n",
      "[  161] iter, [0.627374] epoch, classifer loss: 0.568, attn_loss: 100.00001\n",
      "[  181] iter, [0.705796] epoch, classifer loss: 0.620, attn_loss: 100.00001\n",
      "[  201] iter, [0.784218] epoch, classifer loss: 0.618, attn_loss: 100.00001\n",
      "[  221] iter, [0.862639] epoch, classifer loss: 0.740, attn_loss: 100.00001\n",
      "[  241] iter, [0.941061] epoch, classifer loss: 0.622, attn_loss: 100.00001\n"
     ]
    },
    {
     "name": "stderr",
     "output_type": "stream",
     "text": [
      "100%|██████████| 55/55 [00:43<00:00,  1.27it/s]\n",
      "100%|██████████| 256/256 [01:07<00:00,  3.77it/s]"
     ]
    },
    {
     "name": "stdout",
     "output_type": "stream",
     "text": [
      "{'val_accu_top5': 0.645381984036488, 'train_accu': 0.8273495895110893, 'time_elapsed': '125m 21s', 'val_accu_top3': 0.5672748004561003, 'val_accu_top1': 0.35290763968072975}\n"
     ]
    },
    {
     "name": "stderr",
     "output_type": "stream",
     "text": [
      "\n"
     ]
    },
    {
     "name": "stdout",
     "output_type": "stream",
     "text": [
      "[    1] iter, [0.000000] epoch, classifer loss: 0.027, attn_loss: 5.00000\n",
      "[   21] iter, [0.078422] epoch, classifer loss: 0.830, attn_loss: 100.00001\n",
      "[   41] iter, [0.156844] epoch, classifer loss: 0.703, attn_loss: 100.00001\n",
      "[   61] iter, [0.235265] epoch, classifer loss: 0.539, attn_loss: 100.00001\n",
      "[   81] iter, [0.313687] epoch, classifer loss: 0.603, attn_loss: 100.00001\n",
      "[  101] iter, [0.392109] epoch, classifer loss: 0.676, attn_loss: 100.00001\n",
      "[  121] iter, [0.470531] epoch, classifer loss: 0.600, attn_loss: 100.00001\n",
      "[  141] iter, [0.548952] epoch, classifer loss: 0.575, attn_loss: 100.00001\n",
      "[  161] iter, [0.627374] epoch, classifer loss: 0.627, attn_loss: 100.00001\n",
      "[  181] iter, [0.705796] epoch, classifer loss: 0.595, attn_loss: 100.00001\n",
      "[  201] iter, [0.784218] epoch, classifer loss: 0.573, attn_loss: 100.00001\n",
      "[  221] iter, [0.862639] epoch, classifer loss: 0.598, attn_loss: 100.00001\n",
      "[  241] iter, [0.941061] epoch, classifer loss: 0.660, attn_loss: 100.00001\n"
     ]
    },
    {
     "name": "stderr",
     "output_type": "stream",
     "text": [
      "100%|██████████| 55/55 [00:43<00:00,  1.27it/s]\n",
      "100%|██████████| 256/256 [01:07<00:00,  3.77it/s]"
     ]
    },
    {
     "name": "stdout",
     "output_type": "stream",
     "text": [
      "{'val_accu_top5': 0.6619156214367161, 'train_accu': 0.847812768043132, 'time_elapsed': '128m 20s', 'val_accu_top3': 0.5689851767388826, 'val_accu_top1': 0.34207525655644244}\n"
     ]
    },
    {
     "name": "stderr",
     "output_type": "stream",
     "text": [
      "\n"
     ]
    },
    {
     "name": "stdout",
     "output_type": "stream",
     "text": [
      "[    1] iter, [0.000000] epoch, classifer loss: 0.023, attn_loss: 5.00000\n",
      "[   21] iter, [0.078422] epoch, classifer loss: 0.756, attn_loss: 100.00001\n",
      "[   41] iter, [0.156844] epoch, classifer loss: 0.559, attn_loss: 100.00001\n",
      "[   61] iter, [0.235265] epoch, classifer loss: 0.640, attn_loss: 100.00001\n",
      "[   81] iter, [0.313687] epoch, classifer loss: 0.537, attn_loss: 100.00001\n",
      "[  101] iter, [0.392109] epoch, classifer loss: 0.615, attn_loss: 100.00001\n",
      "[  121] iter, [0.470531] epoch, classifer loss: 0.558, attn_loss: 100.00001\n"
     ]
    }
   ],
   "source": [
    "turn_off_grad_except(['fc'])\n",
    "turn_on_layer4_conv_weight()\n",
    "resnet_attn.eval()\n",
    "resnet_attn.layer4.train()\n",
    "train_k_epoch(50,score_epoch=True, add_attn=False)"
   ]
  },
  {
   "cell_type": "code",
   "execution_count": 54,
   "metadata": {},
   "outputs": [
    {
     "name": "stderr",
     "output_type": "stream",
     "text": [
      "100%|██████████| 55/55 [00:14<00:00,  3.79it/s]\n"
     ]
    },
    {
     "data": {
      "text/plain": [
       "{'train_accu': 0.0, 'val_accu': 0.5872291904218928}"
      ]
     },
     "execution_count": 54,
     "metadata": {},
     "output_type": "execute_result"
    }
   ],
   "source": []
  },
  {
   "cell_type": "code",
   "execution_count": null,
   "metadata": {},
   "outputs": [],
   "source": [
    "compute_attn_loss()"
   ]
  },
  {
   "cell_type": "code",
   "execution_count": null,
   "metadata": {},
   "outputs": [],
   "source": [
    "_lambda = 0.01"
   ]
  },
  {
   "cell_type": "code",
   "execution_count": null,
   "metadata": {},
   "outputs": [],
   "source": [
    "turn_off_grad_except(['attn_weights','fc', 'layer4'])\n",
    "resnet_attn.eval()\n",
    "train_k_epoch(5,score_epoch=True)"
   ]
  },
  {
   "cell_type": "code",
   "execution_count": 28,
   "metadata": {},
   "outputs": [
    {
     "data": {
      "text/plain": [
       "3"
      ]
     },
     "execution_count": 28,
     "metadata": {},
     "output_type": "execute_result"
    }
   ],
   "source": [
    "3"
   ]
  },
  {
   "cell_type": "code",
   "execution_count": null,
   "metadata": {},
   "outputs": [],
   "source": []
  },
  {
   "cell_type": "code",
   "execution_count": null,
   "metadata": {},
   "outputs": [],
   "source": []
  }
 ],
 "metadata": {
  "kernelspec": {
   "display_name": "Python 3",
   "language": "python",
   "name": "python3"
  },
  "language_info": {
   "codemirror_mode": {
    "name": "ipython",
    "version": 3
   },
   "file_extension": ".py",
   "mimetype": "text/x-python",
   "name": "python",
   "nbconvert_exporter": "python",
   "pygments_lexer": "ipython3",
   "version": "3.5.2"
  }
 },
 "nbformat": 4,
 "nbformat_minor": 2
}
