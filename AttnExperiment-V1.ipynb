{
 "cells": [
  {
   "cell_type": "code",
   "execution_count": 1,
   "metadata": {
    "collapsed": true
   },
   "outputs": [],
   "source": [
    "from AttentionModule import Conv2d_Attn\n",
    "\n",
    "import torch\n",
    "from torch import nn\n",
    "from torchvision import models, datasets, transforms\n",
    "import torch.optim as optim\n",
    "from torch.autograd import Variable\n",
    "import torchvision\n",
    "import torchvision.transforms as transforms\n",
    "\n",
    "import re\n",
    "import numpy as np"
   ]
  },
  {
   "cell_type": "code",
   "execution_count": 2,
   "metadata": {},
   "outputs": [],
   "source": [
    "resnet_pretrained = models.resnet50(pretrained=True)\n",
    "nn.Conv2d = Conv2d_Attn\n",
    "resnet_attn = models.resnet50()\n",
    "resnet_attn.load_state_dict(resnet_pretrained.state_dict(), strict=False)"
   ]
  },
  {
   "cell_type": "code",
   "execution_count": 3,
   "metadata": {
    "collapsed": true
   },
   "outputs": [],
   "source": [
    "# This block turns 'layer1.0.downsample.0.weight' to 'layer1[0].downsample[0].weight'\n",
    "param_keys = list(resnet_attn.state_dict().keys())\n",
    "formatted_keys = []\n",
    "for k in param_keys:\n",
    "    found = re.findall(r'\\.[\\d]{1,2}\\.', k)\n",
    "    if len(found):\n",
    "        for f in found:\n",
    "            k = k.replace(f, '[{}].'.format(f.strip('.')))\n",
    "    formatted_keys.append(k)"
   ]
  },
  {
   "cell_type": "code",
   "execution_count": 4,
   "metadata": {
    "collapsed": true
   },
   "outputs": [],
   "source": [
    "# This block turn off gradient up for all params except attn_weights\n",
    "def turn_off_grad_except(lst=[]):\n",
    "    for k in formatted_keys:\n",
    "        obj = eval('resnet_attn.'+k)\n",
    "        for kw in lst:\n",
    "            if not kw in k:\n",
    "                obj.requires_grad = False\n",
    "            else:\n",
    "                obj.requires_grad = True"
   ]
  },
  {
   "cell_type": "code",
   "execution_count": 5,
   "metadata": {
    "collapsed": true
   },
   "outputs": [],
   "source": [
    "resnet_attn.fc = nn.Linear(resnet_attn.fc.in_features, 144)"
   ]
  },
  {
   "cell_type": "markdown",
   "metadata": {},
   "source": [
    "Start training"
   ]
  },
  {
   "cell_type": "code",
   "execution_count": 6,
   "metadata": {},
   "outputs": [],
   "source": [
    "batch_size = 32"
   ]
  },
  {
   "cell_type": "code",
   "execution_count": 7,
   "metadata": {},
   "outputs": [],
   "source": [
    "normalize = transforms.Normalize(mean=[0.485, 0.456, 0.406],\n",
    "                                 std=[0.229, 0.224, 0.225])\n",
    "transform = transforms.Compose(\n",
    "    [transforms.ToTensor(),\n",
    "     normalize])\n",
    "\n",
    "trainset = torchvision.datasets.ImageFolder(root='./data/train', transform=transform)\n",
    "trainloader = torch.utils.data.DataLoader(trainset, batch_size=batch_size,\n",
    "                                          shuffle=True, num_workers=2)"
   ]
  },
  {
   "cell_type": "code",
   "execution_count": 8,
   "metadata": {},
   "outputs": [],
   "source": [
    "total_imgs = len(trainset.imgs)"
   ]
  },
  {
   "cell_type": "code",
   "execution_count": 9,
   "metadata": {
    "collapsed": true
   },
   "outputs": [],
   "source": [
    "resnet_attn = resnet_attn.cuda()"
   ]
  },
  {
   "cell_type": "code",
   "execution_count": 10,
   "metadata": {},
   "outputs": [
    {
     "name": "stdout",
     "output_type": "stream",
     "text": [
      "Total number of attention parameters 26560\n"
     ]
    }
   ],
   "source": [
    "total_attn_params = 0\n",
    "for k in formatted_keys:\n",
    "    obj = eval('resnet_attn.'+k)\n",
    "    if 'attn_weights' in k:\n",
    "        total_attn_params += np.prod(obj.shape)\n",
    "print(\"Total number of attention parameters\", total_attn_params)"
   ]
  },
  {
   "cell_type": "markdown",
   "metadata": {},
   "source": [
    "We want the attention parameters to diverge from 1, therefore we penalize element-wise square loss as $\\lambda (1 \\times \\text{# params} - (x - 1)^2)$\n",
    "\n",
    "But this is too big a number,\n",
    "let's try: \n",
    "$- (x - 1)^2$ for now"
   ]
  },
  {
   "cell_type": "code",
   "execution_count": 11,
   "metadata": {},
   "outputs": [],
   "source": [
    "_lambda = 1e-2 #set default"
   ]
  },
  {
   "cell_type": "code",
   "execution_count": 12,
   "metadata": {},
   "outputs": [],
   "source": [
    "def get_params_objs(name, net='resnet_attn'):\n",
    "    res = []\n",
    "    for k in formatted_keys:\n",
    "        obj = eval(f'{net}.'+k)\n",
    "        if name in k:\n",
    "            res.append(obj)\n",
    "    return res"
   ]
  },
  {
   "cell_type": "code",
   "execution_count": 13,
   "metadata": {},
   "outputs": [],
   "source": [
    "def compute_attn_loss(n_params=26560):\n",
    "    attns = get_params_objs('attn_weights')\n",
    "    penality = sum([torch.pow(t - 1,2).mean() for t in attns])\n",
    "    return _lambda*(- penality)"
   ]
  },
  {
   "cell_type": "code",
   "execution_count": 14,
   "metadata": {},
   "outputs": [],
   "source": [
    "print_every = 5"
   ]
  },
  {
   "cell_type": "code",
   "execution_count": 15,
   "metadata": {},
   "outputs": [],
   "source": [
    "def train_one_epoch(add_attn=True):\n",
    "    cls_criterion = nn.CrossEntropyLoss()\n",
    "    optimizer = optim.Adam(filter(lambda p: p.requires_grad, resnet_attn.parameters()))\n",
    "    \n",
    "    running_loss = 0.0\n",
    "    running_attn_loss = 0.0\n",
    "    for i, data in enumerate(trainloader, 0):\n",
    "        inputs, labels = data\n",
    "        inputs, labels = Variable(inputs).cuda(), Variable(labels).cuda()\n",
    "\n",
    "        optimizer.zero_grad()\n",
    "        outputs = resnet_attn(inputs)\n",
    "        loss = cls_criterion(outputs, labels)\n",
    "        attn_loss = compute_attn_loss()\n",
    "        if add_attn:\n",
    "            loss += attn_loss\n",
    "\n",
    "        loss.backward()\n",
    "        optimizer.step()\n",
    "\n",
    "\n",
    "        running_loss += loss.data[0]\n",
    "        running_attn_loss += attn_loss.data[0]\n",
    "\n",
    "        if i % print_every == 0:\n",
    "            print('[%5d] iter, [%2f] epoch, avg loss: %.3f, attn_loss: %.5f ' %\n",
    "                  (i + 1, i*batch_size/total_imgs, running_loss/print_every, running_attn_loss/print_every))\n",
    "            running_loss = 0.0\n",
    "            running_attn_loss = 0.0"
   ]
  },
  {
   "cell_type": "code",
   "execution_count": 16,
   "metadata": {},
   "outputs": [],
   "source": [
    "from tqdm import tqdm\n",
    "def score(net=resnet_attn, batch_size=batch_size):\n",
    "    trainset = torchvision.datasets.ImageFolder(root='./data/train', transform=transform)\n",
    "    trainloader = torch.utils.data.DataLoader(trainset, batch_size=batch_size,\n",
    "                                              shuffle=True, num_workers=2)\n",
    "    \n",
    "    valset = torchvision.datasets.ImageFolder(root='./data/val', transform=transform)\n",
    "    valloader = torch.utils.data.DataLoader(valset, batch_size=batch_size,\n",
    "                                              shuffle=True, num_workers=2)\n",
    "    \n",
    "    train_correct = 0\n",
    "    val_correct = 0\n",
    "    \n",
    "    for inp, label in tqdm(iter(trainloader)):\n",
    "        _, idx = net(Variable(inp).cuda()).max(1)\n",
    "        train_correct += int(sum(idx.cpu().data == label))\n",
    "    \n",
    "    for inp, label in tqdm(iter(valloader)):\n",
    "        _, idx = net(Variable(inp).cuda()).max(1)\n",
    "        val_correct += int(sum(idx.cpu().data == label))\n",
    "    \n",
    "    return {\n",
    "        'train_accu': train_correct/len(trainset),\n",
    "        'val_accu': val_correct/len(valset)\n",
    "    }"
   ]
  },
  {
   "cell_type": "markdown",
   "metadata": {},
   "source": [
    "Train a fresh fc layer. \n",
    "`turn_off_grad_except([])` turns off grads for all weights but the fc layer"
   ]
  },
  {
   "cell_type": "code",
   "execution_count": 17,
   "metadata": {},
   "outputs": [
    {
     "name": "stdout",
     "output_type": "stream",
     "text": [
      "[    1] iter, [0.000000] epoch, avg loss: 1.018, attn_loss: 0.00000 \n",
      "[    6] iter, [0.019605] epoch, avg loss: 4.854, attn_loss: 0.00000 \n",
      "[   11] iter, [0.039211] epoch, avg loss: 4.815, attn_loss: 0.00000 \n",
      "[   16] iter, [0.058816] epoch, avg loss: 4.836, attn_loss: 0.00000 \n",
      "[   21] iter, [0.078422] epoch, avg loss: 4.501, attn_loss: 0.00000 \n",
      "[   26] iter, [0.098027] epoch, avg loss: 4.221, attn_loss: 0.00000 \n",
      "[   31] iter, [0.117633] epoch, avg loss: 4.163, attn_loss: 0.00000 \n",
      "[   36] iter, [0.137238] epoch, avg loss: 4.112, attn_loss: 0.00000 \n",
      "[   41] iter, [0.156844] epoch, avg loss: 3.927, attn_loss: 0.00000 \n",
      "[   46] iter, [0.176449] epoch, avg loss: 3.788, attn_loss: 0.00000 \n",
      "[   51] iter, [0.196054] epoch, avg loss: 3.711, attn_loss: 0.00000 \n",
      "[   56] iter, [0.215660] epoch, avg loss: 3.516, attn_loss: 0.00000 \n",
      "[   61] iter, [0.235265] epoch, avg loss: 3.670, attn_loss: 0.00000 \n",
      "[   66] iter, [0.254871] epoch, avg loss: 3.831, attn_loss: 0.00000 \n",
      "[   71] iter, [0.274476] epoch, avg loss: 3.260, attn_loss: 0.00000 \n",
      "[   76] iter, [0.294082] epoch, avg loss: 3.699, attn_loss: 0.00000 \n",
      "[   81] iter, [0.313687] epoch, avg loss: 3.339, attn_loss: 0.00000 \n",
      "[   86] iter, [0.333292] epoch, avg loss: 3.453, attn_loss: 0.00000 \n",
      "[   91] iter, [0.352898] epoch, avg loss: 3.360, attn_loss: 0.00000 \n",
      "[   96] iter, [0.372503] epoch, avg loss: 3.168, attn_loss: 0.00000 \n",
      "[  101] iter, [0.392109] epoch, avg loss: 3.354, attn_loss: 0.00000 \n",
      "[  106] iter, [0.411714] epoch, avg loss: 3.298, attn_loss: 0.00000 \n",
      "[  111] iter, [0.431320] epoch, avg loss: 3.127, attn_loss: 0.00000 \n",
      "[  116] iter, [0.450925] epoch, avg loss: 3.567, attn_loss: 0.00000 \n",
      "[  121] iter, [0.470531] epoch, avg loss: 3.216, attn_loss: 0.00000 \n",
      "[  126] iter, [0.490136] epoch, avg loss: 3.056, attn_loss: 0.00000 \n",
      "[  131] iter, [0.509741] epoch, avg loss: 3.120, attn_loss: 0.00000 \n",
      "[  136] iter, [0.529347] epoch, avg loss: 3.262, attn_loss: 0.00000 \n",
      "[  141] iter, [0.548952] epoch, avg loss: 3.167, attn_loss: 0.00000 \n",
      "[  146] iter, [0.568558] epoch, avg loss: 3.144, attn_loss: 0.00000 \n",
      "[  151] iter, [0.588163] epoch, avg loss: 3.072, attn_loss: 0.00000 \n",
      "[  156] iter, [0.607769] epoch, avg loss: 3.320, attn_loss: 0.00000 \n",
      "[  161] iter, [0.627374] epoch, avg loss: 3.226, attn_loss: 0.00000 \n",
      "[  166] iter, [0.646980] epoch, avg loss: 2.977, attn_loss: 0.00000 \n",
      "[  171] iter, [0.666585] epoch, avg loss: 3.147, attn_loss: 0.00000 \n",
      "[  176] iter, [0.686190] epoch, avg loss: 2.939, attn_loss: 0.00000 \n",
      "[  181] iter, [0.705796] epoch, avg loss: 3.088, attn_loss: 0.00000 \n",
      "[  186] iter, [0.725401] epoch, avg loss: 2.923, attn_loss: 0.00000 \n",
      "[  191] iter, [0.745007] epoch, avg loss: 3.103, attn_loss: 0.00000 \n",
      "[  196] iter, [0.764612] epoch, avg loss: 3.191, attn_loss: 0.00000 \n",
      "[  201] iter, [0.784218] epoch, avg loss: 2.934, attn_loss: 0.00000 \n",
      "[  206] iter, [0.803823] epoch, avg loss: 2.958, attn_loss: 0.00000 \n",
      "[  211] iter, [0.823429] epoch, avg loss: 2.971, attn_loss: 0.00000 \n",
      "[  216] iter, [0.843034] epoch, avg loss: 2.941, attn_loss: 0.00000 \n",
      "[  221] iter, [0.862639] epoch, avg loss: 2.802, attn_loss: 0.00000 \n",
      "[  226] iter, [0.882245] epoch, avg loss: 2.840, attn_loss: 0.00000 \n",
      "[  231] iter, [0.901850] epoch, avg loss: 2.783, attn_loss: 0.00000 \n",
      "[  236] iter, [0.921456] epoch, avg loss: 2.816, attn_loss: 0.00000 \n",
      "[  241] iter, [0.941061] epoch, avg loss: 2.861, attn_loss: 0.00000 \n",
      "[  246] iter, [0.960667] epoch, avg loss: 3.234, attn_loss: 0.00000 \n",
      "[  251] iter, [0.980272] epoch, avg loss: 2.828, attn_loss: 0.00000 \n",
      "[  256] iter, [0.999877] epoch, avg loss: 2.919, attn_loss: 0.00000 \n"
     ]
    }
   ],
   "source": [
    "turn_off_grad_except(['fc'])\n",
    "resnet_attn.eval() # Turn off batchnorm\n",
    "train_one_epoch(add_attn=False)"
   ]
  },
  {
   "cell_type": "code",
   "execution_count": 18,
   "metadata": {},
   "outputs": [
    {
     "name": "stderr",
     "output_type": "stream",
     "text": [
      "100%|██████████| 256/256 [01:05<00:00,  3.89it/s]\n",
      "100%|██████████| 55/55 [00:14<00:00,  3.85it/s]\n"
     ]
    },
    {
     "data": {
      "text/plain": [
       "{'train_accu': 0.37078789364048526, 'val_accu': 0.3055872291904219}"
      ]
     },
     "execution_count": 18,
     "metadata": {},
     "output_type": "execute_result"
    }
   ],
   "source": [
    "score(batch_size=32)"
   ]
  },
  {
   "cell_type": "code",
   "execution_count": 19,
   "metadata": {},
   "outputs": [
    {
     "name": "stdout",
     "output_type": "stream",
     "text": [
      "[    1] iter, [0.000000] epoch, avg loss: 0.624, attn_loss: 0.00000 \n",
      "[    6] iter, [0.019605] epoch, avg loss: 2.288, attn_loss: -0.00002 \n",
      "[   11] iter, [0.039211] epoch, avg loss: 2.600, attn_loss: -0.00007 \n",
      "[   16] iter, [0.058816] epoch, avg loss: 2.352, attn_loss: -0.00014 \n",
      "[   21] iter, [0.078422] epoch, avg loss: 2.410, attn_loss: -0.00022 \n",
      "[   26] iter, [0.098027] epoch, avg loss: 2.336, attn_loss: -0.00030 \n",
      "[   31] iter, [0.117633] epoch, avg loss: 2.486, attn_loss: -0.00037 \n",
      "[   36] iter, [0.137238] epoch, avg loss: 2.101, attn_loss: -0.00044 \n",
      "[   41] iter, [0.156844] epoch, avg loss: 2.588, attn_loss: -0.00050 \n",
      "[   46] iter, [0.176449] epoch, avg loss: 2.310, attn_loss: -0.00054 \n",
      "[   51] iter, [0.196054] epoch, avg loss: 2.062, attn_loss: -0.00059 \n",
      "[   56] iter, [0.215660] epoch, avg loss: 2.520, attn_loss: -0.00064 \n",
      "[   61] iter, [0.235265] epoch, avg loss: 2.321, attn_loss: -0.00070 \n",
      "[   66] iter, [0.254871] epoch, avg loss: 2.101, attn_loss: -0.00078 \n",
      "[   71] iter, [0.274476] epoch, avg loss: 2.453, attn_loss: -0.00087 \n",
      "[   76] iter, [0.294082] epoch, avg loss: 2.164, attn_loss: -0.00097 \n",
      "[   81] iter, [0.313687] epoch, avg loss: 2.189, attn_loss: -0.00107 \n",
      "[   86] iter, [0.333292] epoch, avg loss: 2.289, attn_loss: -0.00118 \n",
      "[   91] iter, [0.352898] epoch, avg loss: 2.163, attn_loss: -0.00128 \n",
      "[   96] iter, [0.372503] epoch, avg loss: 2.304, attn_loss: -0.00139 \n",
      "[  101] iter, [0.392109] epoch, avg loss: 2.297, attn_loss: -0.00150 \n",
      "[  106] iter, [0.411714] epoch, avg loss: 2.223, attn_loss: -0.00162 \n",
      "[  111] iter, [0.431320] epoch, avg loss: 2.145, attn_loss: -0.00173 \n",
      "[  116] iter, [0.450925] epoch, avg loss: 2.302, attn_loss: -0.00186 \n",
      "[  121] iter, [0.470531] epoch, avg loss: 2.165, attn_loss: -0.00198 \n",
      "[  126] iter, [0.490136] epoch, avg loss: 2.263, attn_loss: -0.00212 \n",
      "[  131] iter, [0.509741] epoch, avg loss: 2.402, attn_loss: -0.00227 \n",
      "[  136] iter, [0.529347] epoch, avg loss: 2.200, attn_loss: -0.00242 \n",
      "[  141] iter, [0.548952] epoch, avg loss: 2.016, attn_loss: -0.00259 \n",
      "[  146] iter, [0.568558] epoch, avg loss: 2.119, attn_loss: -0.00276 \n",
      "[  151] iter, [0.588163] epoch, avg loss: 1.857, attn_loss: -0.00292 \n",
      "[  156] iter, [0.607769] epoch, avg loss: 2.393, attn_loss: -0.00309 \n",
      "[  161] iter, [0.627374] epoch, avg loss: 2.235, attn_loss: -0.00326 \n",
      "[  166] iter, [0.646980] epoch, avg loss: 2.141, attn_loss: -0.00345 \n",
      "[  171] iter, [0.666585] epoch, avg loss: 2.423, attn_loss: -0.00363 \n",
      "[  176] iter, [0.686190] epoch, avg loss: 2.163, attn_loss: -0.00383 \n",
      "[  181] iter, [0.705796] epoch, avg loss: 2.239, attn_loss: -0.00403 \n",
      "[  186] iter, [0.725401] epoch, avg loss: 2.235, attn_loss: -0.00425 \n",
      "[  191] iter, [0.745007] epoch, avg loss: 2.385, attn_loss: -0.00446 \n",
      "[  196] iter, [0.764612] epoch, avg loss: 2.455, attn_loss: -0.00468 \n",
      "[  201] iter, [0.784218] epoch, avg loss: 2.117, attn_loss: -0.00490 \n",
      "[  206] iter, [0.803823] epoch, avg loss: 2.229, attn_loss: -0.00515 \n",
      "[  211] iter, [0.823429] epoch, avg loss: 1.803, attn_loss: -0.00540 \n",
      "[  216] iter, [0.843034] epoch, avg loss: 2.187, attn_loss: -0.00568 \n",
      "[  221] iter, [0.862639] epoch, avg loss: 2.233, attn_loss: -0.00596 \n",
      "[  226] iter, [0.882245] epoch, avg loss: 2.018, attn_loss: -0.00625 \n",
      "[  231] iter, [0.901850] epoch, avg loss: 2.327, attn_loss: -0.00654 \n",
      "[  236] iter, [0.921456] epoch, avg loss: 2.120, attn_loss: -0.00685 \n",
      "[  241] iter, [0.941061] epoch, avg loss: 2.258, attn_loss: -0.00717 \n",
      "[  246] iter, [0.960667] epoch, avg loss: 2.374, attn_loss: -0.00751 \n",
      "[  251] iter, [0.980272] epoch, avg loss: 2.187, attn_loss: -0.00785 \n",
      "[  256] iter, [0.999877] epoch, avg loss: 1.731, attn_loss: -0.00820 \n"
     ]
    }
   ],
   "source": [
    "turn_off_grad_except(['attn_weights'])\n",
    "resnet_attn.eval() # Turn on batchnorm\n",
    "_lambda = 1e-1\n",
    "train_one_epoch(add_attn=True)"
   ]
  },
  {
   "cell_type": "code",
   "execution_count": 20,
   "metadata": {},
   "outputs": [
    {
     "name": "stderr",
     "output_type": "stream",
     "text": [
      "100%|██████████| 256/256 [01:06<00:00,  3.85it/s]\n",
      "100%|██████████| 55/55 [00:14<00:00,  3.82it/s]\n"
     ]
    },
    {
     "data": {
      "text/plain": [
       "{'train_accu': 0.45827717191520645, 'val_accu': 0.3751425313568985}"
      ]
     },
     "execution_count": 20,
     "metadata": {},
     "output_type": "execute_result"
    }
   ],
   "source": [
    "score(batch_size=32)"
   ]
  },
  {
   "cell_type": "code",
   "execution_count": 21,
   "metadata": {},
   "outputs": [
    {
     "name": "stdout",
     "output_type": "stream",
     "text": [
      "[    1] iter, [0.000000] epoch, avg loss: 0.389, attn_loss: -0.00168 \n",
      "[    6] iter, [0.019605] epoch, avg loss: 2.650, attn_loss: -0.00842 \n",
      "[   11] iter, [0.039211] epoch, avg loss: 2.801, attn_loss: -0.00842 \n",
      "[   16] iter, [0.058816] epoch, avg loss: 2.877, attn_loss: -0.00842 \n",
      "[   21] iter, [0.078422] epoch, avg loss: 3.073, attn_loss: -0.00842 \n",
      "[   26] iter, [0.098027] epoch, avg loss: 2.721, attn_loss: -0.00842 \n",
      "[   31] iter, [0.117633] epoch, avg loss: 2.312, attn_loss: -0.00842 \n",
      "[   36] iter, [0.137238] epoch, avg loss: 2.597, attn_loss: -0.00842 \n",
      "[   41] iter, [0.156844] epoch, avg loss: 2.399, attn_loss: -0.00842 \n",
      "[   46] iter, [0.176449] epoch, avg loss: 2.233, attn_loss: -0.00842 \n",
      "[   51] iter, [0.196054] epoch, avg loss: 2.282, attn_loss: -0.00842 \n",
      "[   56] iter, [0.215660] epoch, avg loss: 2.544, attn_loss: -0.00842 \n",
      "[   61] iter, [0.235265] epoch, avg loss: 2.520, attn_loss: -0.00842 \n",
      "[   66] iter, [0.254871] epoch, avg loss: 2.512, attn_loss: -0.00842 \n",
      "[   71] iter, [0.274476] epoch, avg loss: 2.161, attn_loss: -0.00842 \n",
      "[   76] iter, [0.294082] epoch, avg loss: 2.202, attn_loss: -0.00842 \n",
      "[   81] iter, [0.313687] epoch, avg loss: 2.175, attn_loss: -0.00842 \n",
      "[   86] iter, [0.333292] epoch, avg loss: 2.353, attn_loss: -0.00842 \n",
      "[   91] iter, [0.352898] epoch, avg loss: 2.167, attn_loss: -0.00842 \n",
      "[   96] iter, [0.372503] epoch, avg loss: 2.225, attn_loss: -0.00842 \n",
      "[  101] iter, [0.392109] epoch, avg loss: 2.041, attn_loss: -0.00842 \n",
      "[  106] iter, [0.411714] epoch, avg loss: 2.415, attn_loss: -0.00842 \n",
      "[  111] iter, [0.431320] epoch, avg loss: 2.310, attn_loss: -0.00842 \n",
      "[  116] iter, [0.450925] epoch, avg loss: 2.125, attn_loss: -0.00842 \n",
      "[  121] iter, [0.470531] epoch, avg loss: 2.303, attn_loss: -0.00842 \n",
      "[  126] iter, [0.490136] epoch, avg loss: 2.132, attn_loss: -0.00842 \n",
      "[  131] iter, [0.509741] epoch, avg loss: 2.529, attn_loss: -0.00842 \n",
      "[  136] iter, [0.529347] epoch, avg loss: 2.309, attn_loss: -0.00842 \n",
      "[  141] iter, [0.548952] epoch, avg loss: 2.168, attn_loss: -0.00842 \n",
      "[  146] iter, [0.568558] epoch, avg loss: 2.053, attn_loss: -0.00842 \n",
      "[  151] iter, [0.588163] epoch, avg loss: 2.054, attn_loss: -0.00842 \n",
      "[  156] iter, [0.607769] epoch, avg loss: 2.259, attn_loss: -0.00842 \n",
      "[  161] iter, [0.627374] epoch, avg loss: 2.313, attn_loss: -0.00842 \n",
      "[  166] iter, [0.646980] epoch, avg loss: 2.048, attn_loss: -0.00842 \n",
      "[  171] iter, [0.666585] epoch, avg loss: 2.456, attn_loss: -0.00842 \n",
      "[  176] iter, [0.686190] epoch, avg loss: 2.328, attn_loss: -0.00842 \n",
      "[  181] iter, [0.705796] epoch, avg loss: 2.558, attn_loss: -0.00842 \n",
      "[  186] iter, [0.725401] epoch, avg loss: 2.411, attn_loss: -0.00842 \n",
      "[  191] iter, [0.745007] epoch, avg loss: 2.258, attn_loss: -0.00842 \n",
      "[  196] iter, [0.764612] epoch, avg loss: 2.456, attn_loss: -0.00842 \n",
      "[  201] iter, [0.784218] epoch, avg loss: 2.142, attn_loss: -0.00842 \n",
      "[  206] iter, [0.803823] epoch, avg loss: 2.190, attn_loss: -0.00842 \n",
      "[  211] iter, [0.823429] epoch, avg loss: 2.467, attn_loss: -0.00842 \n",
      "[  216] iter, [0.843034] epoch, avg loss: 2.005, attn_loss: -0.00842 \n",
      "[  221] iter, [0.862639] epoch, avg loss: 2.271, attn_loss: -0.00842 \n",
      "[  226] iter, [0.882245] epoch, avg loss: 2.133, attn_loss: -0.00842 \n",
      "[  231] iter, [0.901850] epoch, avg loss: 2.178, attn_loss: -0.00842 \n",
      "[  236] iter, [0.921456] epoch, avg loss: 2.213, attn_loss: -0.00842 \n",
      "[  241] iter, [0.941061] epoch, avg loss: 2.398, attn_loss: -0.00842 \n",
      "[  246] iter, [0.960667] epoch, avg loss: 2.230, attn_loss: -0.00842 \n",
      "[  251] iter, [0.980272] epoch, avg loss: 2.236, attn_loss: -0.00842 \n",
      "[  256] iter, [0.999877] epoch, avg loss: 2.273, attn_loss: -0.00842 \n"
     ]
    },
    {
     "name": "stderr",
     "output_type": "stream",
     "text": [
      "100%|██████████| 256/256 [01:06<00:00,  3.84it/s]\n",
      "100%|██████████| 55/55 [00:14<00:00,  3.82it/s]"
     ]
    },
    {
     "name": "stdout",
     "output_type": "stream",
     "text": [
      "{'train_accu': 0.4863374586447739, 'val_accu': 0.3523375142531357}\n"
     ]
    },
    {
     "name": "stderr",
     "output_type": "stream",
     "text": [
      "\n"
     ]
    },
    {
     "name": "stdout",
     "output_type": "stream",
     "text": [
      "[    1] iter, [0.000000] epoch, avg loss: 0.340, attn_loss: -0.00168 \n",
      "[    6] iter, [0.019605] epoch, avg loss: 1.641, attn_loss: -0.00857 \n",
      "[   11] iter, [0.039211] epoch, avg loss: 1.746, attn_loss: -0.00884 \n",
      "[   16] iter, [0.058816] epoch, avg loss: 1.697, attn_loss: -0.00910 \n",
      "[   21] iter, [0.078422] epoch, avg loss: 1.739, attn_loss: -0.00935 \n",
      "[   26] iter, [0.098027] epoch, avg loss: 1.850, attn_loss: -0.00960 \n",
      "[   31] iter, [0.117633] epoch, avg loss: 1.684, attn_loss: -0.00986 \n",
      "[   36] iter, [0.137238] epoch, avg loss: 1.731, attn_loss: -0.01012 \n",
      "[   41] iter, [0.156844] epoch, avg loss: 1.727, attn_loss: -0.01040 \n",
      "[   46] iter, [0.176449] epoch, avg loss: 1.535, attn_loss: -0.01068 \n",
      "[   51] iter, [0.196054] epoch, avg loss: 1.661, attn_loss: -0.01097 \n",
      "[   56] iter, [0.215660] epoch, avg loss: 1.469, attn_loss: -0.01127 \n",
      "[   61] iter, [0.235265] epoch, avg loss: 1.848, attn_loss: -0.01155 \n",
      "[   66] iter, [0.254871] epoch, avg loss: 1.756, attn_loss: -0.01184 \n",
      "[   71] iter, [0.274476] epoch, avg loss: 1.668, attn_loss: -0.01213 \n",
      "[   76] iter, [0.294082] epoch, avg loss: 1.802, attn_loss: -0.01246 \n",
      "[   81] iter, [0.313687] epoch, avg loss: 1.610, attn_loss: -0.01279 \n",
      "[   86] iter, [0.333292] epoch, avg loss: 1.555, attn_loss: -0.01310 \n",
      "[   91] iter, [0.352898] epoch, avg loss: 1.515, attn_loss: -0.01342 \n",
      "[   96] iter, [0.372503] epoch, avg loss: 1.936, attn_loss: -0.01374 \n",
      "[  101] iter, [0.392109] epoch, avg loss: 1.674, attn_loss: -0.01407 \n",
      "[  106] iter, [0.411714] epoch, avg loss: 1.678, attn_loss: -0.01442 \n",
      "[  111] iter, [0.431320] epoch, avg loss: 1.537, attn_loss: -0.01477 \n",
      "[  116] iter, [0.450925] epoch, avg loss: 1.529, attn_loss: -0.01513 \n",
      "[  121] iter, [0.470531] epoch, avg loss: 1.780, attn_loss: -0.01550 \n",
      "[  126] iter, [0.490136] epoch, avg loss: 1.726, attn_loss: -0.01588 \n",
      "[  131] iter, [0.509741] epoch, avg loss: 1.872, attn_loss: -0.01627 \n",
      "[  136] iter, [0.529347] epoch, avg loss: 1.630, attn_loss: -0.01667 \n",
      "[  141] iter, [0.548952] epoch, avg loss: 1.571, attn_loss: -0.01708 \n",
      "[  146] iter, [0.568558] epoch, avg loss: 1.342, attn_loss: -0.01749 \n",
      "[  151] iter, [0.588163] epoch, avg loss: 1.534, attn_loss: -0.01791 \n",
      "[  156] iter, [0.607769] epoch, avg loss: 1.481, attn_loss: -0.01833 \n",
      "[  161] iter, [0.627374] epoch, avg loss: 1.655, attn_loss: -0.01876 \n",
      "[  166] iter, [0.646980] epoch, avg loss: 1.517, attn_loss: -0.01919 \n",
      "[  171] iter, [0.666585] epoch, avg loss: 1.346, attn_loss: -0.01964 \n",
      "[  176] iter, [0.686190] epoch, avg loss: 1.633, attn_loss: -0.02010 \n",
      "[  181] iter, [0.705796] epoch, avg loss: 1.632, attn_loss: -0.02057 \n",
      "[  186] iter, [0.725401] epoch, avg loss: 1.590, attn_loss: -0.02106 \n",
      "[  191] iter, [0.745007] epoch, avg loss: 1.747, attn_loss: -0.02154 \n",
      "[  196] iter, [0.764612] epoch, avg loss: 1.761, attn_loss: -0.02201 \n",
      "[  201] iter, [0.784218] epoch, avg loss: 1.605, attn_loss: -0.02250 \n",
      "[  206] iter, [0.803823] epoch, avg loss: 1.678, attn_loss: -0.02300 \n",
      "[  211] iter, [0.823429] epoch, avg loss: 1.653, attn_loss: -0.02350 \n",
      "[  216] iter, [0.843034] epoch, avg loss: 1.645, attn_loss: -0.02399 \n",
      "[  221] iter, [0.862639] epoch, avg loss: 1.494, attn_loss: -0.02450 \n",
      "[  226] iter, [0.882245] epoch, avg loss: 1.574, attn_loss: -0.02504 \n",
      "[  231] iter, [0.901850] epoch, avg loss: 1.611, attn_loss: -0.02559 \n",
      "[  236] iter, [0.921456] epoch, avg loss: 1.581, attn_loss: -0.02613 \n",
      "[  241] iter, [0.941061] epoch, avg loss: 1.633, attn_loss: -0.02668 \n",
      "[  246] iter, [0.960667] epoch, avg loss: 1.775, attn_loss: -0.02724 \n",
      "[  251] iter, [0.980272] epoch, avg loss: 1.852, attn_loss: -0.02782 \n",
      "[  256] iter, [0.999877] epoch, avg loss: 1.615, attn_loss: -0.02840 \n"
     ]
    },
    {
     "name": "stderr",
     "output_type": "stream",
     "text": [
      "100%|██████████| 256/256 [01:06<00:00,  3.84it/s]\n",
      "100%|██████████| 55/55 [00:14<00:00,  3.81it/s]"
     ]
    },
    {
     "name": "stdout",
     "output_type": "stream",
     "text": [
      "{'train_accu': 0.5705183188334763, 'val_accu': 0.4167616875712657}\n"
     ]
    },
    {
     "name": "stderr",
     "output_type": "stream",
     "text": [
      "\n"
     ]
    }
   ],
   "source": [
    "turn_off_grad_except(['fc'])\n",
    "resnet_attn.eval() # Turn off batchnorm\n",
    "train_one_epoch(add_attn=False)\n",
    "print(score(batch_size=32))\n",
    "\n",
    "turn_off_grad_except(['attn_weights'])\n",
    "resnet_attn.eval() # Turn on batchnorm\n",
    "_lambda = 1e-1\n",
    "train_one_epoch(add_attn=True)\n",
    "print(score(batch_size=32))"
   ]
  },
  {
   "cell_type": "code",
   "execution_count": 23,
   "metadata": {},
   "outputs": [
    {
     "name": "stdout",
     "output_type": "stream",
     "text": [
      "[    1] iter, [0.000000] epoch, avg loss: 0.346, attn_loss: -0.00575 \n",
      "[    6] iter, [0.019605] epoch, avg loss: 2.107, attn_loss: -0.02877 \n",
      "[   11] iter, [0.039211] epoch, avg loss: 2.211, attn_loss: -0.02877 \n",
      "[   16] iter, [0.058816] epoch, avg loss: 2.438, attn_loss: -0.02877 \n",
      "[   21] iter, [0.078422] epoch, avg loss: 2.312, attn_loss: -0.02877 \n",
      "[   26] iter, [0.098027] epoch, avg loss: 2.024, attn_loss: -0.02877 \n",
      "[   31] iter, [0.117633] epoch, avg loss: 1.841, attn_loss: -0.02877 \n",
      "[   36] iter, [0.137238] epoch, avg loss: 1.733, attn_loss: -0.02877 \n",
      "[   41] iter, [0.156844] epoch, avg loss: 1.959, attn_loss: -0.02877 \n",
      "[   46] iter, [0.176449] epoch, avg loss: 1.937, attn_loss: -0.02877 \n",
      "[   51] iter, [0.196054] epoch, avg loss: 1.772, attn_loss: -0.02877 \n",
      "[   56] iter, [0.215660] epoch, avg loss: 1.743, attn_loss: -0.02877 \n",
      "[   61] iter, [0.235265] epoch, avg loss: 1.795, attn_loss: -0.02877 \n",
      "[   66] iter, [0.254871] epoch, avg loss: 1.673, attn_loss: -0.02877 \n",
      "[   71] iter, [0.274476] epoch, avg loss: 1.856, attn_loss: -0.02877 \n",
      "[   76] iter, [0.294082] epoch, avg loss: 2.103, attn_loss: -0.02877 \n",
      "[   81] iter, [0.313687] epoch, avg loss: 1.949, attn_loss: -0.02877 \n",
      "[   86] iter, [0.333292] epoch, avg loss: 2.111, attn_loss: -0.02877 \n",
      "[   91] iter, [0.352898] epoch, avg loss: 1.839, attn_loss: -0.02877 \n",
      "[   96] iter, [0.372503] epoch, avg loss: 1.910, attn_loss: -0.02877 \n",
      "[  101] iter, [0.392109] epoch, avg loss: 1.841, attn_loss: -0.02877 \n",
      "[  106] iter, [0.411714] epoch, avg loss: 2.094, attn_loss: -0.02877 \n",
      "[  111] iter, [0.431320] epoch, avg loss: 1.839, attn_loss: -0.02877 \n",
      "[  116] iter, [0.450925] epoch, avg loss: 1.941, attn_loss: -0.02877 \n",
      "[  121] iter, [0.470531] epoch, avg loss: 1.976, attn_loss: -0.02877 \n",
      "[  126] iter, [0.490136] epoch, avg loss: 1.911, attn_loss: -0.02877 \n",
      "[  131] iter, [0.509741] epoch, avg loss: 2.086, attn_loss: -0.02877 \n",
      "[  136] iter, [0.529347] epoch, avg loss: 1.732, attn_loss: -0.02877 \n",
      "[  141] iter, [0.548952] epoch, avg loss: 1.918, attn_loss: -0.02877 \n",
      "[  146] iter, [0.568558] epoch, avg loss: 1.722, attn_loss: -0.02877 \n",
      "[  151] iter, [0.588163] epoch, avg loss: 1.931, attn_loss: -0.02877 \n",
      "[  156] iter, [0.607769] epoch, avg loss: 1.696, attn_loss: -0.02877 \n",
      "[  161] iter, [0.627374] epoch, avg loss: 1.773, attn_loss: -0.02877 \n",
      "[  166] iter, [0.646980] epoch, avg loss: 2.043, attn_loss: -0.02877 \n",
      "[  171] iter, [0.666585] epoch, avg loss: 1.973, attn_loss: -0.02877 \n",
      "[  176] iter, [0.686190] epoch, avg loss: 2.267, attn_loss: -0.02877 \n",
      "[  181] iter, [0.705796] epoch, avg loss: 1.599, attn_loss: -0.02877 \n",
      "[  186] iter, [0.725401] epoch, avg loss: 1.898, attn_loss: -0.02877 \n",
      "[  191] iter, [0.745007] epoch, avg loss: 1.975, attn_loss: -0.02877 \n",
      "[  196] iter, [0.764612] epoch, avg loss: 1.708, attn_loss: -0.02877 \n",
      "[  201] iter, [0.784218] epoch, avg loss: 2.032, attn_loss: -0.02877 \n",
      "[  206] iter, [0.803823] epoch, avg loss: 2.066, attn_loss: -0.02877 \n",
      "[  211] iter, [0.823429] epoch, avg loss: 2.020, attn_loss: -0.02877 \n",
      "[  216] iter, [0.843034] epoch, avg loss: 1.874, attn_loss: -0.02877 \n",
      "[  221] iter, [0.862639] epoch, avg loss: 1.758, attn_loss: -0.02877 \n",
      "[  226] iter, [0.882245] epoch, avg loss: 1.922, attn_loss: -0.02877 \n",
      "[  231] iter, [0.901850] epoch, avg loss: 1.922, attn_loss: -0.02877 \n",
      "[  236] iter, [0.921456] epoch, avg loss: 1.869, attn_loss: -0.02877 \n",
      "[  241] iter, [0.941061] epoch, avg loss: 2.253, attn_loss: -0.02877 \n",
      "[  246] iter, [0.960667] epoch, avg loss: 1.986, attn_loss: -0.02877 \n",
      "[  251] iter, [0.980272] epoch, avg loss: 1.840, attn_loss: -0.02877 \n",
      "[  256] iter, [0.999877] epoch, avg loss: 1.558, attn_loss: -0.02877 \n"
     ]
    },
    {
     "name": "stderr",
     "output_type": "stream",
     "text": [
      "100%|██████████| 256/256 [01:06<00:00,  3.87it/s]\n",
      "100%|██████████| 55/55 [00:14<00:00,  3.83it/s]"
     ]
    },
    {
     "name": "stdout",
     "output_type": "stream",
     "text": [
      "{'train_accu': 0.5746844749417963, 'val_accu': 0.4007981755986317}\n"
     ]
    },
    {
     "name": "stderr",
     "output_type": "stream",
     "text": [
      "\n"
     ]
    },
    {
     "name": "stdout",
     "output_type": "stream",
     "text": [
      "[    1] iter, [0.000000] epoch, avg loss: 0.226, attn_loss: -0.00575 \n",
      "[    6] iter, [0.019605] epoch, avg loss: 1.400, attn_loss: -0.02911 \n",
      "[   11] iter, [0.039211] epoch, avg loss: 1.350, attn_loss: -0.02961 \n",
      "[   16] iter, [0.058816] epoch, avg loss: 1.405, attn_loss: -0.03011 \n",
      "[   21] iter, [0.078422] epoch, avg loss: 1.386, attn_loss: -0.03061 \n",
      "[   26] iter, [0.098027] epoch, avg loss: 1.310, attn_loss: -0.03111 \n",
      "[   31] iter, [0.117633] epoch, avg loss: 1.287, attn_loss: -0.03162 \n",
      "[   36] iter, [0.137238] epoch, avg loss: 1.437, attn_loss: -0.03214 \n",
      "[   41] iter, [0.156844] epoch, avg loss: 1.188, attn_loss: -0.03268 \n",
      "[   46] iter, [0.176449] epoch, avg loss: 1.414, attn_loss: -0.03321 \n",
      "[   51] iter, [0.196054] epoch, avg loss: 1.284, attn_loss: -0.03376 \n",
      "[   56] iter, [0.215660] epoch, avg loss: 1.241, attn_loss: -0.03432 \n",
      "[   61] iter, [0.235265] epoch, avg loss: 1.471, attn_loss: -0.03488 \n",
      "[   66] iter, [0.254871] epoch, avg loss: 1.321, attn_loss: -0.03544 \n",
      "[   71] iter, [0.274476] epoch, avg loss: 1.250, attn_loss: -0.03599 \n",
      "[   76] iter, [0.294082] epoch, avg loss: 1.240, attn_loss: -0.03655 \n",
      "[   81] iter, [0.313687] epoch, avg loss: 1.215, attn_loss: -0.03714 \n",
      "[   86] iter, [0.333292] epoch, avg loss: 1.342, attn_loss: -0.03772 \n",
      "[   91] iter, [0.352898] epoch, avg loss: 1.173, attn_loss: -0.03833 \n",
      "[   96] iter, [0.372503] epoch, avg loss: 1.337, attn_loss: -0.03894 \n",
      "[  101] iter, [0.392109] epoch, avg loss: 1.412, attn_loss: -0.03955 \n",
      "[  106] iter, [0.411714] epoch, avg loss: 1.324, attn_loss: -0.04017 \n",
      "[  111] iter, [0.431320] epoch, avg loss: 1.473, attn_loss: -0.04079 \n",
      "[  116] iter, [0.450925] epoch, avg loss: 1.310, attn_loss: -0.04142 \n",
      "[  121] iter, [0.470531] epoch, avg loss: 1.240, attn_loss: -0.04205 \n",
      "[  126] iter, [0.490136] epoch, avg loss: 1.462, attn_loss: -0.04268 \n",
      "[  131] iter, [0.509741] epoch, avg loss: 1.245, attn_loss: -0.04331 \n",
      "[  136] iter, [0.529347] epoch, avg loss: 1.302, attn_loss: -0.04395 \n",
      "[  141] iter, [0.548952] epoch, avg loss: 1.266, attn_loss: -0.04460 \n",
      "[  146] iter, [0.568558] epoch, avg loss: 1.185, attn_loss: -0.04527 \n",
      "[  151] iter, [0.588163] epoch, avg loss: 1.309, attn_loss: -0.04594 \n",
      "[  156] iter, [0.607769] epoch, avg loss: 1.151, attn_loss: -0.04664 \n",
      "[  161] iter, [0.627374] epoch, avg loss: 1.115, attn_loss: -0.04735 \n",
      "[  166] iter, [0.646980] epoch, avg loss: 1.351, attn_loss: -0.04806 \n",
      "[  171] iter, [0.666585] epoch, avg loss: 1.243, attn_loss: -0.04878 \n",
      "[  176] iter, [0.686190] epoch, avg loss: 1.375, attn_loss: -0.04951 \n",
      "[  181] iter, [0.705796] epoch, avg loss: 1.148, attn_loss: -0.05025 \n",
      "[  186] iter, [0.725401] epoch, avg loss: 1.221, attn_loss: -0.05100 \n",
      "[  191] iter, [0.745007] epoch, avg loss: 1.148, attn_loss: -0.05177 \n",
      "[  196] iter, [0.764612] epoch, avg loss: 1.338, attn_loss: -0.05252 \n",
      "[  201] iter, [0.784218] epoch, avg loss: 1.436, attn_loss: -0.05326 \n",
      "[  206] iter, [0.803823] epoch, avg loss: 1.211, attn_loss: -0.05399 \n",
      "[  211] iter, [0.823429] epoch, avg loss: 1.155, attn_loss: -0.05474 \n",
      "[  216] iter, [0.843034] epoch, avg loss: 1.226, attn_loss: -0.05550 \n",
      "[  221] iter, [0.862639] epoch, avg loss: 1.285, attn_loss: -0.05629 \n",
      "[  226] iter, [0.882245] epoch, avg loss: 1.088, attn_loss: -0.05710 \n",
      "[  231] iter, [0.901850] epoch, avg loss: 1.121, attn_loss: -0.05793 \n",
      "[  236] iter, [0.921456] epoch, avg loss: 1.293, attn_loss: -0.05876 \n",
      "[  241] iter, [0.941061] epoch, avg loss: 1.290, attn_loss: -0.05958 \n",
      "[  246] iter, [0.960667] epoch, avg loss: 1.477, attn_loss: -0.06042 \n",
      "[  251] iter, [0.980272] epoch, avg loss: 1.275, attn_loss: -0.06126 \n",
      "[  256] iter, [0.999877] epoch, avg loss: 0.970, attn_loss: -0.06209 \n"
     ]
    },
    {
     "name": "stderr",
     "output_type": "stream",
     "text": [
      "100%|██████████| 256/256 [01:06<00:00,  3.84it/s]\n",
      "100%|██████████| 55/55 [00:14<00:00,  3.82it/s]"
     ]
    },
    {
     "name": "stdout",
     "output_type": "stream",
     "text": [
      "{'train_accu': 0.6505330229138586, 'val_accu': 0.43557582668187}\n"
     ]
    },
    {
     "name": "stderr",
     "output_type": "stream",
     "text": [
      "\n"
     ]
    },
    {
     "name": "stdout",
     "output_type": "stream",
     "text": [
      "[    1] iter, [0.000000] epoch, avg loss: 0.341, attn_loss: -0.01252 \n",
      "[    6] iter, [0.019605] epoch, avg loss: 1.816, attn_loss: -0.06258 \n",
      "[   11] iter, [0.039211] epoch, avg loss: 2.096, attn_loss: -0.06258 \n",
      "[   16] iter, [0.058816] epoch, avg loss: 2.150, attn_loss: -0.06258 \n",
      "[   21] iter, [0.078422] epoch, avg loss: 1.884, attn_loss: -0.06258 \n",
      "[   26] iter, [0.098027] epoch, avg loss: 1.458, attn_loss: -0.06258 \n",
      "[   31] iter, [0.117633] epoch, avg loss: 1.623, attn_loss: -0.06258 \n",
      "[   36] iter, [0.137238] epoch, avg loss: 1.748, attn_loss: -0.06258 \n",
      "[   41] iter, [0.156844] epoch, avg loss: 1.695, attn_loss: -0.06258 \n",
      "[   46] iter, [0.176449] epoch, avg loss: 1.509, attn_loss: -0.06258 \n",
      "[   51] iter, [0.196054] epoch, avg loss: 1.515, attn_loss: -0.06258 \n",
      "[   56] iter, [0.215660] epoch, avg loss: 1.704, attn_loss: -0.06258 \n",
      "[   61] iter, [0.235265] epoch, avg loss: 1.415, attn_loss: -0.06258 \n",
      "[   66] iter, [0.254871] epoch, avg loss: 1.762, attn_loss: -0.06258 \n",
      "[   71] iter, [0.274476] epoch, avg loss: 1.459, attn_loss: -0.06258 \n",
      "[   76] iter, [0.294082] epoch, avg loss: 1.446, attn_loss: -0.06258 \n",
      "[   81] iter, [0.313687] epoch, avg loss: 1.739, attn_loss: -0.06258 \n",
      "[   86] iter, [0.333292] epoch, avg loss: 1.548, attn_loss: -0.06258 \n",
      "[   91] iter, [0.352898] epoch, avg loss: 1.518, attn_loss: -0.06258 \n",
      "[   96] iter, [0.372503] epoch, avg loss: 1.345, attn_loss: -0.06258 \n",
      "[  101] iter, [0.392109] epoch, avg loss: 1.525, attn_loss: -0.06258 \n",
      "[  106] iter, [0.411714] epoch, avg loss: 1.783, attn_loss: -0.06258 \n",
      "[  111] iter, [0.431320] epoch, avg loss: 1.479, attn_loss: -0.06258 \n",
      "[  116] iter, [0.450925] epoch, avg loss: 1.275, attn_loss: -0.06258 \n",
      "[  121] iter, [0.470531] epoch, avg loss: 1.584, attn_loss: -0.06258 \n",
      "[  126] iter, [0.490136] epoch, avg loss: 1.698, attn_loss: -0.06258 \n",
      "[  131] iter, [0.509741] epoch, avg loss: 1.731, attn_loss: -0.06258 \n",
      "[  136] iter, [0.529347] epoch, avg loss: 1.306, attn_loss: -0.06258 \n",
      "[  141] iter, [0.548952] epoch, avg loss: 1.830, attn_loss: -0.06258 \n",
      "[  146] iter, [0.568558] epoch, avg loss: 1.714, attn_loss: -0.06258 \n",
      "[  151] iter, [0.588163] epoch, avg loss: 1.253, attn_loss: -0.06258 \n",
      "[  156] iter, [0.607769] epoch, avg loss: 1.635, attn_loss: -0.06258 \n",
      "[  161] iter, [0.627374] epoch, avg loss: 1.505, attn_loss: -0.06258 \n",
      "[  166] iter, [0.646980] epoch, avg loss: 1.446, attn_loss: -0.06258 \n",
      "[  171] iter, [0.666585] epoch, avg loss: 1.313, attn_loss: -0.06258 \n",
      "[  176] iter, [0.686190] epoch, avg loss: 1.746, attn_loss: -0.06258 \n",
      "[  181] iter, [0.705796] epoch, avg loss: 1.802, attn_loss: -0.06258 \n",
      "[  186] iter, [0.725401] epoch, avg loss: 1.833, attn_loss: -0.06258 \n",
      "[  191] iter, [0.745007] epoch, avg loss: 1.499, attn_loss: -0.06258 \n",
      "[  196] iter, [0.764612] epoch, avg loss: 1.710, attn_loss: -0.06258 \n",
      "[  201] iter, [0.784218] epoch, avg loss: 1.894, attn_loss: -0.06258 \n",
      "[  206] iter, [0.803823] epoch, avg loss: 1.634, attn_loss: -0.06258 \n",
      "[  211] iter, [0.823429] epoch, avg loss: 1.995, attn_loss: -0.06258 \n",
      "[  216] iter, [0.843034] epoch, avg loss: 1.573, attn_loss: -0.06258 \n",
      "[  221] iter, [0.862639] epoch, avg loss: 1.632, attn_loss: -0.06258 \n",
      "[  226] iter, [0.882245] epoch, avg loss: 1.676, attn_loss: -0.06258 \n",
      "[  231] iter, [0.901850] epoch, avg loss: 1.639, attn_loss: -0.06258 \n",
      "[  236] iter, [0.921456] epoch, avg loss: 1.526, attn_loss: -0.06258 \n",
      "[  241] iter, [0.941061] epoch, avg loss: 1.644, attn_loss: -0.06258 \n",
      "[  246] iter, [0.960667] epoch, avg loss: 1.453, attn_loss: -0.06258 \n",
      "[  251] iter, [0.980272] epoch, avg loss: 1.635, attn_loss: -0.06258 \n",
      "[  256] iter, [0.999877] epoch, avg loss: 1.808, attn_loss: -0.06258 \n"
     ]
    },
    {
     "name": "stderr",
     "output_type": "stream",
     "text": [
      "100%|██████████| 256/256 [01:06<00:00,  3.85it/s]\n",
      "100%|██████████| 55/55 [00:14<00:00,  3.82it/s]"
     ]
    },
    {
     "name": "stdout",
     "output_type": "stream",
     "text": [
      "{'train_accu': 0.6560470530572233, 'val_accu': 0.42303306727480045}\n"
     ]
    },
    {
     "name": "stderr",
     "output_type": "stream",
     "text": [
      "\n"
     ]
    },
    {
     "name": "stdout",
     "output_type": "stream",
     "text": [
      "[    1] iter, [0.000000] epoch, avg loss: 0.214, attn_loss: -0.01252 \n",
      "[    6] iter, [0.019605] epoch, avg loss: 1.285, attn_loss: -0.06302 \n",
      "[   11] iter, [0.039211] epoch, avg loss: 1.144, attn_loss: -0.06378 \n",
      "[   16] iter, [0.058816] epoch, avg loss: 0.992, attn_loss: -0.06453 \n",
      "[   21] iter, [0.078422] epoch, avg loss: 1.105, attn_loss: -0.06530 \n",
      "[   26] iter, [0.098027] epoch, avg loss: 1.315, attn_loss: -0.06609 \n",
      "[   31] iter, [0.117633] epoch, avg loss: 1.066, attn_loss: -0.06689 \n",
      "[   36] iter, [0.137238] epoch, avg loss: 1.213, attn_loss: -0.06770 \n",
      "[   41] iter, [0.156844] epoch, avg loss: 1.319, attn_loss: -0.06851 \n",
      "[   46] iter, [0.176449] epoch, avg loss: 1.099, attn_loss: -0.06932 \n",
      "[   51] iter, [0.196054] epoch, avg loss: 1.145, attn_loss: -0.07015 \n",
      "[   56] iter, [0.215660] epoch, avg loss: 1.085, attn_loss: -0.07102 \n",
      "[   61] iter, [0.235265] epoch, avg loss: 1.228, attn_loss: -0.07189 \n",
      "[   66] iter, [0.254871] epoch, avg loss: 0.953, attn_loss: -0.07272 \n",
      "[   71] iter, [0.274476] epoch, avg loss: 1.022, attn_loss: -0.07355 \n",
      "[   76] iter, [0.294082] epoch, avg loss: 0.963, attn_loss: -0.07438 \n",
      "[   81] iter, [0.313687] epoch, avg loss: 0.942, attn_loss: -0.07523 \n",
      "[   86] iter, [0.333292] epoch, avg loss: 1.134, attn_loss: -0.07609 \n",
      "[   91] iter, [0.352898] epoch, avg loss: 0.924, attn_loss: -0.07698 \n",
      "[   96] iter, [0.372503] epoch, avg loss: 1.094, attn_loss: -0.07789 \n",
      "[  101] iter, [0.392109] epoch, avg loss: 1.037, attn_loss: -0.07881 \n",
      "[  106] iter, [0.411714] epoch, avg loss: 0.881, attn_loss: -0.07974 \n",
      "[  111] iter, [0.431320] epoch, avg loss: 1.043, attn_loss: -0.08068 \n",
      "[  116] iter, [0.450925] epoch, avg loss: 1.049, attn_loss: -0.08163 \n",
      "[  121] iter, [0.470531] epoch, avg loss: 1.185, attn_loss: -0.08259 \n",
      "[  126] iter, [0.490136] epoch, avg loss: 1.153, attn_loss: -0.08353 \n",
      "[  131] iter, [0.509741] epoch, avg loss: 0.967, attn_loss: -0.08448 \n",
      "[  136] iter, [0.529347] epoch, avg loss: 1.174, attn_loss: -0.08545 \n",
      "[  141] iter, [0.548952] epoch, avg loss: 0.899, attn_loss: -0.08642 \n",
      "[  146] iter, [0.568558] epoch, avg loss: 0.999, attn_loss: -0.08738 \n",
      "[  151] iter, [0.588163] epoch, avg loss: 0.917, attn_loss: -0.08835 \n",
      "[  156] iter, [0.607769] epoch, avg loss: 1.050, attn_loss: -0.08932 \n",
      "[  161] iter, [0.627374] epoch, avg loss: 1.062, attn_loss: -0.09032 \n",
      "[  166] iter, [0.646980] epoch, avg loss: 0.880, attn_loss: -0.09135 \n",
      "[  171] iter, [0.666585] epoch, avg loss: 1.085, attn_loss: -0.09240 \n",
      "[  176] iter, [0.686190] epoch, avg loss: 0.894, attn_loss: -0.09346 \n",
      "[  181] iter, [0.705796] epoch, avg loss: 0.966, attn_loss: -0.09450 \n",
      "[  186] iter, [0.725401] epoch, avg loss: 1.160, attn_loss: -0.09552 \n",
      "[  191] iter, [0.745007] epoch, avg loss: 0.809, attn_loss: -0.09654 \n",
      "[  196] iter, [0.764612] epoch, avg loss: 0.990, attn_loss: -0.09759 \n",
      "[  201] iter, [0.784218] epoch, avg loss: 0.967, attn_loss: -0.09866 \n",
      "[  206] iter, [0.803823] epoch, avg loss: 1.001, attn_loss: -0.09974 \n",
      "[  211] iter, [0.823429] epoch, avg loss: 1.088, attn_loss: -0.10082 \n",
      "[  216] iter, [0.843034] epoch, avg loss: 1.063, attn_loss: -0.10189 \n",
      "[  221] iter, [0.862639] epoch, avg loss: 0.966, attn_loss: -0.10298 \n",
      "[  226] iter, [0.882245] epoch, avg loss: 0.921, attn_loss: -0.10408 \n",
      "[  231] iter, [0.901850] epoch, avg loss: 0.853, attn_loss: -0.10521 \n",
      "[  236] iter, [0.921456] epoch, avg loss: 0.925, attn_loss: -0.10636 \n",
      "[  241] iter, [0.941061] epoch, avg loss: 1.002, attn_loss: -0.10751 \n",
      "[  246] iter, [0.960667] epoch, avg loss: 0.860, attn_loss: -0.10866 \n",
      "[  251] iter, [0.980272] epoch, avg loss: 1.130, attn_loss: -0.10981 \n",
      "[  256] iter, [0.999877] epoch, avg loss: 0.905, attn_loss: -0.11094 \n"
     ]
    },
    {
     "name": "stderr",
     "output_type": "stream",
     "text": [
      "100%|██████████| 256/256 [01:06<00:00,  3.84it/s]\n",
      "100%|██████████| 55/55 [00:14<00:00,  3.82it/s]"
     ]
    },
    {
     "name": "stdout",
     "output_type": "stream",
     "text": [
      "{'train_accu': 0.7155985786055631, 'val_accu': 0.44070695553021666}\n"
     ]
    },
    {
     "name": "stderr",
     "output_type": "stream",
     "text": [
      "\n"
     ]
    },
    {
     "name": "stdout",
     "output_type": "stream",
     "text": [
      "[    1] iter, [0.000000] epoch, avg loss: 0.256, attn_loss: -0.02232 \n",
      "[    6] iter, [0.019605] epoch, avg loss: 1.653, attn_loss: -0.11162 \n",
      "[   11] iter, [0.039211] epoch, avg loss: 1.558, attn_loss: -0.11162 \n",
      "[   16] iter, [0.058816] epoch, avg loss: 1.994, attn_loss: -0.11162 \n",
      "[   21] iter, [0.078422] epoch, avg loss: 1.967, attn_loss: -0.11162 \n",
      "[   26] iter, [0.098027] epoch, avg loss: 1.938, attn_loss: -0.11162 \n",
      "[   31] iter, [0.117633] epoch, avg loss: 1.782, attn_loss: -0.11162 \n",
      "[   36] iter, [0.137238] epoch, avg loss: 1.585, attn_loss: -0.11162 \n",
      "[   41] iter, [0.156844] epoch, avg loss: 1.319, attn_loss: -0.11162 \n",
      "[   46] iter, [0.176449] epoch, avg loss: 1.529, attn_loss: -0.11162 \n",
      "[   51] iter, [0.196054] epoch, avg loss: 1.359, attn_loss: -0.11162 \n",
      "[   56] iter, [0.215660] epoch, avg loss: 1.322, attn_loss: -0.11162 \n",
      "[   61] iter, [0.235265] epoch, avg loss: 1.211, attn_loss: -0.11162 \n",
      "[   66] iter, [0.254871] epoch, avg loss: 1.330, attn_loss: -0.11162 \n",
      "[   71] iter, [0.274476] epoch, avg loss: 1.228, attn_loss: -0.11162 \n",
      "[   76] iter, [0.294082] epoch, avg loss: 1.395, attn_loss: -0.11162 \n",
      "[   81] iter, [0.313687] epoch, avg loss: 1.110, attn_loss: -0.11162 \n",
      "[   86] iter, [0.333292] epoch, avg loss: 1.132, attn_loss: -0.11162 \n",
      "[   91] iter, [0.352898] epoch, avg loss: 1.275, attn_loss: -0.11162 \n",
      "[   96] iter, [0.372503] epoch, avg loss: 1.334, attn_loss: -0.11162 \n",
      "[  101] iter, [0.392109] epoch, avg loss: 1.163, attn_loss: -0.11162 \n",
      "[  106] iter, [0.411714] epoch, avg loss: 1.357, attn_loss: -0.11162 \n",
      "[  111] iter, [0.431320] epoch, avg loss: 1.269, attn_loss: -0.11162 \n",
      "[  116] iter, [0.450925] epoch, avg loss: 1.362, attn_loss: -0.11162 \n",
      "[  121] iter, [0.470531] epoch, avg loss: 1.111, attn_loss: -0.11162 \n",
      "[  126] iter, [0.490136] epoch, avg loss: 1.305, attn_loss: -0.11162 \n",
      "[  131] iter, [0.509741] epoch, avg loss: 1.598, attn_loss: -0.11162 \n",
      "[  136] iter, [0.529347] epoch, avg loss: 1.295, attn_loss: -0.11162 \n",
      "[  141] iter, [0.548952] epoch, avg loss: 1.444, attn_loss: -0.11162 \n",
      "[  146] iter, [0.568558] epoch, avg loss: 1.229, attn_loss: -0.11162 \n",
      "[  151] iter, [0.588163] epoch, avg loss: 1.519, attn_loss: -0.11162 \n",
      "[  156] iter, [0.607769] epoch, avg loss: 1.586, attn_loss: -0.11162 \n",
      "[  161] iter, [0.627374] epoch, avg loss: 1.223, attn_loss: -0.11162 \n",
      "[  166] iter, [0.646980] epoch, avg loss: 1.348, attn_loss: -0.11162 \n",
      "[  171] iter, [0.666585] epoch, avg loss: 1.624, attn_loss: -0.11162 \n",
      "[  176] iter, [0.686190] epoch, avg loss: 1.383, attn_loss: -0.11162 \n",
      "[  181] iter, [0.705796] epoch, avg loss: 1.378, attn_loss: -0.11162 \n",
      "[  186] iter, [0.725401] epoch, avg loss: 1.473, attn_loss: -0.11162 \n",
      "[  191] iter, [0.745007] epoch, avg loss: 1.340, attn_loss: -0.11162 \n",
      "[  196] iter, [0.764612] epoch, avg loss: 1.564, attn_loss: -0.11162 \n",
      "[  201] iter, [0.784218] epoch, avg loss: 1.345, attn_loss: -0.11162 \n",
      "[  206] iter, [0.803823] epoch, avg loss: 1.638, attn_loss: -0.11162 \n",
      "[  211] iter, [0.823429] epoch, avg loss: 1.638, attn_loss: -0.11162 \n",
      "[  216] iter, [0.843034] epoch, avg loss: 1.526, attn_loss: -0.11162 \n",
      "[  221] iter, [0.862639] epoch, avg loss: 1.761, attn_loss: -0.11162 \n",
      "[  226] iter, [0.882245] epoch, avg loss: 1.528, attn_loss: -0.11162 \n",
      "[  231] iter, [0.901850] epoch, avg loss: 1.517, attn_loss: -0.11162 \n",
      "[  236] iter, [0.921456] epoch, avg loss: 1.560, attn_loss: -0.11162 \n",
      "[  241] iter, [0.941061] epoch, avg loss: 1.436, attn_loss: -0.11162 \n",
      "[  246] iter, [0.960667] epoch, avg loss: 1.348, attn_loss: -0.11162 \n",
      "[  251] iter, [0.980272] epoch, avg loss: 1.214, attn_loss: -0.11162 \n",
      "[  256] iter, [0.999877] epoch, avg loss: 1.030, attn_loss: -0.11162 \n"
     ]
    },
    {
     "name": "stderr",
     "output_type": "stream",
     "text": [
      "100%|██████████| 256/256 [01:06<00:00,  3.84it/s]\n",
      "100%|██████████| 55/55 [00:14<00:00,  3.80it/s]"
     ]
    },
    {
     "name": "stdout",
     "output_type": "stream",
     "text": [
      "{'train_accu': 0.6556794510476657, 'val_accu': 0.3979475484606613}\n"
     ]
    },
    {
     "name": "stderr",
     "output_type": "stream",
     "text": [
      "\n"
     ]
    },
    {
     "name": "stdout",
     "output_type": "stream",
     "text": [
      "[    1] iter, [0.000000] epoch, avg loss: 0.330, attn_loss: -0.02232 \n",
      "[    6] iter, [0.019605] epoch, avg loss: 1.007, attn_loss: -0.11219 \n",
      "[   11] iter, [0.039211] epoch, avg loss: 0.880, attn_loss: -0.11320 \n",
      "[   16] iter, [0.058816] epoch, avg loss: 0.826, attn_loss: -0.11426 \n",
      "[   21] iter, [0.078422] epoch, avg loss: 0.983, attn_loss: -0.11533 \n",
      "[   26] iter, [0.098027] epoch, avg loss: 0.920, attn_loss: -0.11640 \n",
      "[   31] iter, [0.117633] epoch, avg loss: 0.944, attn_loss: -0.11750 \n",
      "[   36] iter, [0.137238] epoch, avg loss: 1.052, attn_loss: -0.11858 \n",
      "[   41] iter, [0.156844] epoch, avg loss: 0.933, attn_loss: -0.11966 \n",
      "[   46] iter, [0.176449] epoch, avg loss: 0.709, attn_loss: -0.12076 \n",
      "[   51] iter, [0.196054] epoch, avg loss: 0.823, attn_loss: -0.12187 \n",
      "[   56] iter, [0.215660] epoch, avg loss: 1.103, attn_loss: -0.12297 \n",
      "[   61] iter, [0.235265] epoch, avg loss: 1.017, attn_loss: -0.12411 \n",
      "[   66] iter, [0.254871] epoch, avg loss: 1.017, attn_loss: -0.12526 \n",
      "[   71] iter, [0.274476] epoch, avg loss: 0.914, attn_loss: -0.12643 \n",
      "[   76] iter, [0.294082] epoch, avg loss: 0.903, attn_loss: -0.12759 \n",
      "[   81] iter, [0.313687] epoch, avg loss: 0.950, attn_loss: -0.12876 \n",
      "[   86] iter, [0.333292] epoch, avg loss: 0.910, attn_loss: -0.12997 \n",
      "[   91] iter, [0.352898] epoch, avg loss: 0.773, attn_loss: -0.13118 \n",
      "[   96] iter, [0.372503] epoch, avg loss: 0.799, attn_loss: -0.13238 \n",
      "[  101] iter, [0.392109] epoch, avg loss: 0.924, attn_loss: -0.13361 \n",
      "[  106] iter, [0.411714] epoch, avg loss: 1.041, attn_loss: -0.13483 \n",
      "[  111] iter, [0.431320] epoch, avg loss: 0.839, attn_loss: -0.13606 \n",
      "[  116] iter, [0.450925] epoch, avg loss: 0.709, attn_loss: -0.13728 \n",
      "[  121] iter, [0.470531] epoch, avg loss: 0.827, attn_loss: -0.13851 \n",
      "[  126] iter, [0.490136] epoch, avg loss: 0.964, attn_loss: -0.13976 \n",
      "[  131] iter, [0.509741] epoch, avg loss: 1.028, attn_loss: -0.14101 \n",
      "[  136] iter, [0.529347] epoch, avg loss: 0.796, attn_loss: -0.14226 \n",
      "[  141] iter, [0.548952] epoch, avg loss: 0.913, attn_loss: -0.14352 \n",
      "[  146] iter, [0.568558] epoch, avg loss: 0.596, attn_loss: -0.14479 \n",
      "[  151] iter, [0.588163] epoch, avg loss: 0.911, attn_loss: -0.14609 \n",
      "[  156] iter, [0.607769] epoch, avg loss: 0.880, attn_loss: -0.14741 \n",
      "[  161] iter, [0.627374] epoch, avg loss: 0.750, attn_loss: -0.14873 \n",
      "[  166] iter, [0.646980] epoch, avg loss: 1.042, attn_loss: -0.15005 \n",
      "[  171] iter, [0.666585] epoch, avg loss: 0.747, attn_loss: -0.15138 \n",
      "[  176] iter, [0.686190] epoch, avg loss: 0.809, attn_loss: -0.15273 \n",
      "[  181] iter, [0.705796] epoch, avg loss: 0.781, attn_loss: -0.15408 \n",
      "[  186] iter, [0.725401] epoch, avg loss: 0.669, attn_loss: -0.15541 \n",
      "[  191] iter, [0.745007] epoch, avg loss: 0.670, attn_loss: -0.15675 \n",
      "[  196] iter, [0.764612] epoch, avg loss: 1.182, attn_loss: -0.15809 \n",
      "[  201] iter, [0.784218] epoch, avg loss: 0.763, attn_loss: -0.15945 \n",
      "[  206] iter, [0.803823] epoch, avg loss: 0.724, attn_loss: -0.16083 \n",
      "[  211] iter, [0.823429] epoch, avg loss: 0.926, attn_loss: -0.16225 \n",
      "[  216] iter, [0.843034] epoch, avg loss: 0.636, attn_loss: -0.16368 \n",
      "[  221] iter, [0.862639] epoch, avg loss: 0.699, attn_loss: -0.16511 \n",
      "[  226] iter, [0.882245] epoch, avg loss: 0.702, attn_loss: -0.16654 \n",
      "[  231] iter, [0.901850] epoch, avg loss: 0.659, attn_loss: -0.16797 \n",
      "[  236] iter, [0.921456] epoch, avg loss: 0.663, attn_loss: -0.16940 \n",
      "[  241] iter, [0.941061] epoch, avg loss: 0.959, attn_loss: -0.17086 \n",
      "[  246] iter, [0.960667] epoch, avg loss: 0.844, attn_loss: -0.17234 \n",
      "[  251] iter, [0.980272] epoch, avg loss: 0.851, attn_loss: -0.17383 \n",
      "[  256] iter, [0.999877] epoch, avg loss: 0.828, attn_loss: -0.17533 \n"
     ]
    },
    {
     "name": "stderr",
     "output_type": "stream",
     "text": [
      "100%|██████████| 256/256 [01:06<00:00,  3.84it/s]\n",
      "100%|██████████| 55/55 [00:14<00:00,  3.82it/s]"
     ]
    },
    {
     "name": "stdout",
     "output_type": "stream",
     "text": [
      "{'train_accu': 0.7488052934689376, 'val_accu': 0.44241733181299886}\n"
     ]
    },
    {
     "name": "stderr",
     "output_type": "stream",
     "text": [
      "\n"
     ]
    },
    {
     "name": "stdout",
     "output_type": "stream",
     "text": [
      "[    1] iter, [0.000000] epoch, avg loss: 0.123, attn_loss: -0.03524 \n",
      "[    6] iter, [0.019605] epoch, avg loss: 1.271, attn_loss: -0.17622 \n",
      "[   11] iter, [0.039211] epoch, avg loss: 1.385, attn_loss: -0.17622 \n",
      "[   16] iter, [0.058816] epoch, avg loss: 1.758, attn_loss: -0.17622 \n",
      "[   21] iter, [0.078422] epoch, avg loss: 1.904, attn_loss: -0.17622 \n",
      "[   26] iter, [0.098027] epoch, avg loss: 1.272, attn_loss: -0.17622 \n",
      "[   31] iter, [0.117633] epoch, avg loss: 1.443, attn_loss: -0.17622 \n",
      "[   36] iter, [0.137238] epoch, avg loss: 1.125, attn_loss: -0.17622 \n",
      "[   41] iter, [0.156844] epoch, avg loss: 0.952, attn_loss: -0.17622 \n",
      "[   46] iter, [0.176449] epoch, avg loss: 1.212, attn_loss: -0.17622 \n",
      "[   51] iter, [0.196054] epoch, avg loss: 1.330, attn_loss: -0.17622 \n",
      "[   56] iter, [0.215660] epoch, avg loss: 1.335, attn_loss: -0.17622 \n",
      "[   61] iter, [0.235265] epoch, avg loss: 1.085, attn_loss: -0.17622 \n",
      "[   66] iter, [0.254871] epoch, avg loss: 1.094, attn_loss: -0.17622 \n",
      "[   71] iter, [0.274476] epoch, avg loss: 1.075, attn_loss: -0.17622 \n",
      "[   76] iter, [0.294082] epoch, avg loss: 0.968, attn_loss: -0.17622 \n",
      "[   81] iter, [0.313687] epoch, avg loss: 1.004, attn_loss: -0.17622 \n",
      "[   86] iter, [0.333292] epoch, avg loss: 1.200, attn_loss: -0.17622 \n",
      "[   91] iter, [0.352898] epoch, avg loss: 0.970, attn_loss: -0.17622 \n",
      "[   96] iter, [0.372503] epoch, avg loss: 1.266, attn_loss: -0.17622 \n",
      "[  101] iter, [0.392109] epoch, avg loss: 1.203, attn_loss: -0.17622 \n",
      "[  106] iter, [0.411714] epoch, avg loss: 1.096, attn_loss: -0.17622 \n",
      "[  111] iter, [0.431320] epoch, avg loss: 1.128, attn_loss: -0.17622 \n",
      "[  116] iter, [0.450925] epoch, avg loss: 0.923, attn_loss: -0.17622 \n",
      "[  121] iter, [0.470531] epoch, avg loss: 1.093, attn_loss: -0.17622 \n",
      "[  126] iter, [0.490136] epoch, avg loss: 1.082, attn_loss: -0.17622 \n",
      "[  131] iter, [0.509741] epoch, avg loss: 1.076, attn_loss: -0.17622 \n",
      "[  136] iter, [0.529347] epoch, avg loss: 1.178, attn_loss: -0.17622 \n",
      "[  141] iter, [0.548952] epoch, avg loss: 1.395, attn_loss: -0.17622 \n",
      "[  146] iter, [0.568558] epoch, avg loss: 1.087, attn_loss: -0.17622 \n",
      "[  151] iter, [0.588163] epoch, avg loss: 1.336, attn_loss: -0.17622 \n",
      "[  156] iter, [0.607769] epoch, avg loss: 1.247, attn_loss: -0.17622 \n",
      "[  161] iter, [0.627374] epoch, avg loss: 1.322, attn_loss: -0.17622 \n",
      "[  166] iter, [0.646980] epoch, avg loss: 1.211, attn_loss: -0.17622 \n",
      "[  171] iter, [0.666585] epoch, avg loss: 1.381, attn_loss: -0.17622 \n",
      "[  176] iter, [0.686190] epoch, avg loss: 1.206, attn_loss: -0.17622 \n",
      "[  181] iter, [0.705796] epoch, avg loss: 1.468, attn_loss: -0.17622 \n",
      "[  186] iter, [0.725401] epoch, avg loss: 1.351, attn_loss: -0.17622 \n",
      "[  191] iter, [0.745007] epoch, avg loss: 1.133, attn_loss: -0.17622 \n",
      "[  196] iter, [0.764612] epoch, avg loss: 1.004, attn_loss: -0.17622 \n",
      "[  201] iter, [0.784218] epoch, avg loss: 1.228, attn_loss: -0.17622 \n",
      "[  206] iter, [0.803823] epoch, avg loss: 1.239, attn_loss: -0.17622 \n",
      "[  211] iter, [0.823429] epoch, avg loss: 1.531, attn_loss: -0.17622 \n",
      "[  216] iter, [0.843034] epoch, avg loss: 1.345, attn_loss: -0.17622 \n",
      "[  221] iter, [0.862639] epoch, avg loss: 1.273, attn_loss: -0.17622 \n",
      "[  226] iter, [0.882245] epoch, avg loss: 1.230, attn_loss: -0.17622 \n",
      "[  231] iter, [0.901850] epoch, avg loss: 1.354, attn_loss: -0.17622 \n",
      "[  236] iter, [0.921456] epoch, avg loss: 1.207, attn_loss: -0.17622 \n",
      "[  241] iter, [0.941061] epoch, avg loss: 1.544, attn_loss: -0.17622 \n",
      "[  246] iter, [0.960667] epoch, avg loss: 1.270, attn_loss: -0.17622 \n",
      "[  251] iter, [0.980272] epoch, avg loss: 1.250, attn_loss: -0.17622 \n",
      "[  256] iter, [0.999877] epoch, avg loss: 1.155, attn_loss: -0.17622 \n"
     ]
    },
    {
     "name": "stderr",
     "output_type": "stream",
     "text": [
      "100%|██████████| 256/256 [01:06<00:00,  3.84it/s]\n",
      "100%|██████████| 55/55 [00:14<00:00,  3.81it/s]"
     ]
    },
    {
     "name": "stdout",
     "output_type": "stream",
     "text": [
      "{'train_accu': 0.7032226442837888, 'val_accu': 0.3996579247434436}\n"
     ]
    },
    {
     "name": "stderr",
     "output_type": "stream",
     "text": [
      "\n"
     ]
    },
    {
     "name": "stdout",
     "output_type": "stream",
     "text": [
      "[    1] iter, [0.000000] epoch, avg loss: 0.145, attn_loss: -0.03524 \n",
      "[    6] iter, [0.019605] epoch, avg loss: 0.806, attn_loss: -0.17707 \n",
      "[   11] iter, [0.039211] epoch, avg loss: 0.663, attn_loss: -0.17843 \n",
      "[   16] iter, [0.058816] epoch, avg loss: 0.606, attn_loss: -0.17981 \n",
      "[   21] iter, [0.078422] epoch, avg loss: 0.760, attn_loss: -0.18118 \n",
      "[   26] iter, [0.098027] epoch, avg loss: 0.880, attn_loss: -0.18255 \n",
      "[   31] iter, [0.117633] epoch, avg loss: 0.745, attn_loss: -0.18392 \n",
      "[   36] iter, [0.137238] epoch, avg loss: 0.696, attn_loss: -0.18532 \n",
      "[   41] iter, [0.156844] epoch, avg loss: 0.903, attn_loss: -0.18673 \n",
      "[   46] iter, [0.176449] epoch, avg loss: 0.838, attn_loss: -0.18815 \n",
      "[   51] iter, [0.196054] epoch, avg loss: 0.580, attn_loss: -0.18958 \n",
      "[   56] iter, [0.215660] epoch, avg loss: 0.689, attn_loss: -0.19104 \n",
      "[   61] iter, [0.235265] epoch, avg loss: 0.501, attn_loss: -0.19254 \n",
      "[   66] iter, [0.254871] epoch, avg loss: 0.834, attn_loss: -0.19403 \n",
      "[   71] iter, [0.274476] epoch, avg loss: 0.533, attn_loss: -0.19556 \n",
      "[   76] iter, [0.294082] epoch, avg loss: 0.476, attn_loss: -0.19708 \n",
      "[   81] iter, [0.313687] epoch, avg loss: 0.525, attn_loss: -0.19861 \n",
      "[   86] iter, [0.333292] epoch, avg loss: 0.560, attn_loss: -0.20014 \n",
      "[   91] iter, [0.352898] epoch, avg loss: 0.619, attn_loss: -0.20166 \n",
      "[   96] iter, [0.372503] epoch, avg loss: 0.607, attn_loss: -0.20316 \n",
      "[  101] iter, [0.392109] epoch, avg loss: 0.561, attn_loss: -0.20465 \n",
      "[  106] iter, [0.411714] epoch, avg loss: 0.558, attn_loss: -0.20614 \n",
      "[  111] iter, [0.431320] epoch, avg loss: 0.653, attn_loss: -0.20766 \n",
      "[  116] iter, [0.450925] epoch, avg loss: 0.570, attn_loss: -0.20921 \n",
      "[  121] iter, [0.470531] epoch, avg loss: 0.583, attn_loss: -0.21077 \n",
      "[  126] iter, [0.490136] epoch, avg loss: 0.775, attn_loss: -0.21235 \n",
      "[  131] iter, [0.509741] epoch, avg loss: 0.573, attn_loss: -0.21395 \n",
      "[  136] iter, [0.529347] epoch, avg loss: 0.735, attn_loss: -0.21557 \n",
      "[  141] iter, [0.548952] epoch, avg loss: 0.832, attn_loss: -0.21722 \n",
      "[  146] iter, [0.568558] epoch, avg loss: 0.464, attn_loss: -0.21888 \n",
      "[  151] iter, [0.588163] epoch, avg loss: 0.473, attn_loss: -0.22055 \n",
      "[  156] iter, [0.607769] epoch, avg loss: 0.740, attn_loss: -0.22222 \n",
      "[  161] iter, [0.627374] epoch, avg loss: 0.691, attn_loss: -0.22390 \n",
      "[  166] iter, [0.646980] epoch, avg loss: 0.584, attn_loss: -0.22555 \n",
      "[  171] iter, [0.666585] epoch, avg loss: 0.507, attn_loss: -0.22722 \n",
      "[  176] iter, [0.686190] epoch, avg loss: 0.582, attn_loss: -0.22890 \n",
      "[  181] iter, [0.705796] epoch, avg loss: 0.502, attn_loss: -0.23058 \n",
      "[  186] iter, [0.725401] epoch, avg loss: 0.649, attn_loss: -0.23228 \n",
      "[  191] iter, [0.745007] epoch, avg loss: 0.535, attn_loss: -0.23399 \n",
      "[  196] iter, [0.764612] epoch, avg loss: 0.576, attn_loss: -0.23574 \n",
      "[  201] iter, [0.784218] epoch, avg loss: 0.535, attn_loss: -0.23748 \n",
      "[  206] iter, [0.803823] epoch, avg loss: 0.602, attn_loss: -0.23921 \n",
      "[  211] iter, [0.823429] epoch, avg loss: 0.629, attn_loss: -0.24092 \n",
      "[  216] iter, [0.843034] epoch, avg loss: 0.363, attn_loss: -0.24266 \n",
      "[  221] iter, [0.862639] epoch, avg loss: 0.579, attn_loss: -0.24442 \n",
      "[  226] iter, [0.882245] epoch, avg loss: 0.496, attn_loss: -0.24619 \n",
      "[  231] iter, [0.901850] epoch, avg loss: 0.669, attn_loss: -0.24796 \n",
      "[  236] iter, [0.921456] epoch, avg loss: 0.490, attn_loss: -0.24972 \n",
      "[  241] iter, [0.941061] epoch, avg loss: 0.574, attn_loss: -0.25150 \n",
      "[  246] iter, [0.960667] epoch, avg loss: 0.555, attn_loss: -0.25332 \n",
      "[  251] iter, [0.980272] epoch, avg loss: 0.319, attn_loss: -0.25516 \n",
      "[  256] iter, [0.999877] epoch, avg loss: 1.058, attn_loss: -0.25702 \n"
     ]
    },
    {
     "name": "stderr",
     "output_type": "stream",
     "text": [
      "100%|██████████| 256/256 [01:06<00:00,  3.84it/s]\n",
      "100%|██████████| 55/55 [00:14<00:00,  3.79it/s]"
     ]
    },
    {
     "name": "stdout",
     "output_type": "stream",
     "text": [
      "{'train_accu': 0.7916921945839971, 'val_accu': 0.4321550741163056}\n"
     ]
    },
    {
     "name": "stderr",
     "output_type": "stream",
     "text": [
      "\n"
     ]
    },
    {
     "name": "stdout",
     "output_type": "stream",
     "text": [
      "[    1] iter, [0.000000] epoch, avg loss: 0.204, attn_loss: -0.05162 \n",
      "[    6] iter, [0.019605] epoch, avg loss: 1.136, attn_loss: -0.25812 \n",
      "[   11] iter, [0.039211] epoch, avg loss: 1.283, attn_loss: -0.25812 \n",
      "[   16] iter, [0.058816] epoch, avg loss: 1.179, attn_loss: -0.25812 \n",
      "[   21] iter, [0.078422] epoch, avg loss: 1.328, attn_loss: -0.25812 \n",
      "[   26] iter, [0.098027] epoch, avg loss: 1.430, attn_loss: -0.25812 \n",
      "[   31] iter, [0.117633] epoch, avg loss: 0.845, attn_loss: -0.25812 \n",
      "[   36] iter, [0.137238] epoch, avg loss: 1.141, attn_loss: -0.25812 \n",
      "[   41] iter, [0.156844] epoch, avg loss: 1.017, attn_loss: -0.25812 \n",
      "[   46] iter, [0.176449] epoch, avg loss: 1.067, attn_loss: -0.25812 \n",
      "[   51] iter, [0.196054] epoch, avg loss: 0.819, attn_loss: -0.25812 \n",
      "[   56] iter, [0.215660] epoch, avg loss: 1.085, attn_loss: -0.25812 \n",
      "[   61] iter, [0.235265] epoch, avg loss: 0.914, attn_loss: -0.25812 \n",
      "[   66] iter, [0.254871] epoch, avg loss: 1.213, attn_loss: -0.25812 \n",
      "[   71] iter, [0.274476] epoch, avg loss: 1.027, attn_loss: -0.25812 \n",
      "[   76] iter, [0.294082] epoch, avg loss: 1.192, attn_loss: -0.25812 \n",
      "[   81] iter, [0.313687] epoch, avg loss: 0.763, attn_loss: -0.25812 \n",
      "[   86] iter, [0.333292] epoch, avg loss: 0.776, attn_loss: -0.25812 \n",
      "[   91] iter, [0.352898] epoch, avg loss: 1.064, attn_loss: -0.25812 \n",
      "[   96] iter, [0.372503] epoch, avg loss: 0.838, attn_loss: -0.25812 \n",
      "[  101] iter, [0.392109] epoch, avg loss: 1.044, attn_loss: -0.25812 \n",
      "[  106] iter, [0.411714] epoch, avg loss: 0.780, attn_loss: -0.25812 \n",
      "[  111] iter, [0.431320] epoch, avg loss: 0.955, attn_loss: -0.25812 \n",
      "[  116] iter, [0.450925] epoch, avg loss: 1.048, attn_loss: -0.25812 \n",
      "[  121] iter, [0.470531] epoch, avg loss: 1.174, attn_loss: -0.25812 \n",
      "[  126] iter, [0.490136] epoch, avg loss: 0.878, attn_loss: -0.25812 \n",
      "[  131] iter, [0.509741] epoch, avg loss: 0.992, attn_loss: -0.25812 \n",
      "[  136] iter, [0.529347] epoch, avg loss: 1.153, attn_loss: -0.25812 \n",
      "[  141] iter, [0.548952] epoch, avg loss: 0.943, attn_loss: -0.25812 \n",
      "[  146] iter, [0.568558] epoch, avg loss: 1.138, attn_loss: -0.25812 \n",
      "[  151] iter, [0.588163] epoch, avg loss: 0.955, attn_loss: -0.25812 \n",
      "[  156] iter, [0.607769] epoch, avg loss: 1.183, attn_loss: -0.25812 \n",
      "[  161] iter, [0.627374] epoch, avg loss: 1.062, attn_loss: -0.25812 \n",
      "[  166] iter, [0.646980] epoch, avg loss: 1.105, attn_loss: -0.25812 \n",
      "[  171] iter, [0.666585] epoch, avg loss: 0.904, attn_loss: -0.25812 \n",
      "[  176] iter, [0.686190] epoch, avg loss: 1.066, attn_loss: -0.25812 \n",
      "[  181] iter, [0.705796] epoch, avg loss: 0.909, attn_loss: -0.25812 \n",
      "[  186] iter, [0.725401] epoch, avg loss: 1.333, attn_loss: -0.25812 \n",
      "[  191] iter, [0.745007] epoch, avg loss: 1.250, attn_loss: -0.25812 \n",
      "[  196] iter, [0.764612] epoch, avg loss: 1.234, attn_loss: -0.25812 \n",
      "[  201] iter, [0.784218] epoch, avg loss: 1.099, attn_loss: -0.25812 \n",
      "[  206] iter, [0.803823] epoch, avg loss: 0.955, attn_loss: -0.25812 \n",
      "[  211] iter, [0.823429] epoch, avg loss: 1.113, attn_loss: -0.25812 \n",
      "[  216] iter, [0.843034] epoch, avg loss: 0.992, attn_loss: -0.25812 \n",
      "[  221] iter, [0.862639] epoch, avg loss: 1.325, attn_loss: -0.25812 \n",
      "[  226] iter, [0.882245] epoch, avg loss: 1.431, attn_loss: -0.25812 \n",
      "[  231] iter, [0.901850] epoch, avg loss: 1.052, attn_loss: -0.25812 \n",
      "[  236] iter, [0.921456] epoch, avg loss: 1.214, attn_loss: -0.25812 \n",
      "[  241] iter, [0.941061] epoch, avg loss: 1.095, attn_loss: -0.25812 \n",
      "[  246] iter, [0.960667] epoch, avg loss: 1.154, attn_loss: -0.25812 \n",
      "[  251] iter, [0.980272] epoch, avg loss: 1.131, attn_loss: -0.25812 \n",
      "[  256] iter, [0.999877] epoch, avg loss: 0.868, attn_loss: -0.25812 \n"
     ]
    },
    {
     "name": "stderr",
     "output_type": "stream",
     "text": [
      "100%|██████████| 256/256 [01:06<00:00,  3.85it/s]\n",
      "100%|██████████| 55/55 [00:14<00:00,  3.82it/s]"
     ]
    },
    {
     "name": "stdout",
     "output_type": "stream",
     "text": [
      "{'train_accu': 0.7394927092268104, 'val_accu': 0.3996579247434436}\n"
     ]
    },
    {
     "name": "stderr",
     "output_type": "stream",
     "text": [
      "\n"
     ]
    },
    {
     "name": "stdout",
     "output_type": "stream",
     "text": [
      "[    1] iter, [0.000000] epoch, avg loss: 0.058, attn_loss: -0.05162 \n",
      "[    6] iter, [0.019605] epoch, avg loss: 0.760, attn_loss: -0.25918 \n",
      "[   11] iter, [0.039211] epoch, avg loss: 0.475, attn_loss: -0.26090 \n",
      "[   16] iter, [0.058816] epoch, avg loss: 0.438, attn_loss: -0.26262 \n",
      "[   21] iter, [0.078422] epoch, avg loss: 0.577, attn_loss: -0.26438 \n",
      "[   26] iter, [0.098027] epoch, avg loss: 0.740, attn_loss: -0.26613 \n",
      "[   31] iter, [0.117633] epoch, avg loss: 0.239, attn_loss: -0.26788 \n",
      "[   36] iter, [0.137238] epoch, avg loss: 0.446, attn_loss: -0.26963 \n",
      "[   41] iter, [0.156844] epoch, avg loss: 0.548, attn_loss: -0.27140 \n",
      "[   46] iter, [0.176449] epoch, avg loss: 0.420, attn_loss: -0.27320 \n",
      "[   51] iter, [0.196054] epoch, avg loss: 0.300, attn_loss: -0.27502 \n",
      "[   56] iter, [0.215660] epoch, avg loss: 0.652, attn_loss: -0.27684 \n",
      "[   61] iter, [0.235265] epoch, avg loss: 0.286, attn_loss: -0.27867 \n",
      "[   66] iter, [0.254871] epoch, avg loss: 0.494, attn_loss: -0.28050 \n",
      "[   71] iter, [0.274476] epoch, avg loss: 0.457, attn_loss: -0.28232 \n",
      "[   76] iter, [0.294082] epoch, avg loss: 0.404, attn_loss: -0.28414 \n",
      "[   81] iter, [0.313687] epoch, avg loss: 0.445, attn_loss: -0.28599 \n",
      "[   86] iter, [0.333292] epoch, avg loss: 0.520, attn_loss: -0.28787 \n",
      "[   91] iter, [0.352898] epoch, avg loss: 0.325, attn_loss: -0.28974 \n",
      "[   96] iter, [0.372503] epoch, avg loss: 0.445, attn_loss: -0.29163 \n",
      "[  101] iter, [0.392109] epoch, avg loss: 0.363, attn_loss: -0.29355 \n",
      "[  106] iter, [0.411714] epoch, avg loss: 0.504, attn_loss: -0.29547 \n",
      "[  111] iter, [0.431320] epoch, avg loss: 0.444, attn_loss: -0.29738 \n",
      "[  116] iter, [0.450925] epoch, avg loss: 0.381, attn_loss: -0.29928 \n",
      "[  121] iter, [0.470531] epoch, avg loss: 0.334, attn_loss: -0.30120 \n",
      "[  126] iter, [0.490136] epoch, avg loss: 0.555, attn_loss: -0.30314 \n",
      "[  131] iter, [0.509741] epoch, avg loss: 0.484, attn_loss: -0.30510 \n",
      "[  136] iter, [0.529347] epoch, avg loss: 0.358, attn_loss: -0.30706 \n",
      "[  141] iter, [0.548952] epoch, avg loss: 0.423, attn_loss: -0.30903 \n",
      "[  146] iter, [0.568558] epoch, avg loss: 0.488, attn_loss: -0.31102 \n",
      "[  151] iter, [0.588163] epoch, avg loss: 0.375, attn_loss: -0.31302 \n",
      "[  156] iter, [0.607769] epoch, avg loss: 0.139, attn_loss: -0.31504 \n",
      "[  161] iter, [0.627374] epoch, avg loss: 0.500, attn_loss: -0.31708 \n",
      "[  166] iter, [0.646980] epoch, avg loss: 0.304, attn_loss: -0.31913 \n",
      "[  171] iter, [0.666585] epoch, avg loss: 0.392, attn_loss: -0.32120 \n",
      "[  176] iter, [0.686190] epoch, avg loss: 0.332, attn_loss: -0.32326 \n",
      "[  181] iter, [0.705796] epoch, avg loss: 0.318, attn_loss: -0.32535 \n",
      "[  186] iter, [0.725401] epoch, avg loss: 0.424, attn_loss: -0.32743 \n",
      "[  191] iter, [0.745007] epoch, avg loss: 0.269, attn_loss: -0.32951 \n",
      "[  196] iter, [0.764612] epoch, avg loss: 0.507, attn_loss: -0.33160 \n",
      "[  201] iter, [0.784218] epoch, avg loss: 0.249, attn_loss: -0.33370 \n",
      "[  206] iter, [0.803823] epoch, avg loss: 0.229, attn_loss: -0.33582 \n",
      "[  211] iter, [0.823429] epoch, avg loss: 0.430, attn_loss: -0.33793 \n",
      "[  216] iter, [0.843034] epoch, avg loss: 0.489, attn_loss: -0.34004 \n",
      "[  221] iter, [0.862639] epoch, avg loss: 0.253, attn_loss: -0.34216 \n",
      "[  226] iter, [0.882245] epoch, avg loss: 0.362, attn_loss: -0.34430 \n",
      "[  231] iter, [0.901850] epoch, avg loss: 0.190, attn_loss: -0.34646 \n",
      "[  236] iter, [0.921456] epoch, avg loss: 0.317, attn_loss: -0.34864 \n",
      "[  241] iter, [0.941061] epoch, avg loss: 0.425, attn_loss: -0.35081 \n",
      "[  246] iter, [0.960667] epoch, avg loss: 0.206, attn_loss: -0.35298 \n",
      "[  251] iter, [0.980272] epoch, avg loss: 0.302, attn_loss: -0.35517 \n",
      "[  256] iter, [0.999877] epoch, avg loss: 1.335, attn_loss: -0.35738 \n"
     ]
    },
    {
     "name": "stderr",
     "output_type": "stream",
     "text": [
      "100%|██████████| 256/256 [01:06<00:00,  3.84it/s]\n",
      "100%|██████████| 55/55 [00:14<00:00,  3.82it/s]"
     ]
    },
    {
     "name": "stdout",
     "output_type": "stream",
     "text": [
      "{'train_accu': 0.8248989094473717, 'val_accu': 0.43272519954389965}\n"
     ]
    },
    {
     "name": "stderr",
     "output_type": "stream",
     "text": [
      "\n"
     ]
    },
    {
     "name": "stdout",
     "output_type": "stream",
     "text": [
      "[    1] iter, [0.000000] epoch, avg loss: 0.071, attn_loss: -0.07174 \n",
      "[    6] iter, [0.019605] epoch, avg loss: 0.858, attn_loss: -0.35870 \n",
      "[   11] iter, [0.039211] epoch, avg loss: 1.356, attn_loss: -0.35870 \n",
      "[   16] iter, [0.058816] epoch, avg loss: 1.224, attn_loss: -0.35870 \n",
      "[   21] iter, [0.078422] epoch, avg loss: 1.229, attn_loss: -0.35870 \n",
      "[   26] iter, [0.098027] epoch, avg loss: 0.883, attn_loss: -0.35870 \n",
      "[   31] iter, [0.117633] epoch, avg loss: 0.996, attn_loss: -0.35870 \n",
      "[   36] iter, [0.137238] epoch, avg loss: 1.188, attn_loss: -0.35870 \n",
      "[   41] iter, [0.156844] epoch, avg loss: 1.086, attn_loss: -0.35870 \n",
      "[   46] iter, [0.176449] epoch, avg loss: 0.893, attn_loss: -0.35870 \n",
      "[   51] iter, [0.196054] epoch, avg loss: 0.806, attn_loss: -0.35870 \n",
      "[   56] iter, [0.215660] epoch, avg loss: 0.828, attn_loss: -0.35870 \n",
      "[   61] iter, [0.235265] epoch, avg loss: 0.866, attn_loss: -0.35870 \n",
      "[   66] iter, [0.254871] epoch, avg loss: 0.702, attn_loss: -0.35870 \n",
      "[   71] iter, [0.274476] epoch, avg loss: 0.935, attn_loss: -0.35870 \n",
      "[   76] iter, [0.294082] epoch, avg loss: 0.816, attn_loss: -0.35870 \n",
      "[   81] iter, [0.313687] epoch, avg loss: 1.142, attn_loss: -0.35870 \n",
      "[   86] iter, [0.333292] epoch, avg loss: 0.874, attn_loss: -0.35870 \n",
      "[   91] iter, [0.352898] epoch, avg loss: 0.801, attn_loss: -0.35870 \n",
      "[   96] iter, [0.372503] epoch, avg loss: 1.016, attn_loss: -0.35870 \n",
      "[  101] iter, [0.392109] epoch, avg loss: 0.872, attn_loss: -0.35870 \n",
      "[  106] iter, [0.411714] epoch, avg loss: 1.056, attn_loss: -0.35870 \n",
      "[  111] iter, [0.431320] epoch, avg loss: 0.722, attn_loss: -0.35870 \n",
      "[  116] iter, [0.450925] epoch, avg loss: 1.131, attn_loss: -0.35870 \n",
      "[  121] iter, [0.470531] epoch, avg loss: 0.894, attn_loss: -0.35870 \n",
      "[  126] iter, [0.490136] epoch, avg loss: 0.827, attn_loss: -0.35870 \n",
      "[  131] iter, [0.509741] epoch, avg loss: 0.753, attn_loss: -0.35870 \n",
      "[  136] iter, [0.529347] epoch, avg loss: 0.817, attn_loss: -0.35870 \n",
      "[  141] iter, [0.548952] epoch, avg loss: 0.837, attn_loss: -0.35870 \n",
      "[  146] iter, [0.568558] epoch, avg loss: 0.943, attn_loss: -0.35870 \n",
      "[  151] iter, [0.588163] epoch, avg loss: 0.946, attn_loss: -0.35870 \n",
      "[  156] iter, [0.607769] epoch, avg loss: 0.958, attn_loss: -0.35870 \n",
      "[  161] iter, [0.627374] epoch, avg loss: 1.092, attn_loss: -0.35870 \n",
      "[  166] iter, [0.646980] epoch, avg loss: 0.872, attn_loss: -0.35870 \n",
      "[  171] iter, [0.666585] epoch, avg loss: 0.938, attn_loss: -0.35870 \n",
      "[  176] iter, [0.686190] epoch, avg loss: 0.880, attn_loss: -0.35870 \n",
      "[  181] iter, [0.705796] epoch, avg loss: 1.025, attn_loss: -0.35870 \n",
      "[  186] iter, [0.725401] epoch, avg loss: 0.839, attn_loss: -0.35870 \n",
      "[  191] iter, [0.745007] epoch, avg loss: 1.200, attn_loss: -0.35870 \n",
      "[  196] iter, [0.764612] epoch, avg loss: 1.078, attn_loss: -0.35870 \n",
      "[  201] iter, [0.784218] epoch, avg loss: 0.968, attn_loss: -0.35870 \n",
      "[  206] iter, [0.803823] epoch, avg loss: 1.007, attn_loss: -0.35870 \n",
      "[  211] iter, [0.823429] epoch, avg loss: 0.908, attn_loss: -0.35870 \n",
      "[  216] iter, [0.843034] epoch, avg loss: 0.811, attn_loss: -0.35870 \n",
      "[  221] iter, [0.862639] epoch, avg loss: 0.929, attn_loss: -0.35870 \n",
      "[  226] iter, [0.882245] epoch, avg loss: 0.868, attn_loss: -0.35870 \n",
      "[  231] iter, [0.901850] epoch, avg loss: 1.104, attn_loss: -0.35870 \n",
      "[  236] iter, [0.921456] epoch, avg loss: 1.042, attn_loss: -0.35870 \n",
      "[  241] iter, [0.941061] epoch, avg loss: 1.073, attn_loss: -0.35870 \n",
      "[  246] iter, [0.960667] epoch, avg loss: 0.881, attn_loss: -0.35870 \n",
      "[  251] iter, [0.980272] epoch, avg loss: 0.955, attn_loss: -0.35870 \n",
      "[  256] iter, [0.999877] epoch, avg loss: 0.739, attn_loss: -0.35870 \n"
     ]
    },
    {
     "name": "stderr",
     "output_type": "stream",
     "text": [
      "100%|██████████| 256/256 [01:06<00:00,  3.85it/s]\n",
      "100%|██████████| 55/55 [00:14<00:00,  3.82it/s]"
     ]
    },
    {
     "name": "stdout",
     "output_type": "stream",
     "text": [
      "{'train_accu': 0.7874035044724911, 'val_accu': 0.4224629418472064}\n"
     ]
    },
    {
     "name": "stderr",
     "output_type": "stream",
     "text": [
      "\n"
     ]
    },
    {
     "name": "stdout",
     "output_type": "stream",
     "text": [
      "[    1] iter, [0.000000] epoch, avg loss: 0.057, attn_loss: -0.07174 \n",
      "[    6] iter, [0.019605] epoch, avg loss: 0.337, attn_loss: -0.35990 \n",
      "[   11] iter, [0.039211] epoch, avg loss: 0.054, attn_loss: -0.36191 \n",
      "[   16] iter, [0.058816] epoch, avg loss: 0.235, attn_loss: -0.36396 \n",
      "[   21] iter, [0.078422] epoch, avg loss: 0.258, attn_loss: -0.36602 \n",
      "[   26] iter, [0.098027] epoch, avg loss: 0.125, attn_loss: -0.36810 \n",
      "[   31] iter, [0.117633] epoch, avg loss: 0.280, attn_loss: -0.37022 \n",
      "[   36] iter, [0.137238] epoch, avg loss: 0.342, attn_loss: -0.37236 \n",
      "[   41] iter, [0.156844] epoch, avg loss: 0.273, attn_loss: -0.37452 \n",
      "[   46] iter, [0.176449] epoch, avg loss: 0.182, attn_loss: -0.37669 \n",
      "[   51] iter, [0.196054] epoch, avg loss: 0.201, attn_loss: -0.37885 \n",
      "[   56] iter, [0.215660] epoch, avg loss: 0.212, attn_loss: -0.38100 \n",
      "[   61] iter, [0.235265] epoch, avg loss: 0.289, attn_loss: -0.38316 \n",
      "[   66] iter, [0.254871] epoch, avg loss: 0.153, attn_loss: -0.38533 \n",
      "[   71] iter, [0.274476] epoch, avg loss: 0.196, attn_loss: -0.38751 \n",
      "[   76] iter, [0.294082] epoch, avg loss: 0.266, attn_loss: -0.38969 \n",
      "[   81] iter, [0.313687] epoch, avg loss: 0.113, attn_loss: -0.39188 \n",
      "[   86] iter, [0.333292] epoch, avg loss: 0.048, attn_loss: -0.39410 \n",
      "[   91] iter, [0.352898] epoch, avg loss: 0.189, attn_loss: -0.39635 \n",
      "[   96] iter, [0.372503] epoch, avg loss: 0.176, attn_loss: -0.39862 \n",
      "[  101] iter, [0.392109] epoch, avg loss: 0.097, attn_loss: -0.40088 \n",
      "[  106] iter, [0.411714] epoch, avg loss: 0.263, attn_loss: -0.40315 \n",
      "[  111] iter, [0.431320] epoch, avg loss: 0.080, attn_loss: -0.40544 \n",
      "[  116] iter, [0.450925] epoch, avg loss: 0.066, attn_loss: -0.40773 \n",
      "[  121] iter, [0.470531] epoch, avg loss: 0.080, attn_loss: -0.41002 \n",
      "[  126] iter, [0.490136] epoch, avg loss: 0.238, attn_loss: -0.41230 \n",
      "[  131] iter, [0.509741] epoch, avg loss: 0.060, attn_loss: -0.41462 \n",
      "[  136] iter, [0.529347] epoch, avg loss: 0.091, attn_loss: -0.41696 \n",
      "[  141] iter, [0.548952] epoch, avg loss: 0.033, attn_loss: -0.41931 \n",
      "[  146] iter, [0.568558] epoch, avg loss: 0.150, attn_loss: -0.42165 \n",
      "[  151] iter, [0.588163] epoch, avg loss: 0.053, attn_loss: -0.42402 \n",
      "[  156] iter, [0.607769] epoch, avg loss: 0.031, attn_loss: -0.42639 \n",
      "[  161] iter, [0.627374] epoch, avg loss: 0.180, attn_loss: -0.42877 \n",
      "[  166] iter, [0.646980] epoch, avg loss: 0.223, attn_loss: -0.43119 \n",
      "[  171] iter, [0.666585] epoch, avg loss: 0.097, attn_loss: -0.43361 \n",
      "[  176] iter, [0.686190] epoch, avg loss: 0.023, attn_loss: -0.43604 \n",
      "[  181] iter, [0.705796] epoch, avg loss: 0.042, attn_loss: -0.43848 \n",
      "[  186] iter, [0.725401] epoch, avg loss: 0.143, attn_loss: -0.44090 \n",
      "[  191] iter, [0.745007] epoch, avg loss: 0.118, attn_loss: -0.44332 \n",
      "[  196] iter, [0.764612] epoch, avg loss: -0.099, attn_loss: -0.44577 \n",
      "[  201] iter, [0.784218] epoch, avg loss: 0.105, attn_loss: -0.44825 \n",
      "[  206] iter, [0.803823] epoch, avg loss: 0.111, attn_loss: -0.45075 \n",
      "[  211] iter, [0.823429] epoch, avg loss: -0.020, attn_loss: -0.45325 \n",
      "[  216] iter, [0.843034] epoch, avg loss: 0.073, attn_loss: -0.45577 \n",
      "[  221] iter, [0.862639] epoch, avg loss: 0.084, attn_loss: -0.45829 \n",
      "[  226] iter, [0.882245] epoch, avg loss: 0.105, attn_loss: -0.46082 \n",
      "[  231] iter, [0.901850] epoch, avg loss: 0.330, attn_loss: -0.46336 \n",
      "[  236] iter, [0.921456] epoch, avg loss: 0.087, attn_loss: -0.46592 \n",
      "[  241] iter, [0.941061] epoch, avg loss: 0.089, attn_loss: -0.46847 \n",
      "[  246] iter, [0.960667] epoch, avg loss: -0.080, attn_loss: -0.47102 \n",
      "[  251] iter, [0.980272] epoch, avg loss: 0.098, attn_loss: -0.47360 \n",
      "[  256] iter, [0.999877] epoch, avg loss: 0.009, attn_loss: -0.47620 \n"
     ]
    },
    {
     "name": "stderr",
     "output_type": "stream",
     "text": [
      "100%|██████████| 256/256 [01:06<00:00,  3.84it/s]\n",
      "100%|██████████| 55/55 [00:14<00:00,  3.82it/s]"
     ]
    },
    {
     "name": "stdout",
     "output_type": "stream",
     "text": [
      "{'train_accu': 0.8693787526038476, 'val_accu': 0.4315849486887115}\n"
     ]
    },
    {
     "name": "stderr",
     "output_type": "stream",
     "text": [
      "\n"
     ]
    },
    {
     "name": "stdout",
     "output_type": "stream",
     "text": [
      "[    1] iter, [0.000000] epoch, avg loss: 0.072, attn_loss: -0.09555 \n",
      "[    6] iter, [0.019605] epoch, avg loss: 0.895, attn_loss: -0.47777 \n",
      "[   11] iter, [0.039211] epoch, avg loss: 0.963, attn_loss: -0.47777 \n",
      "[   16] iter, [0.058816] epoch, avg loss: 1.125, attn_loss: -0.47777 \n",
      "[   21] iter, [0.078422] epoch, avg loss: 1.135, attn_loss: -0.47777 \n",
      "[   26] iter, [0.098027] epoch, avg loss: 1.022, attn_loss: -0.47777 \n",
      "[   31] iter, [0.117633] epoch, avg loss: 1.032, attn_loss: -0.47777 \n",
      "[   36] iter, [0.137238] epoch, avg loss: 1.043, attn_loss: -0.47777 \n",
      "[   41] iter, [0.156844] epoch, avg loss: 0.704, attn_loss: -0.47777 \n",
      "[   46] iter, [0.176449] epoch, avg loss: 0.776, attn_loss: -0.47777 \n",
      "[   51] iter, [0.196054] epoch, avg loss: 0.768, attn_loss: -0.47777 \n",
      "[   56] iter, [0.215660] epoch, avg loss: 0.754, attn_loss: -0.47777 \n",
      "[   61] iter, [0.235265] epoch, avg loss: 0.852, attn_loss: -0.47777 \n",
      "[   66] iter, [0.254871] epoch, avg loss: 0.773, attn_loss: -0.47777 \n",
      "[   71] iter, [0.274476] epoch, avg loss: 0.726, attn_loss: -0.47777 \n",
      "[   76] iter, [0.294082] epoch, avg loss: 0.798, attn_loss: -0.47777 \n",
      "[   81] iter, [0.313687] epoch, avg loss: 0.574, attn_loss: -0.47777 \n",
      "[   86] iter, [0.333292] epoch, avg loss: 0.887, attn_loss: -0.47777 \n",
      "[   91] iter, [0.352898] epoch, avg loss: 0.751, attn_loss: -0.47777 \n",
      "[   96] iter, [0.372503] epoch, avg loss: 0.583, attn_loss: -0.47777 \n",
      "[  101] iter, [0.392109] epoch, avg loss: 0.836, attn_loss: -0.47777 \n",
      "[  106] iter, [0.411714] epoch, avg loss: 0.666, attn_loss: -0.47777 \n",
      "[  111] iter, [0.431320] epoch, avg loss: 0.709, attn_loss: -0.47777 \n",
      "[  116] iter, [0.450925] epoch, avg loss: 0.718, attn_loss: -0.47777 \n",
      "[  121] iter, [0.470531] epoch, avg loss: 0.550, attn_loss: -0.47777 \n",
      "[  126] iter, [0.490136] epoch, avg loss: 0.766, attn_loss: -0.47777 \n",
      "[  131] iter, [0.509741] epoch, avg loss: 0.829, attn_loss: -0.47777 \n",
      "[  136] iter, [0.529347] epoch, avg loss: 0.708, attn_loss: -0.47777 \n",
      "[  141] iter, [0.548952] epoch, avg loss: 0.733, attn_loss: -0.47777 \n",
      "[  146] iter, [0.568558] epoch, avg loss: 0.843, attn_loss: -0.47777 \n",
      "[  151] iter, [0.588163] epoch, avg loss: 0.890, attn_loss: -0.47777 \n",
      "[  156] iter, [0.607769] epoch, avg loss: 0.883, attn_loss: -0.47777 \n",
      "[  161] iter, [0.627374] epoch, avg loss: 1.042, attn_loss: -0.47777 \n",
      "[  166] iter, [0.646980] epoch, avg loss: 0.749, attn_loss: -0.47777 \n",
      "[  171] iter, [0.666585] epoch, avg loss: 1.001, attn_loss: -0.47777 \n",
      "[  176] iter, [0.686190] epoch, avg loss: 0.735, attn_loss: -0.47777 \n",
      "[  181] iter, [0.705796] epoch, avg loss: 0.971, attn_loss: -0.47777 \n",
      "[  186] iter, [0.725401] epoch, avg loss: 0.908, attn_loss: -0.47777 \n",
      "[  191] iter, [0.745007] epoch, avg loss: 0.910, attn_loss: -0.47777 \n",
      "[  196] iter, [0.764612] epoch, avg loss: 0.710, attn_loss: -0.47777 \n",
      "[  201] iter, [0.784218] epoch, avg loss: 0.793, attn_loss: -0.47777 \n",
      "[  206] iter, [0.803823] epoch, avg loss: 0.735, attn_loss: -0.47777 \n",
      "[  211] iter, [0.823429] epoch, avg loss: 0.951, attn_loss: -0.47777 \n",
      "[  216] iter, [0.843034] epoch, avg loss: 1.027, attn_loss: -0.47777 \n",
      "[  221] iter, [0.862639] epoch, avg loss: 1.059, attn_loss: -0.47777 \n",
      "[  226] iter, [0.882245] epoch, avg loss: 0.788, attn_loss: -0.47777 \n",
      "[  231] iter, [0.901850] epoch, avg loss: 1.053, attn_loss: -0.47777 \n",
      "[  236] iter, [0.921456] epoch, avg loss: 0.947, attn_loss: -0.47777 \n",
      "[  241] iter, [0.941061] epoch, avg loss: 0.830, attn_loss: -0.47777 \n",
      "[  246] iter, [0.960667] epoch, avg loss: 0.973, attn_loss: -0.47777 \n",
      "[  251] iter, [0.980272] epoch, avg loss: 0.885, attn_loss: -0.47777 \n",
      "[  256] iter, [0.999877] epoch, avg loss: 0.887, attn_loss: -0.47777 \n"
     ]
    },
    {
     "name": "stderr",
     "output_type": "stream",
     "text": [
      "100%|██████████| 256/256 [01:06<00:00,  3.85it/s]\n",
      "100%|██████████| 55/55 [00:14<00:00,  3.82it/s]"
     ]
    },
    {
     "name": "stdout",
     "output_type": "stream",
     "text": [
      "{'train_accu': 0.805538536944002, 'val_accu': 0.40592930444697833}\n"
     ]
    },
    {
     "name": "stderr",
     "output_type": "stream",
     "text": [
      "\n"
     ]
    },
    {
     "name": "stdout",
     "output_type": "stream",
     "text": [
      "[    1] iter, [0.000000] epoch, avg loss: -0.011, attn_loss: -0.09555 \n",
      "[    6] iter, [0.019605] epoch, avg loss: -0.020, attn_loss: -0.47917 \n",
      "[   11] iter, [0.039211] epoch, avg loss: 0.139, attn_loss: -0.48155 \n",
      "[   16] iter, [0.058816] epoch, avg loss: -0.033, attn_loss: -0.48394 \n",
      "[   21] iter, [0.078422] epoch, avg loss: 0.020, attn_loss: -0.48636 \n",
      "[   26] iter, [0.098027] epoch, avg loss: 0.080, attn_loss: -0.48882 \n",
      "[   31] iter, [0.117633] epoch, avg loss: -0.002, attn_loss: -0.49131 \n",
      "[   36] iter, [0.137238] epoch, avg loss: 0.034, attn_loss: -0.49380 \n",
      "[   41] iter, [0.156844] epoch, avg loss: 0.119, attn_loss: -0.49628 \n",
      "[   46] iter, [0.176449] epoch, avg loss: 0.067, attn_loss: -0.49879 \n",
      "[   51] iter, [0.196054] epoch, avg loss: -0.104, attn_loss: -0.50130 \n",
      "[   56] iter, [0.215660] epoch, avg loss: 0.016, attn_loss: -0.50382 \n",
      "[   61] iter, [0.235265] epoch, avg loss: -0.085, attn_loss: -0.50636 \n",
      "[   66] iter, [0.254871] epoch, avg loss: 0.025, attn_loss: -0.50891 \n",
      "[   71] iter, [0.274476] epoch, avg loss: -0.184, attn_loss: -0.51150 \n",
      "[   76] iter, [0.294082] epoch, avg loss: -0.102, attn_loss: -0.51410 \n",
      "[   81] iter, [0.313687] epoch, avg loss: -0.053, attn_loss: -0.51672 \n",
      "[   86] iter, [0.333292] epoch, avg loss: -0.058, attn_loss: -0.51933 \n",
      "[   91] iter, [0.352898] epoch, avg loss: -0.056, attn_loss: -0.52194 \n",
      "[   96] iter, [0.372503] epoch, avg loss: -0.057, attn_loss: -0.52456 \n",
      "[  101] iter, [0.392109] epoch, avg loss: -0.010, attn_loss: -0.52719 \n",
      "[  106] iter, [0.411714] epoch, avg loss: -0.089, attn_loss: -0.52983 \n",
      "[  111] iter, [0.431320] epoch, avg loss: -0.004, attn_loss: -0.53247 \n",
      "[  116] iter, [0.450925] epoch, avg loss: 0.109, attn_loss: -0.53512 \n",
      "[  121] iter, [0.470531] epoch, avg loss: -0.103, attn_loss: -0.53776 \n",
      "[  126] iter, [0.490136] epoch, avg loss: -0.084, attn_loss: -0.54045 \n",
      "[  131] iter, [0.509741] epoch, avg loss: -0.054, attn_loss: -0.54313 \n",
      "[  136] iter, [0.529347] epoch, avg loss: -0.082, attn_loss: -0.54584 \n",
      "[  141] iter, [0.548952] epoch, avg loss: -0.087, attn_loss: -0.54859 \n",
      "[  146] iter, [0.568558] epoch, avg loss: -0.077, attn_loss: -0.55136 \n",
      "[  151] iter, [0.588163] epoch, avg loss: -0.014, attn_loss: -0.55413 \n",
      "[  156] iter, [0.607769] epoch, avg loss: -0.018, attn_loss: -0.55691 \n",
      "[  161] iter, [0.627374] epoch, avg loss: -0.170, attn_loss: -0.55966 \n",
      "[  166] iter, [0.646980] epoch, avg loss: -0.144, attn_loss: -0.56242 \n",
      "[  171] iter, [0.666585] epoch, avg loss: -0.016, attn_loss: -0.56521 \n",
      "[  176] iter, [0.686190] epoch, avg loss: -0.019, attn_loss: -0.56800 \n",
      "[  181] iter, [0.705796] epoch, avg loss: -0.075, attn_loss: -0.57080 \n",
      "[  186] iter, [0.725401] epoch, avg loss: -0.220, attn_loss: -0.57359 \n",
      "[  191] iter, [0.745007] epoch, avg loss: -0.175, attn_loss: -0.57640 \n",
      "[  196] iter, [0.764612] epoch, avg loss: -0.102, attn_loss: -0.57922 \n",
      "[  201] iter, [0.784218] epoch, avg loss: -0.142, attn_loss: -0.58208 \n",
      "[  206] iter, [0.803823] epoch, avg loss: -0.154, attn_loss: -0.58497 \n",
      "[  211] iter, [0.823429] epoch, avg loss: -0.148, attn_loss: -0.58787 \n",
      "[  216] iter, [0.843034] epoch, avg loss: -0.203, attn_loss: -0.59080 \n",
      "[  221] iter, [0.862639] epoch, avg loss: -0.049, attn_loss: -0.59372 \n",
      "[  226] iter, [0.882245] epoch, avg loss: -0.051, attn_loss: -0.59664 \n",
      "[  231] iter, [0.901850] epoch, avg loss: -0.180, attn_loss: -0.59955 \n",
      "[  236] iter, [0.921456] epoch, avg loss: -0.091, attn_loss: -0.60246 \n",
      "[  241] iter, [0.941061] epoch, avg loss: -0.052, attn_loss: -0.60538 \n",
      "[  246] iter, [0.960667] epoch, avg loss: 0.017, attn_loss: -0.60831 \n",
      "[  251] iter, [0.980272] epoch, avg loss: -0.175, attn_loss: -0.61126 \n",
      "[  256] iter, [0.999877] epoch, avg loss: -0.168, attn_loss: -0.61421 \n"
     ]
    },
    {
     "name": "stderr",
     "output_type": "stream",
     "text": [
      "100%|██████████| 256/256 [01:06<00:00,  3.84it/s]\n",
      "100%|██████████| 55/55 [00:14<00:00,  3.81it/s]"
     ]
    },
    {
     "name": "stdout",
     "output_type": "stream",
     "text": [
      "{'train_accu': 0.8891067271167749, 'val_accu': 0.443557582668187}\n"
     ]
    },
    {
     "name": "stderr",
     "output_type": "stream",
     "text": [
      "\n"
     ]
    },
    {
     "name": "stdout",
     "output_type": "stream",
     "text": [
      "[    1] iter, [0.000000] epoch, avg loss: 0.098, attn_loss: -0.12319 \n",
      "[    6] iter, [0.019605] epoch, avg loss: 0.871, attn_loss: -0.61597 \n",
      "[   11] iter, [0.039211] epoch, avg loss: 0.856, attn_loss: -0.61597 \n",
      "[   16] iter, [0.058816] epoch, avg loss: 1.051, attn_loss: -0.61597 \n",
      "[   21] iter, [0.078422] epoch, avg loss: 1.239, attn_loss: -0.61597 \n",
      "[   26] iter, [0.098027] epoch, avg loss: 1.105, attn_loss: -0.61597 \n",
      "[   31] iter, [0.117633] epoch, avg loss: 0.750, attn_loss: -0.61597 \n",
      "[   36] iter, [0.137238] epoch, avg loss: 0.809, attn_loss: -0.61597 \n",
      "[   41] iter, [0.156844] epoch, avg loss: 0.715, attn_loss: -0.61597 \n",
      "[   46] iter, [0.176449] epoch, avg loss: 0.663, attn_loss: -0.61597 \n",
      "[   51] iter, [0.196054] epoch, avg loss: 0.554, attn_loss: -0.61597 \n",
      "[   56] iter, [0.215660] epoch, avg loss: 0.607, attn_loss: -0.61597 \n",
      "[   61] iter, [0.235265] epoch, avg loss: 0.753, attn_loss: -0.61597 \n",
      "[   66] iter, [0.254871] epoch, avg loss: 0.526, attn_loss: -0.61597 \n",
      "[   71] iter, [0.274476] epoch, avg loss: 0.616, attn_loss: -0.61597 \n",
      "[   76] iter, [0.294082] epoch, avg loss: 0.633, attn_loss: -0.61597 \n",
      "[   81] iter, [0.313687] epoch, avg loss: 0.523, attn_loss: -0.61597 \n",
      "[   86] iter, [0.333292] epoch, avg loss: 0.773, attn_loss: -0.61597 \n",
      "[   91] iter, [0.352898] epoch, avg loss: 0.701, attn_loss: -0.61597 \n",
      "[   96] iter, [0.372503] epoch, avg loss: 0.576, attn_loss: -0.61597 \n",
      "[  101] iter, [0.392109] epoch, avg loss: 0.531, attn_loss: -0.61597 \n",
      "[  106] iter, [0.411714] epoch, avg loss: 0.630, attn_loss: -0.61597 \n",
      "[  111] iter, [0.431320] epoch, avg loss: 0.536, attn_loss: -0.61597 \n",
      "[  116] iter, [0.450925] epoch, avg loss: 0.604, attn_loss: -0.61597 \n",
      "[  121] iter, [0.470531] epoch, avg loss: 0.678, attn_loss: -0.61597 \n",
      "[  126] iter, [0.490136] epoch, avg loss: 0.747, attn_loss: -0.61597 \n",
      "[  131] iter, [0.509741] epoch, avg loss: 0.670, attn_loss: -0.61597 \n",
      "[  136] iter, [0.529347] epoch, avg loss: 0.684, attn_loss: -0.61597 \n",
      "[  141] iter, [0.548952] epoch, avg loss: 0.710, attn_loss: -0.61597 \n",
      "[  146] iter, [0.568558] epoch, avg loss: 0.550, attn_loss: -0.61597 \n",
      "[  151] iter, [0.588163] epoch, avg loss: 0.688, attn_loss: -0.61597 \n",
      "[  156] iter, [0.607769] epoch, avg loss: 0.610, attn_loss: -0.61597 \n",
      "[  161] iter, [0.627374] epoch, avg loss: 0.722, attn_loss: -0.61597 \n",
      "[  166] iter, [0.646980] epoch, avg loss: 0.755, attn_loss: -0.61597 \n",
      "[  171] iter, [0.666585] epoch, avg loss: 0.794, attn_loss: -0.61597 \n",
      "[  176] iter, [0.686190] epoch, avg loss: 0.658, attn_loss: -0.61597 \n",
      "[  181] iter, [0.705796] epoch, avg loss: 0.722, attn_loss: -0.61597 \n",
      "[  186] iter, [0.725401] epoch, avg loss: 0.660, attn_loss: -0.61597 \n",
      "[  191] iter, [0.745007] epoch, avg loss: 0.795, attn_loss: -0.61597 \n",
      "[  196] iter, [0.764612] epoch, avg loss: 0.691, attn_loss: -0.61597 \n",
      "[  201] iter, [0.784218] epoch, avg loss: 0.618, attn_loss: -0.61597 \n",
      "[  206] iter, [0.803823] epoch, avg loss: 0.996, attn_loss: -0.61597 \n",
      "[  211] iter, [0.823429] epoch, avg loss: 0.777, attn_loss: -0.61597 \n",
      "[  216] iter, [0.843034] epoch, avg loss: 0.837, attn_loss: -0.61597 \n",
      "[  221] iter, [0.862639] epoch, avg loss: 0.834, attn_loss: -0.61597 \n",
      "[  226] iter, [0.882245] epoch, avg loss: 0.832, attn_loss: -0.61597 \n",
      "[  231] iter, [0.901850] epoch, avg loss: 0.914, attn_loss: -0.61597 \n",
      "[  236] iter, [0.921456] epoch, avg loss: 0.769, attn_loss: -0.61597 \n",
      "[  241] iter, [0.941061] epoch, avg loss: 0.998, attn_loss: -0.61597 \n",
      "[  246] iter, [0.960667] epoch, avg loss: 0.751, attn_loss: -0.61597 \n",
      "[  251] iter, [0.980272] epoch, avg loss: 0.721, attn_loss: -0.61597 \n",
      "[  256] iter, [0.999877] epoch, avg loss: 0.627, attn_loss: -0.61597 \n"
     ]
    },
    {
     "name": "stderr",
     "output_type": "stream",
     "text": [
      "100%|██████████| 256/256 [01:06<00:00,  3.85it/s]\n",
      "100%|██████████| 55/55 [00:14<00:00,  3.82it/s]"
     ]
    },
    {
     "name": "stdout",
     "output_type": "stream",
     "text": [
      "{'train_accu': 0.8235510354123269, 'val_accu': 0.4122006841505131}\n"
     ]
    },
    {
     "name": "stderr",
     "output_type": "stream",
     "text": [
      "\n"
     ]
    },
    {
     "name": "stdout",
     "output_type": "stream",
     "text": [
      "[    1] iter, [0.000000] epoch, avg loss: -0.031, attn_loss: -0.12319 \n",
      "[    6] iter, [0.019605] epoch, avg loss: -0.159, attn_loss: -0.61769 \n",
      "[   11] iter, [0.039211] epoch, avg loss: -0.144, attn_loss: -0.62054 \n",
      "[   16] iter, [0.058816] epoch, avg loss: -0.164, attn_loss: -0.62339 \n",
      "[   21] iter, [0.078422] epoch, avg loss: -0.260, attn_loss: -0.62625 \n",
      "[   26] iter, [0.098027] epoch, avg loss: -0.111, attn_loss: -0.62911 \n",
      "[   31] iter, [0.117633] epoch, avg loss: 0.028, attn_loss: -0.63197 \n",
      "[   36] iter, [0.137238] epoch, avg loss: -0.285, attn_loss: -0.63483 \n",
      "[   41] iter, [0.156844] epoch, avg loss: -0.108, attn_loss: -0.63772 \n",
      "[   46] iter, [0.176449] epoch, avg loss: -0.070, attn_loss: -0.64058 \n",
      "[   51] iter, [0.196054] epoch, avg loss: -0.354, attn_loss: -0.64342 \n",
      "[   56] iter, [0.215660] epoch, avg loss: -0.385, attn_loss: -0.64627 \n",
      "[   61] iter, [0.235265] epoch, avg loss: -0.209, attn_loss: -0.64914 \n",
      "[   66] iter, [0.254871] epoch, avg loss: -0.260, attn_loss: -0.65203 \n",
      "[   71] iter, [0.274476] epoch, avg loss: -0.288, attn_loss: -0.65495 \n",
      "[   76] iter, [0.294082] epoch, avg loss: -0.258, attn_loss: -0.65791 \n",
      "[   81] iter, [0.313687] epoch, avg loss: -0.238, attn_loss: -0.66090 \n",
      "[   86] iter, [0.333292] epoch, avg loss: -0.238, attn_loss: -0.66390 \n",
      "[   91] iter, [0.352898] epoch, avg loss: -0.223, attn_loss: -0.66691 \n",
      "[   96] iter, [0.372503] epoch, avg loss: -0.208, attn_loss: -0.66991 \n",
      "[  101] iter, [0.392109] epoch, avg loss: -0.223, attn_loss: -0.67292 \n",
      "[  106] iter, [0.411714] epoch, avg loss: -0.158, attn_loss: -0.67594 \n",
      "[  111] iter, [0.431320] epoch, avg loss: -0.365, attn_loss: -0.67898 \n",
      "[  116] iter, [0.450925] epoch, avg loss: -0.272, attn_loss: -0.68205 \n",
      "[  121] iter, [0.470531] epoch, avg loss: -0.281, attn_loss: -0.68512 \n",
      "[  126] iter, [0.490136] epoch, avg loss: -0.245, attn_loss: -0.68821 \n",
      "[  131] iter, [0.509741] epoch, avg loss: -0.206, attn_loss: -0.69129 \n",
      "[  136] iter, [0.529347] epoch, avg loss: -0.311, attn_loss: -0.69437 \n",
      "[  141] iter, [0.548952] epoch, avg loss: -0.274, attn_loss: -0.69747 \n",
      "[  146] iter, [0.568558] epoch, avg loss: -0.455, attn_loss: -0.70061 \n",
      "[  151] iter, [0.588163] epoch, avg loss: -0.430, attn_loss: -0.70376 \n",
      "[  156] iter, [0.607769] epoch, avg loss: -0.328, attn_loss: -0.70690 \n",
      "[  161] iter, [0.627374] epoch, avg loss: -0.238, attn_loss: -0.71004 \n",
      "[  166] iter, [0.646980] epoch, avg loss: -0.286, attn_loss: -0.71318 \n",
      "[  171] iter, [0.666585] epoch, avg loss: -0.250, attn_loss: -0.71633 \n",
      "[  176] iter, [0.686190] epoch, avg loss: -0.257, attn_loss: -0.71948 \n",
      "[  181] iter, [0.705796] epoch, avg loss: -0.252, attn_loss: -0.72267 \n",
      "[  186] iter, [0.725401] epoch, avg loss: -0.214, attn_loss: -0.72588 \n",
      "[  191] iter, [0.745007] epoch, avg loss: -0.300, attn_loss: -0.72907 \n",
      "[  196] iter, [0.764612] epoch, avg loss: -0.253, attn_loss: -0.73227 \n",
      "[  201] iter, [0.784218] epoch, avg loss: -0.268, attn_loss: -0.73549 \n",
      "[  206] iter, [0.803823] epoch, avg loss: -0.231, attn_loss: -0.73874 \n",
      "[  211] iter, [0.823429] epoch, avg loss: -0.280, attn_loss: -0.74201 \n",
      "[  216] iter, [0.843034] epoch, avg loss: -0.370, attn_loss: -0.74527 \n",
      "[  221] iter, [0.862639] epoch, avg loss: -0.432, attn_loss: -0.74854 \n",
      "[  226] iter, [0.882245] epoch, avg loss: -0.166, attn_loss: -0.75181 \n",
      "[  231] iter, [0.901850] epoch, avg loss: -0.341, attn_loss: -0.75509 \n",
      "[  236] iter, [0.921456] epoch, avg loss: -0.384, attn_loss: -0.75838 \n",
      "[  241] iter, [0.941061] epoch, avg loss: -0.383, attn_loss: -0.76173 \n",
      "[  246] iter, [0.960667] epoch, avg loss: -0.449, attn_loss: -0.76508 \n",
      "[  251] iter, [0.980272] epoch, avg loss: -0.324, attn_loss: -0.76844 \n",
      "[  256] iter, [0.999877] epoch, avg loss: -0.526, attn_loss: -0.77183 \n"
     ]
    },
    {
     "name": "stderr",
     "output_type": "stream",
     "text": [
      "100%|██████████| 256/256 [01:06<00:00,  3.84it/s]\n",
      "100%|██████████| 55/55 [00:14<00:00,  3.81it/s]"
     ]
    },
    {
     "name": "stdout",
     "output_type": "stream",
     "text": [
      "{'train_accu': 0.9123881877220928, 'val_accu': 0.43443557582668185}\n"
     ]
    },
    {
     "name": "stderr",
     "output_type": "stream",
     "text": [
      "\n"
     ]
    }
   ],
   "source": [
    "for _ in range(8):\n",
    "    turn_off_grad_except(['fc'])\n",
    "    resnet_attn.eval() # Turn off batchnorm\n",
    "    train_one_epoch(add_attn=False)\n",
    "    print(score(batch_size=32))\n",
    "\n",
    "    turn_off_grad_except(['attn_weights'])\n",
    "    resnet_attn.eval() # Turn on batchnorm\n",
    "    _lambda = 1e-1\n",
    "    train_one_epoch(add_attn=True)\n",
    "    print(score(batch_size=32))"
   ]
  },
  {
   "cell_type": "markdown",
   "metadata": {},
   "source": [
    "Training accuracy history:\n",
    "```\n",
    "{'train_accu': 0.37078789364048526, 'val_accu': 0.3055872291904219}\n",
    "{'train_accu': 0.45827717191520645, 'val_accu': 0.3751425313568985}\n",
    "{'train_accu': 0.4863374586447739, 'val_accu': 0.3523375142531357}\n",
    "{'train_accu': 0.5705183188334763, 'val_accu': 0.4167616875712657}\n",
    "{'train_accu': 0.5746844749417963, 'val_accu': 0.4007981755986317}\n",
    "{'train_accu': 0.6505330229138586, 'val_accu': 0.43557582668187}\n",
    "{'train_accu': 0.6560470530572233, 'val_accu': 0.42303306727480045}\n",
    "{'train_accu': 0.7155985786055631, 'val_accu': 0.44070695553021666}\n",
    "{'train_accu': 0.6556794510476657, 'val_accu': 0.3979475484606613}\n",
    "{'train_accu': 0.7488052934689376, 'val_accu': 0.44241733181299886}\n",
    "{'train_accu': 0.7032226442837888, 'val_accu': 0.3996579247434436}\n",
    "{'train_accu': 0.7916921945839971, 'val_accu': 0.4321550741163056}\n",
    "{'train_accu': 0.7394927092268104, 'val_accu': 0.3996579247434436}\n",
    "{'train_accu': 0.8248989094473717, 'val_accu': 0.43272519954389965}\n",
    "{'train_accu': 0.7874035044724911, 'val_accu': 0.4224629418472064}\n",
    "{'train_accu': 0.8693787526038476, 'val_accu': 0.4315849486887115}\n",
    "{'train_accu': 0.805538536944002, 'val_accu': 0.40592930444697833}\n",
    "{'train_accu': 0.8891067271167749, 'val_accu': 0.443557582668187}\n",
    "{'train_accu': 0.8235510354123269, 'val_accu': 0.4122006841505131}\n",
    "{'train_accu': 0.9123881877220928, 'val_accu': 0.43443557582668185}\n",
    "```"
   ]
  },
  {
   "cell_type": "code",
   "execution_count": 24,
   "metadata": {},
   "outputs": [],
   "source": [
    "from ast import literal_eval"
   ]
  },
  {
   "cell_type": "code",
   "execution_count": 29,
   "metadata": {},
   "outputs": [],
   "source": [
    "raw = \"\"\"\n",
    "{'train_accu': 0.37078789364048526, 'val_accu': 0.3055872291904219}\n",
    "{'train_accu': 0.45827717191520645, 'val_accu': 0.3751425313568985}\n",
    "{'train_accu': 0.4863374586447739, 'val_accu': 0.3523375142531357}\n",
    "{'train_accu': 0.5705183188334763, 'val_accu': 0.4167616875712657}\n",
    "{'train_accu': 0.5746844749417963, 'val_accu': 0.4007981755986317}\n",
    "{'train_accu': 0.6505330229138586, 'val_accu': 0.43557582668187}\n",
    "{'train_accu': 0.6560470530572233, 'val_accu': 0.42303306727480045}\n",
    "{'train_accu': 0.7155985786055631, 'val_accu': 0.44070695553021666}\n",
    "{'train_accu': 0.6556794510476657, 'val_accu': 0.3979475484606613}\n",
    "{'train_accu': 0.7488052934689376, 'val_accu': 0.44241733181299886}\n",
    "{'train_accu': 0.7032226442837888, 'val_accu': 0.3996579247434436}\n",
    "{'train_accu': 0.7916921945839971, 'val_accu': 0.4321550741163056}\n",
    "{'train_accu': 0.7394927092268104, 'val_accu': 0.3996579247434436}\n",
    "{'train_accu': 0.8248989094473717, 'val_accu': 0.43272519954389965}\n",
    "{'train_accu': 0.7874035044724911, 'val_accu': 0.4224629418472064}\n",
    "{'train_accu': 0.8693787526038476, 'val_accu': 0.4315849486887115}\n",
    "{'train_accu': 0.805538536944002, 'val_accu': 0.40592930444697833}\n",
    "{'train_accu': 0.8891067271167749, 'val_accu': 0.443557582668187}\n",
    "{'train_accu': 0.8235510354123269, 'val_accu': 0.4122006841505131}\n",
    "{'train_accu': 0.9123881877220928, 'val_accu': 0.43443557582668185}\n",
    "\"\"\"\n",
    "data = [literal_eval(d.rstrip('\\n')) for d in raw.split('\\n')[1:-1]]"
   ]
  },
  {
   "cell_type": "code",
   "execution_count": 31,
   "metadata": {},
   "outputs": [],
   "source": [
    "import numpy as np\n",
    "import pandas as pd\n",
    "import matplotlib.pyplot as plt\n",
    "%matplotlib inline\n",
    "\n",
    "import seaborn as sns"
   ]
  },
  {
   "cell_type": "code",
   "execution_count": 32,
   "metadata": {},
   "outputs": [],
   "source": [
    "df = pd.DataFrame.from_dict(data)"
   ]
  },
  {
   "cell_type": "code",
   "execution_count": 53,
   "metadata": {},
   "outputs": [
    {
     "data": {
      "text/plain": [
       "Text(0,0.5,'Accuracy')"
      ]
     },
     "execution_count": 53,
     "metadata": {},
     "output_type": "execute_result"
    },
    {
     "data": {
      "image/png": "[encoded data removed]",
      "text/plain": [
       "<Figure size 720x432 with 1 Axes>"
      ]
     },
     "metadata": {},
     "output_type": "display_data"
    }
   ],
   "source": [
    "df.plot(figsize=(10,6))\n",
    "label_flag = True\n",
    "for i,j in zip(range(0,20,2), range(1,20,2)):\n",
    "    if label_flag:\n",
    "        plt.axvspan(i, j, alpha=0.1, color='green', label='attn effect')\n",
    "        label_flag = False\n",
    "    else:\n",
    "        plt.axvspan(i, j, alpha=0.1, color='green')\n",
    "plt.legend()\n",
    "plt.title(\"Effect of Attention on Training/Validation Accuracy During Overfitting\")\n",
    "plt.xlabel(\"Epoch\")\n",
    "plt.ylabel(\"Accuracy\")"
   ]
  },
  {
   "cell_type": "code",
   "execution_count": 59,
   "metadata": {},
   "outputs": [
    {
     "data": {
      "text/plain": [
       "array([0.9806824 , 1.1112585 , 0.97564965, 1.0211104 , 0.90706146],\n",
       "      dtype=float32)"
      ]
     },
     "execution_count": 59,
     "metadata": {},
     "output_type": "execute_result"
    }
   ],
   "source": [
    "resnet_attn.layer4[0].conv1.attn_weights.cpu().data.numpy().squeeze()[:5]"
   ]
  },
  {
   "cell_type": "code",
   "execution_count": null,
   "metadata": {},
   "outputs": [],
   "source": []
  }
 ],
 "metadata": {
  "kernelspec": {
   "display_name": "Python 3",
   "language": "python",
   "name": "python3"
  },
  "language_info": {
   "codemirror_mode": {
    "name": "ipython",
    "version": 3
   },
   "file_extension": ".py",
   "mimetype": "text/x-python",
   "name": "python",
   "nbconvert_exporter": "python",
   "pygments_lexer": "ipython3",
   "version": "3.6.4"
  }
 },
 "nbformat": 4,
 "nbformat_minor": 2
}
