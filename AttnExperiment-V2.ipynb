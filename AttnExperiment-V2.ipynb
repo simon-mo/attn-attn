{
 "cells": [
  {
   "cell_type": "code",
   "execution_count": 1,
   "metadata": {
    "collapsed": true
   },
   "outputs": [],
   "source": [
    "from AttentionModule import Conv2d_Attn\n",
    "\n",
    "import torch\n",
    "from torch import nn\n",
    "from torchvision import models, datasets, transforms\n",
    "import torch.optim as optim\n",
    "from torch.autograd import Variable\n",
    "import torchvision\n",
    "import torchvision.transforms as transforms\n",
    "\n",
    "import re\n",
    "import numpy as np"
   ]
  },
  {
   "cell_type": "code",
   "execution_count": 2,
   "metadata": {},
   "outputs": [],
   "source": [
    "resnet_pretrained = models.resnet50(pretrained=True)\n",
    "nn.Conv2d = Conv2d_Attn\n",
    "resnet_attn = models.resnet50()\n",
    "resnet_attn.load_state_dict(resnet_pretrained.state_dict(), strict=False)"
   ]
  },
  {
   "cell_type": "code",
   "execution_count": 3,
   "metadata": {
    "collapsed": true
   },
   "outputs": [],
   "source": [
    "# This block turns 'layer1.0.downsample.0.weight' to 'layer1[0].downsample[0].weight'\n",
    "param_keys = list(resnet_attn.state_dict().keys())\n",
    "formatted_keys = []\n",
    "for k in param_keys:\n",
    "    found = re.findall(r'\\.[\\d]{1,2}\\.', k)\n",
    "    if len(found):\n",
    "        for f in found:\n",
    "            k = k.replace(f, '[{}].'.format(f.strip('.')))\n",
    "    formatted_keys.append(k)"
   ]
  },
  {
   "cell_type": "code",
   "execution_count": 4,
   "metadata": {
    "collapsed": true
   },
   "outputs": [],
   "source": [
    "# This block turn off gradient up for all params except attn_weights\n",
    "def turn_off_grad_except(lst=[]):\n",
    "    for k in formatted_keys:\n",
    "        obj = eval('resnet_attn.'+k)\n",
    "        for kw in lst:\n",
    "            if not kw in k:\n",
    "                obj.requires_grad = False\n",
    "            else:\n",
    "                obj.requires_grad = True"
   ]
  },
  {
   "cell_type": "code",
   "execution_count": 5,
   "metadata": {
    "collapsed": true
   },
   "outputs": [],
   "source": [
    "resnet_attn.fc = nn.Linear(resnet_attn.fc.in_features, 144)"
   ]
  },
  {
   "cell_type": "markdown",
   "metadata": {},
   "source": [
    "Start training"
   ]
  },
  {
   "cell_type": "code",
   "execution_count": 6,
   "metadata": {},
   "outputs": [],
   "source": [
    "batch_size = 32"
   ]
  },
  {
   "cell_type": "code",
   "execution_count": 7,
   "metadata": {},
   "outputs": [],
   "source": [
    "normalize = transforms.Normalize(mean=[0.485, 0.456, 0.406],\n",
    "                                 std=[0.229, 0.224, 0.225])\n",
    "transform = transforms.Compose(\n",
    "    [transforms.ToTensor(),\n",
    "     normalize])\n",
    "\n",
    "trainset = torchvision.datasets.ImageFolder(root='./data/train', transform=transform)\n",
    "trainloader = torch.utils.data.DataLoader(trainset, batch_size=batch_size,\n",
    "                                          shuffle=True, num_workers=2)"
   ]
  },
  {
   "cell_type": "code",
   "execution_count": 8,
   "metadata": {},
   "outputs": [],
   "source": [
    "total_imgs = len(trainset.imgs)"
   ]
  },
  {
   "cell_type": "code",
   "execution_count": 9,
   "metadata": {
    "collapsed": true
   },
   "outputs": [],
   "source": [
    "resnet_attn = resnet_attn.cuda()"
   ]
  },
  {
   "cell_type": "code",
   "execution_count": 10,
   "metadata": {},
   "outputs": [
    {
     "name": "stdout",
     "output_type": "stream",
     "text": [
      "Total number of attention parameters 26560\n"
     ]
    }
   ],
   "source": [
    "total_attn_params = 0\n",
    "for k in formatted_keys:\n",
    "    obj = eval('resnet_attn.'+k)\n",
    "    if 'attn_weights' in k:\n",
    "        total_attn_params += np.prod(obj.shape)\n",
    "print(\"Total number of attention parameters\", total_attn_params)"
   ]
  },
  {
   "cell_type": "markdown",
   "metadata": {},
   "source": [
    "We want the attention parameters to diverge from 1, therefore we penalize element-wise square loss as $\\lambda (1 \\times \\text{# params} - (x - 1)^2)$\n",
    "\n",
    "But this is too big a number,\n",
    "let's try: \n",
    "$- (x - 1)^2$ for now"
   ]
  },
  {
   "cell_type": "code",
   "execution_count": 11,
   "metadata": {},
   "outputs": [],
   "source": [
    "_lambda = 1e-2 #set default"
   ]
  },
  {
   "cell_type": "code",
   "execution_count": 12,
   "metadata": {},
   "outputs": [],
   "source": [
    "def get_params_objs(name, net='resnet_attn'):\n",
    "    res = []\n",
    "    for k in formatted_keys:\n",
    "        obj = eval(f'{net}.'+k)\n",
    "        if name in k:\n",
    "            res.append(obj)\n",
    "    return res"
   ]
  },
  {
   "cell_type": "code",
   "execution_count": 13,
   "metadata": {},
   "outputs": [],
   "source": [
    "def compute_attn_loss(n_params=26560):\n",
    "    attns = get_params_objs('attn_weights')\n",
    "    penality = sum([torch.pow(t - 1,2).mean() for t in attns])\n",
    "    return _lambda*(- penality)"
   ]
  },
  {
   "cell_type": "code",
   "execution_count": 14,
   "metadata": {},
   "outputs": [],
   "source": [
    "print_every = 5"
   ]
  },
  {
   "cell_type": "code",
   "execution_count": 15,
   "metadata": {},
   "outputs": [],
   "source": [
    "def train_one_epoch(add_attn=True):\n",
    "    cls_criterion = nn.CrossEntropyLoss()\n",
    "    optimizer = optim.Adam(filter(lambda p: p.requires_grad, resnet_attn.parameters()))\n",
    "    \n",
    "    running_loss = 0.0\n",
    "    running_attn_loss = 0.0\n",
    "    for i, data in enumerate(trainloader, 0):\n",
    "        inputs, labels = data\n",
    "        inputs, labels = Variable(inputs).cuda(), Variable(labels).cuda()\n",
    "\n",
    "        optimizer.zero_grad()\n",
    "        outputs = resnet_attn(inputs)\n",
    "        clf_loss = cls_criterion(outputs, labels)\n",
    "        attn_loss = compute_attn_loss()\n",
    "        if add_attn:\n",
    "            loss = clf_loss + attn_loss\n",
    "        else:\n",
    "            loss = clf_loss\n",
    "\n",
    "        loss.backward()\n",
    "        optimizer.step()\n",
    "\n",
    "        running_loss += clf_loss.data[0]\n",
    "        running_attn_loss += attn_loss.data[0]\n",
    "\n",
    "        if i % print_every == 0:\n",
    "            print('[%5d] iter, [%2f] epoch, classifer loss: %.3f, attn_loss: %.5f ' %\n",
    "                  (i + 1, i*batch_size/total_imgs, running_loss/print_every, running_attn_loss/print_every))\n",
    "            running_loss = 0.0\n",
    "            running_attn_loss = 0.0"
   ]
  },
  {
   "cell_type": "code",
   "execution_count": 16,
   "metadata": {},
   "outputs": [],
   "source": [
    "from tqdm import tqdm\n",
    "def score(net=resnet_attn, batch_size=batch_size):\n",
    "    trainset = torchvision.datasets.ImageFolder(root='./data/train', transform=transform)\n",
    "    trainloader = torch.utils.data.DataLoader(trainset, batch_size=batch_size,\n",
    "                                              shuffle=True, num_workers=2)\n",
    "    \n",
    "    valset = torchvision.datasets.ImageFolder(root='./data/val', transform=transform)\n",
    "    valloader = torch.utils.data.DataLoader(valset, batch_size=batch_size,\n",
    "                                              shuffle=True, num_workers=2)\n",
    "    \n",
    "    train_correct = 0\n",
    "    val_correct = 0\n",
    "    \n",
    "    for inp, label in tqdm(iter(trainloader)):\n",
    "        _, idx = net(Variable(inp).cuda()).max(1)\n",
    "        train_correct += int(sum(idx.cpu().data == label))\n",
    "    \n",
    "    for inp, label in tqdm(iter(valloader)):\n",
    "        _, idx = net(Variable(inp).cuda()).max(1)\n",
    "        val_correct += int(sum(idx.cpu().data == label))\n",
    "    \n",
    "    return {\n",
    "        'train_accu': train_correct/len(trainset),\n",
    "        'val_accu': val_correct/len(valset)\n",
    "    }"
   ]
  },
  {
   "cell_type": "markdown",
   "metadata": {},
   "source": [
    "Train a fresh fc layer. \n",
    "`turn_off_grad_except([])` turns off grads for all weights but the fc layer"
   ]
  },
  {
   "cell_type": "code",
   "execution_count": 17,
   "metadata": {},
   "outputs": [],
   "source": [
    "print_every = 20"
   ]
  },
  {
   "cell_type": "code",
   "execution_count": 18,
   "metadata": {},
   "outputs": [],
   "source": [
    "train_in_order = [['fc'], ['attn_weights'], ['bn'], ['attn_weights'], ['bn']]*5"
   ]
  },
  {
   "cell_type": "code",
   "execution_count": 19,
   "metadata": {},
   "outputs": [],
   "source": [
    "_lambda = 5e-1"
   ]
  },
  {
   "cell_type": "code",
   "execution_count": 20,
   "metadata": {},
   "outputs": [],
   "source": [
    "scores = []"
   ]
  },
  {
   "cell_type": "code",
   "execution_count": 21,
   "metadata": {},
   "outputs": [
    {
     "name": "stdout",
     "output_type": "stream",
     "text": [
      "Training ['fc']\n",
      "[    1] iter, [0.000000] epoch, classifer loss: 0.252, attn_loss: 0.00000 \n",
      "[   21] iter, [0.078422] epoch, classifer loss: 4.761, attn_loss: 0.00000 \n",
      "[   41] iter, [0.156844] epoch, classifer loss: 4.150, attn_loss: 0.00000 \n",
      "[   61] iter, [0.235265] epoch, classifer loss: 3.622, attn_loss: 0.00000 \n",
      "[   81] iter, [0.313687] epoch, classifer loss: 3.510, attn_loss: 0.00000 \n",
      "[  101] iter, [0.392109] epoch, classifer loss: 3.324, attn_loss: 0.00000 \n",
      "[  121] iter, [0.470531] epoch, classifer loss: 3.277, attn_loss: 0.00000 \n",
      "[  141] iter, [0.548952] epoch, classifer loss: 3.195, attn_loss: 0.00000 \n",
      "[  161] iter, [0.627374] epoch, classifer loss: 3.228, attn_loss: 0.00000 \n",
      "[  181] iter, [0.705796] epoch, classifer loss: 2.899, attn_loss: 0.00000 \n",
      "[  201] iter, [0.784218] epoch, classifer loss: 2.920, attn_loss: 0.00000 \n",
      "[  221] iter, [0.862639] epoch, classifer loss: 3.033, attn_loss: 0.00000 \n",
      "[  241] iter, [0.941061] epoch, classifer loss: 3.026, attn_loss: 0.00000 \n"
     ]
    },
    {
     "name": "stderr",
     "output_type": "stream",
     "text": [
      "100%|██████████| 256/256 [01:06<00:00,  3.87it/s]\n",
      "100%|██████████| 55/55 [00:14<00:00,  3.84it/s]"
     ]
    },
    {
     "name": "stdout",
     "output_type": "stream",
     "text": [
      "{'train_accu': 0.37005268962136995, 'val_accu': 0.29874572405929306}\n",
      "Training ['attn_weights']\n"
     ]
    },
    {
     "name": "stderr",
     "output_type": "stream",
     "text": [
      "\n"
     ]
    },
    {
     "name": "stdout",
     "output_type": "stream",
     "text": [
      "[    1] iter, [0.000000] epoch, classifer loss: 0.142, attn_loss: 0.00000 \n",
      "[   21] iter, [0.078422] epoch, classifer loss: 2.426, attn_loss: -0.00054 \n",
      "[   41] iter, [0.156844] epoch, classifer loss: 2.408, attn_loss: -0.00181 \n",
      "[   61] iter, [0.235265] epoch, classifer loss: 2.381, attn_loss: -0.00348 \n",
      "[   81] iter, [0.313687] epoch, classifer loss: 2.344, attn_loss: -0.00603 \n",
      "[  101] iter, [0.392109] epoch, classifer loss: 2.197, attn_loss: -0.00968 \n",
      "[  121] iter, [0.470531] epoch, classifer loss: 2.168, attn_loss: -0.01446 \n",
      "[  141] iter, [0.548952] epoch, classifer loss: 2.374, attn_loss: -0.02049 \n",
      "[  161] iter, [0.627374] epoch, classifer loss: 2.260, attn_loss: -0.02784 \n",
      "[  181] iter, [0.705796] epoch, classifer loss: 2.209, attn_loss: -0.03694 \n",
      "[  201] iter, [0.784218] epoch, classifer loss: 2.240, attn_loss: -0.04785 \n",
      "[  221] iter, [0.862639] epoch, classifer loss: 2.224, attn_loss: -0.06043 \n",
      "[  241] iter, [0.941061] epoch, classifer loss: 2.276, attn_loss: -0.07488 \n"
     ]
    },
    {
     "name": "stderr",
     "output_type": "stream",
     "text": [
      "100%|██████████| 256/256 [01:06<00:00,  3.84it/s]\n",
      "100%|██████████| 55/55 [00:14<00:00,  3.82it/s]"
     ]
    },
    {
     "name": "stdout",
     "output_type": "stream",
     "text": [
      "{'train_accu': 0.45251807376546993, 'val_accu': 0.36488027366020526}\n",
      "Training ['bn']\n"
     ]
    },
    {
     "name": "stderr",
     "output_type": "stream",
     "text": [
      "\n"
     ]
    },
    {
     "name": "stdout",
     "output_type": "stream",
     "text": [
      "[    1] iter, [0.000000] epoch, classifer loss: 0.182, attn_loss: -0.00481 \n",
      "[   21] iter, [0.078422] epoch, classifer loss: 2.983, attn_loss: -0.09620 \n",
      "[   41] iter, [0.156844] epoch, classifer loss: 2.654, attn_loss: -0.09620 \n",
      "[   61] iter, [0.235265] epoch, classifer loss: 2.593, attn_loss: -0.09620 \n",
      "[   81] iter, [0.313687] epoch, classifer loss: 2.620, attn_loss: -0.09620 \n",
      "[  101] iter, [0.392109] epoch, classifer loss: 2.421, attn_loss: -0.09620 \n",
      "[  121] iter, [0.470531] epoch, classifer loss: 2.423, attn_loss: -0.09620 \n",
      "[  141] iter, [0.548952] epoch, classifer loss: 2.475, attn_loss: -0.09620 \n",
      "[  161] iter, [0.627374] epoch, classifer loss: 2.343, attn_loss: -0.09620 \n",
      "[  181] iter, [0.705796] epoch, classifer loss: 2.376, attn_loss: -0.09620 \n",
      "[  201] iter, [0.784218] epoch, classifer loss: 2.437, attn_loss: -0.09620 \n",
      "[  221] iter, [0.862639] epoch, classifer loss: 2.330, attn_loss: -0.09620 \n",
      "[  241] iter, [0.941061] epoch, classifer loss: 2.381, attn_loss: -0.09620 \n"
     ]
    },
    {
     "name": "stderr",
     "output_type": "stream",
     "text": [
      "100%|██████████| 256/256 [01:08<00:00,  3.72it/s]\n",
      "100%|██████████| 55/55 [00:14<00:00,  3.70it/s]"
     ]
    },
    {
     "name": "stdout",
     "output_type": "stream",
     "text": [
      "{'train_accu': 0.4620757260139689, 'val_accu': 0.3774230330672748}\n",
      "Training ['attn_weights']\n"
     ]
    },
    {
     "name": "stderr",
     "output_type": "stream",
     "text": [
      "\n"
     ]
    },
    {
     "name": "stdout",
     "output_type": "stream",
     "text": [
      "[    1] iter, [0.000000] epoch, classifer loss: 0.113, attn_loss: -0.00481 \n",
      "[   21] iter, [0.078422] epoch, classifer loss: 1.921, attn_loss: -0.10265 \n",
      "[   41] iter, [0.156844] epoch, classifer loss: 2.011, attn_loss: -0.11538 \n",
      "[   61] iter, [0.235265] epoch, classifer loss: 1.946, attn_loss: -0.12893 \n",
      "[   81] iter, [0.313687] epoch, classifer loss: 1.912, attn_loss: -0.14371 \n",
      "[  101] iter, [0.392109] epoch, classifer loss: 2.025, attn_loss: -0.15951 \n",
      "[  121] iter, [0.470531] epoch, classifer loss: 1.995, attn_loss: -0.17632 \n",
      "[  141] iter, [0.548952] epoch, classifer loss: 1.790, attn_loss: -0.19485 \n",
      "[  161] iter, [0.627374] epoch, classifer loss: 2.081, attn_loss: -0.21505 \n",
      "[  181] iter, [0.705796] epoch, classifer loss: 1.914, attn_loss: -0.23668 \n",
      "[  201] iter, [0.784218] epoch, classifer loss: 1.908, attn_loss: -0.26024 \n",
      "[  221] iter, [0.862639] epoch, classifer loss: 2.040, attn_loss: -0.28585 \n",
      "[  241] iter, [0.941061] epoch, classifer loss: 1.982, attn_loss: -0.31354 \n"
     ]
    },
    {
     "name": "stderr",
     "output_type": "stream",
     "text": [
      "100%|██████████| 256/256 [01:06<00:00,  3.84it/s]\n",
      "100%|██████████| 55/55 [00:14<00:00,  3.82it/s]"
     ]
    },
    {
     "name": "stdout",
     "output_type": "stream",
     "text": [
      "{'train_accu': 0.513662541355226, 'val_accu': 0.4064994298745724}\n",
      "Training ['bn']\n"
     ]
    },
    {
     "name": "stderr",
     "output_type": "stream",
     "text": [
      "\n"
     ]
    },
    {
     "name": "stdout",
     "output_type": "stream",
     "text": [
      "[    1] iter, [0.000000] epoch, classifer loss: 0.112, attn_loss: -0.01756 \n",
      "[   21] iter, [0.078422] epoch, classifer loss: 2.135, attn_loss: -0.35112 \n",
      "[   41] iter, [0.156844] epoch, classifer loss: 2.071, attn_loss: -0.35112 \n",
      "[   61] iter, [0.235265] epoch, classifer loss: 2.259, attn_loss: -0.35112 \n",
      "[   81] iter, [0.313687] epoch, classifer loss: 2.101, attn_loss: -0.35112 \n",
      "[  101] iter, [0.392109] epoch, classifer loss: 2.061, attn_loss: -0.35112 \n",
      "[  121] iter, [0.470531] epoch, classifer loss: 2.093, attn_loss: -0.35112 \n",
      "[  141] iter, [0.548952] epoch, classifer loss: 2.144, attn_loss: -0.35112 \n",
      "[  161] iter, [0.627374] epoch, classifer loss: 2.195, attn_loss: -0.35112 \n",
      "[  181] iter, [0.705796] epoch, classifer loss: 2.145, attn_loss: -0.35112 \n",
      "[  201] iter, [0.784218] epoch, classifer loss: 2.144, attn_loss: -0.35112 \n",
      "[  221] iter, [0.862639] epoch, classifer loss: 2.202, attn_loss: -0.35112 \n",
      "[  241] iter, [0.941061] epoch, classifer loss: 2.216, attn_loss: -0.35112 \n"
     ]
    },
    {
     "name": "stderr",
     "output_type": "stream",
     "text": [
      "100%|██████████| 256/256 [01:08<00:00,  3.72it/s]\n",
      "100%|██████████| 55/55 [00:14<00:00,  3.69it/s]"
     ]
    },
    {
     "name": "stdout",
     "output_type": "stream",
     "text": [
      "{'train_accu': 0.5081485112118613, 'val_accu': 0.40421892816419613}\n",
      "Training ['fc']\n"
     ]
    },
    {
     "name": "stderr",
     "output_type": "stream",
     "text": [
      "\n"
     ]
    },
    {
     "name": "stdout",
     "output_type": "stream",
     "text": [
      "[    1] iter, [0.000000] epoch, classifer loss: 0.082, attn_loss: -0.01756 \n",
      "[   21] iter, [0.078422] epoch, classifer loss: 2.476, attn_loss: -0.35112 \n",
      "[   41] iter, [0.156844] epoch, classifer loss: 2.054, attn_loss: -0.35112 \n",
      "[   61] iter, [0.235265] epoch, classifer loss: 2.011, attn_loss: -0.35112 \n",
      "[   81] iter, [0.313687] epoch, classifer loss: 1.859, attn_loss: -0.35112 \n",
      "[  101] iter, [0.392109] epoch, classifer loss: 1.785, attn_loss: -0.35112 \n",
      "[  121] iter, [0.470531] epoch, classifer loss: 1.765, attn_loss: -0.35112 \n",
      "[  141] iter, [0.548952] epoch, classifer loss: 1.852, attn_loss: -0.35112 \n",
      "[  161] iter, [0.627374] epoch, classifer loss: 1.889, attn_loss: -0.35112 \n",
      "[  181] iter, [0.705796] epoch, classifer loss: 1.921, attn_loss: -0.35112 \n",
      "[  201] iter, [0.784218] epoch, classifer loss: 1.868, attn_loss: -0.35112 \n",
      "[  221] iter, [0.862639] epoch, classifer loss: 1.795, attn_loss: -0.35112 \n",
      "[  241] iter, [0.941061] epoch, classifer loss: 1.786, attn_loss: -0.35112 \n"
     ]
    },
    {
     "name": "stderr",
     "output_type": "stream",
     "text": [
      "100%|██████████| 256/256 [01:06<00:00,  3.85it/s]\n",
      "100%|██████████| 55/55 [00:14<00:00,  3.83it/s]"
     ]
    },
    {
     "name": "stdout",
     "output_type": "stream",
     "text": [
      "{'train_accu': 0.579218233059674, 'val_accu': 0.3979475484606613}\n",
      "Training ['attn_weights']\n"
     ]
    },
    {
     "name": "stderr",
     "output_type": "stream",
     "text": [
      "\n"
     ]
    },
    {
     "name": "stdout",
     "output_type": "stream",
     "text": [
      "[    1] iter, [0.000000] epoch, classifer loss: 0.065, attn_loss: -0.01756 \n",
      "[   21] iter, [0.078422] epoch, classifer loss: 1.463, attn_loss: -0.36390 \n",
      "[   41] iter, [0.156844] epoch, classifer loss: 1.439, attn_loss: -0.38864 \n",
      "[   61] iter, [0.235265] epoch, classifer loss: 1.261, attn_loss: -0.41510 \n",
      "[   81] iter, [0.313687] epoch, classifer loss: 1.389, attn_loss: -0.44295 \n",
      "[  101] iter, [0.392109] epoch, classifer loss: 1.379, attn_loss: -0.47185 \n",
      "[  121] iter, [0.470531] epoch, classifer loss: 1.298, attn_loss: -0.50270 \n",
      "[  141] iter, [0.548952] epoch, classifer loss: 1.337, attn_loss: -0.53544 \n",
      "[  161] iter, [0.627374] epoch, classifer loss: 1.303, attn_loss: -0.56985 \n",
      "[  181] iter, [0.705796] epoch, classifer loss: 1.274, attn_loss: -0.60595 \n",
      "[  201] iter, [0.784218] epoch, classifer loss: 1.289, attn_loss: -0.64385 \n",
      "[  221] iter, [0.862639] epoch, classifer loss: 1.223, attn_loss: -0.68411 \n",
      "[  241] iter, [0.941061] epoch, classifer loss: 1.243, attn_loss: -0.72640 \n"
     ]
    },
    {
     "name": "stderr",
     "output_type": "stream",
     "text": [
      "100%|██████████| 256/256 [01:06<00:00,  3.84it/s]\n",
      "100%|██████████| 55/55 [00:14<00:00,  3.82it/s]"
     ]
    },
    {
     "name": "stdout",
     "output_type": "stream",
     "text": [
      "{'train_accu': 0.6611934811910305, 'val_accu': 0.45381984036488027}\n",
      "Training ['bn']\n"
     ]
    },
    {
     "name": "stderr",
     "output_type": "stream",
     "text": [
      "\n"
     ]
    },
    {
     "name": "stdout",
     "output_type": "stream",
     "text": [
      "[    1] iter, [0.000000] epoch, classifer loss: 0.088, attn_loss: -0.03917 \n",
      "[   21] iter, [0.078422] epoch, classifer loss: 1.690, attn_loss: -0.78341 \n",
      "[   41] iter, [0.156844] epoch, classifer loss: 1.551, attn_loss: -0.78341 \n",
      "[   61] iter, [0.235265] epoch, classifer loss: 1.703, attn_loss: -0.78341 \n",
      "[   81] iter, [0.313687] epoch, classifer loss: 1.658, attn_loss: -0.78341 \n",
      "[  101] iter, [0.392109] epoch, classifer loss: 1.539, attn_loss: -0.78341 \n",
      "[  121] iter, [0.470531] epoch, classifer loss: 1.613, attn_loss: -0.78341 \n",
      "[  141] iter, [0.548952] epoch, classifer loss: 1.567, attn_loss: -0.78341 \n",
      "[  161] iter, [0.627374] epoch, classifer loss: 1.505, attn_loss: -0.78341 \n",
      "[  181] iter, [0.705796] epoch, classifer loss: 1.511, attn_loss: -0.78341 \n",
      "[  201] iter, [0.784218] epoch, classifer loss: 1.518, attn_loss: -0.78341 \n",
      "[  221] iter, [0.862639] epoch, classifer loss: 1.682, attn_loss: -0.78341 \n",
      "[  241] iter, [0.941061] epoch, classifer loss: 1.520, attn_loss: -0.78341 \n"
     ]
    },
    {
     "name": "stderr",
     "output_type": "stream",
     "text": [
      "100%|██████████| 256/256 [01:08<00:00,  3.72it/s]\n",
      "100%|██████████| 55/55 [00:14<00:00,  3.69it/s]"
     ]
    },
    {
     "name": "stdout",
     "output_type": "stream",
     "text": [
      "{'train_accu': 0.645876730792795, 'val_accu': 0.4509692132269099}\n",
      "Training ['attn_weights']\n"
     ]
    },
    {
     "name": "stderr",
     "output_type": "stream",
     "text": [
      "\n"
     ]
    },
    {
     "name": "stdout",
     "output_type": "stream",
     "text": [
      "[    1] iter, [0.000000] epoch, classifer loss: 0.065, attn_loss: -0.03917 \n",
      "[   21] iter, [0.078422] epoch, classifer loss: 1.194, attn_loss: -0.80629 \n",
      "[   41] iter, [0.156844] epoch, classifer loss: 1.165, attn_loss: -0.85059 \n",
      "[   61] iter, [0.235265] epoch, classifer loss: 1.163, attn_loss: -0.89540 \n",
      "[   81] iter, [0.313687] epoch, classifer loss: 1.111, attn_loss: -0.94173 \n",
      "[  101] iter, [0.392109] epoch, classifer loss: 1.159, attn_loss: -0.98994 \n",
      "[  121] iter, [0.470531] epoch, classifer loss: 1.056, attn_loss: -1.03930 \n",
      "[  141] iter, [0.548952] epoch, classifer loss: 1.115, attn_loss: -1.09085 \n",
      "[  161] iter, [0.627374] epoch, classifer loss: 1.036, attn_loss: -1.14449 \n",
      "[  181] iter, [0.705796] epoch, classifer loss: 0.996, attn_loss: -1.20061 \n",
      "[  201] iter, [0.784218] epoch, classifer loss: 1.045, attn_loss: -1.25944 \n",
      "[  221] iter, [0.862639] epoch, classifer loss: 1.176, attn_loss: -1.32066 \n",
      "[  241] iter, [0.941061] epoch, classifer loss: 1.133, attn_loss: -1.38404 \n"
     ]
    },
    {
     "name": "stderr",
     "output_type": "stream",
     "text": [
      "100%|██████████| 256/256 [01:06<00:00,  3.85it/s]\n",
      "100%|██████████| 55/55 [00:14<00:00,  3.82it/s]"
     ]
    },
    {
     "name": "stdout",
     "output_type": "stream",
     "text": [
      "{'train_accu': 0.7142507045705183, 'val_accu': 0.467502850627138}\n",
      "Training ['bn']\n"
     ]
    },
    {
     "name": "stderr",
     "output_type": "stream",
     "text": [
      "\n"
     ]
    },
    {
     "name": "stdout",
     "output_type": "stream",
     "text": [
      "[    1] iter, [0.000000] epoch, classifer loss: 0.050, attn_loss: -0.07339 \n",
      "[   21] iter, [0.078422] epoch, classifer loss: 1.322, attn_loss: -1.46789 \n",
      "[   41] iter, [0.156844] epoch, classifer loss: 1.536, attn_loss: -1.46789 \n",
      "[   61] iter, [0.235265] epoch, classifer loss: 1.411, attn_loss: -1.46789 \n",
      "[   81] iter, [0.313687] epoch, classifer loss: 1.403, attn_loss: -1.46789 \n",
      "[  101] iter, [0.392109] epoch, classifer loss: 1.394, attn_loss: -1.46789 \n",
      "[  121] iter, [0.470531] epoch, classifer loss: 1.446, attn_loss: -1.46789 \n",
      "[  141] iter, [0.548952] epoch, classifer loss: 1.379, attn_loss: -1.46789 \n",
      "[  161] iter, [0.627374] epoch, classifer loss: 1.486, attn_loss: -1.46789 \n",
      "[  181] iter, [0.705796] epoch, classifer loss: 1.428, attn_loss: -1.46789 \n",
      "[  201] iter, [0.784218] epoch, classifer loss: 1.382, attn_loss: -1.46789 \n",
      "[  221] iter, [0.862639] epoch, classifer loss: 1.453, attn_loss: -1.46789 \n",
      "[  241] iter, [0.941061] epoch, classifer loss: 1.427, attn_loss: -1.46789 \n"
     ]
    },
    {
     "name": "stderr",
     "output_type": "stream",
     "text": [
      "100%|██████████| 256/256 [01:08<00:00,  3.72it/s]\n",
      "100%|██████████| 55/55 [00:14<00:00,  3.70it/s]"
     ]
    },
    {
     "name": "stdout",
     "output_type": "stream",
     "text": [
      "{'train_accu': 0.6668300453375812, 'val_accu': 0.4532497149372862}\n",
      "Training ['fc']\n"
     ]
    },
    {
     "name": "stderr",
     "output_type": "stream",
     "text": [
      "\n"
     ]
    },
    {
     "name": "stdout",
     "output_type": "stream",
     "text": [
      "[    1] iter, [0.000000] epoch, classifer loss: 0.045, attn_loss: -0.07339 \n",
      "[   21] iter, [0.078422] epoch, classifer loss: 1.670, attn_loss: -1.46789 \n",
      "[   41] iter, [0.156844] epoch, classifer loss: 1.501, attn_loss: -1.46789 \n",
      "[   61] iter, [0.235265] epoch, classifer loss: 1.266, attn_loss: -1.46789 \n",
      "[   81] iter, [0.313687] epoch, classifer loss: 1.347, attn_loss: -1.46789 \n",
      "[  101] iter, [0.392109] epoch, classifer loss: 1.140, attn_loss: -1.46789 \n",
      "[  121] iter, [0.470531] epoch, classifer loss: 1.323, attn_loss: -1.46789 \n",
      "[  141] iter, [0.548952] epoch, classifer loss: 1.288, attn_loss: -1.46789 \n",
      "[  161] iter, [0.627374] epoch, classifer loss: 1.328, attn_loss: -1.46789 \n",
      "[  181] iter, [0.705796] epoch, classifer loss: 1.172, attn_loss: -1.46789 \n",
      "[  201] iter, [0.784218] epoch, classifer loss: 1.327, attn_loss: -1.46789 \n",
      "[  221] iter, [0.862639] epoch, classifer loss: 1.199, attn_loss: -1.46789 \n",
      "[  241] iter, [0.941061] epoch, classifer loss: 1.261, attn_loss: -1.46789 \n"
     ]
    },
    {
     "name": "stderr",
     "output_type": "stream",
     "text": [
      "100%|██████████| 256/256 [01:06<00:00,  3.85it/s]\n",
      "100%|██████████| 55/55 [00:14<00:00,  3.82it/s]"
     ]
    },
    {
     "name": "stdout",
     "output_type": "stream",
     "text": [
      "{'train_accu': 0.7510109055262836, 'val_accu': 0.4429874572405929}\n",
      "Training ['attn_weights']\n"
     ]
    },
    {
     "name": "stderr",
     "output_type": "stream",
     "text": [
      "\n"
     ]
    },
    {
     "name": "stdout",
     "output_type": "stream",
     "text": [
      "[    1] iter, [0.000000] epoch, classifer loss: 0.046, attn_loss: -0.07339 \n",
      "[   21] iter, [0.078422] epoch, classifer loss: 0.846, attn_loss: -1.50030 \n",
      "[   41] iter, [0.156844] epoch, classifer loss: 0.793, attn_loss: -1.56330 \n",
      "[   61] iter, [0.235265] epoch, classifer loss: 0.854, attn_loss: -1.62784 \n",
      "[   81] iter, [0.313687] epoch, classifer loss: 0.724, attn_loss: -1.69438 \n",
      "[  101] iter, [0.392109] epoch, classifer loss: 0.812, attn_loss: -1.76342 \n",
      "[  121] iter, [0.470531] epoch, classifer loss: 0.756, attn_loss: -1.83426 \n",
      "[  141] iter, [0.548952] epoch, classifer loss: 0.795, attn_loss: -1.90701 \n",
      "[  161] iter, [0.627374] epoch, classifer loss: 0.789, attn_loss: -1.98220 \n",
      "[  181] iter, [0.705796] epoch, classifer loss: 0.842, attn_loss: -2.05864 \n",
      "[  201] iter, [0.784218] epoch, classifer loss: 0.743, attn_loss: -2.13760 \n",
      "[  221] iter, [0.862639] epoch, classifer loss: 0.857, attn_loss: -2.21936 \n",
      "[  241] iter, [0.941061] epoch, classifer loss: 0.789, attn_loss: -2.30386 \n"
     ]
    },
    {
     "name": "stderr",
     "output_type": "stream",
     "text": [
      "100%|██████████| 256/256 [01:06<00:00,  3.84it/s]\n",
      "100%|██████████| 55/55 [00:14<00:00,  3.82it/s]"
     ]
    },
    {
     "name": "stdout",
     "output_type": "stream",
     "text": [
      "{'train_accu': 0.7983090307560348, 'val_accu': 0.47434435575826683}\n",
      "Training ['bn']\n"
     ]
    },
    {
     "name": "stderr",
     "output_type": "stream",
     "text": [
      "\n"
     ]
    },
    {
     "name": "stdout",
     "output_type": "stream",
     "text": [
      "[    1] iter, [0.000000] epoch, classifer loss: 0.056, attn_loss: -0.12078 \n",
      "[   21] iter, [0.078422] epoch, classifer loss: 1.178, attn_loss: -2.41557 \n",
      "[   41] iter, [0.156844] epoch, classifer loss: 1.153, attn_loss: -2.41557 \n",
      "[   61] iter, [0.235265] epoch, classifer loss: 1.056, attn_loss: -2.41557 \n",
      "[   81] iter, [0.313687] epoch, classifer loss: 1.160, attn_loss: -2.41557 \n",
      "[  101] iter, [0.392109] epoch, classifer loss: 1.121, attn_loss: -2.41557 \n",
      "[  121] iter, [0.470531] epoch, classifer loss: 1.086, attn_loss: -2.41557 \n",
      "[  141] iter, [0.548952] epoch, classifer loss: 1.142, attn_loss: -2.41557 \n",
      "[  161] iter, [0.627374] epoch, classifer loss: 1.136, attn_loss: -2.41557 \n",
      "[  181] iter, [0.705796] epoch, classifer loss: 1.158, attn_loss: -2.41557 \n",
      "[  201] iter, [0.784218] epoch, classifer loss: 1.070, attn_loss: -2.41557 \n",
      "[  221] iter, [0.862639] epoch, classifer loss: 1.184, attn_loss: -2.41557 \n",
      "[  241] iter, [0.941061] epoch, classifer loss: 1.157, attn_loss: -2.41557 \n"
     ]
    },
    {
     "name": "stderr",
     "output_type": "stream",
     "text": [
      "100%|██████████| 256/256 [01:08<00:00,  3.72it/s]\n",
      "100%|██████████| 55/55 [00:14<00:00,  3.70it/s]"
     ]
    },
    {
     "name": "stdout",
     "output_type": "stream",
     "text": [
      "{'train_accu': 0.7518686435485847, 'val_accu': 0.4429874572405929}\n",
      "Training ['attn_weights']\n"
     ]
    },
    {
     "name": "stderr",
     "output_type": "stream",
     "text": [
      "\n"
     ]
    },
    {
     "name": "stdout",
     "output_type": "stream",
     "text": [
      "[    1] iter, [0.000000] epoch, classifer loss: 0.040, attn_loss: -0.12078 \n",
      "[   21] iter, [0.078422] epoch, classifer loss: 0.740, attn_loss: -2.46244 \n",
      "[   41] iter, [0.156844] epoch, classifer loss: 0.705, attn_loss: -2.55314 \n",
      "[   61] iter, [0.235265] epoch, classifer loss: 0.681, attn_loss: -2.64538 \n",
      "[   81] iter, [0.313687] epoch, classifer loss: 0.647, attn_loss: -2.73935 \n",
      "[  101] iter, [0.392109] epoch, classifer loss: 0.704, attn_loss: -2.83464 \n",
      "[  121] iter, [0.470531] epoch, classifer loss: 0.711, attn_loss: -2.93227 \n",
      "[  141] iter, [0.548952] epoch, classifer loss: 0.650, attn_loss: -3.03285 \n",
      "[  161] iter, [0.627374] epoch, classifer loss: 0.704, attn_loss: -3.13509 \n",
      "[  181] iter, [0.705796] epoch, classifer loss: 0.592, attn_loss: -3.24058 \n",
      "[  201] iter, [0.784218] epoch, classifer loss: 0.691, attn_loss: -3.34932 \n",
      "[  221] iter, [0.862639] epoch, classifer loss: 0.661, attn_loss: -3.46024 \n",
      "[  241] iter, [0.941061] epoch, classifer loss: 0.665, attn_loss: -3.57404 \n"
     ]
    },
    {
     "name": "stderr",
     "output_type": "stream",
     "text": [
      "100%|██████████| 256/256 [01:06<00:00,  3.84it/s]\n",
      "100%|██████████| 55/55 [00:14<00:00,  3.80it/s]"
     ]
    },
    {
     "name": "stdout",
     "output_type": "stream",
     "text": [
      "{'train_accu': 0.8324960176448964, 'val_accu': 0.47035347776510833}\n",
      "Training ['bn']\n"
     ]
    },
    {
     "name": "stderr",
     "output_type": "stream",
     "text": [
      "\n"
     ]
    },
    {
     "name": "stdout",
     "output_type": "stream",
     "text": [
      "[    1] iter, [0.000000] epoch, classifer loss: 0.054, attn_loss: -0.18616 \n",
      "[   21] iter, [0.078422] epoch, classifer loss: 0.992, attn_loss: -3.72326 \n",
      "[   41] iter, [0.156844] epoch, classifer loss: 1.048, attn_loss: -3.72326 \n",
      "[   61] iter, [0.235265] epoch, classifer loss: 0.973, attn_loss: -3.72326 \n",
      "[   81] iter, [0.313687] epoch, classifer loss: 0.930, attn_loss: -3.72326 \n",
      "[  101] iter, [0.392109] epoch, classifer loss: 0.963, attn_loss: -3.72326 \n",
      "[  121] iter, [0.470531] epoch, classifer loss: 0.986, attn_loss: -3.72326 \n",
      "[  141] iter, [0.548952] epoch, classifer loss: 0.992, attn_loss: -3.72326 \n",
      "[  161] iter, [0.627374] epoch, classifer loss: 1.071, attn_loss: -3.72326 \n",
      "[  181] iter, [0.705796] epoch, classifer loss: 1.053, attn_loss: -3.72326 \n",
      "[  201] iter, [0.784218] epoch, classifer loss: 1.039, attn_loss: -3.72326 \n",
      "[  221] iter, [0.862639] epoch, classifer loss: 1.013, attn_loss: -3.72326 \n",
      "[  241] iter, [0.941061] epoch, classifer loss: 1.104, attn_loss: -3.72326 \n"
     ]
    },
    {
     "name": "stderr",
     "output_type": "stream",
     "text": [
      "100%|██████████| 256/256 [01:08<00:00,  3.72it/s]\n",
      "100%|██████████| 55/55 [00:14<00:00,  3.69it/s]"
     ]
    },
    {
     "name": "stdout",
     "output_type": "stream",
     "text": [
      "{'train_accu': 0.7806641342972674, 'val_accu': 0.43842645381984036}\n",
      "Training ['fc']\n"
     ]
    },
    {
     "name": "stderr",
     "output_type": "stream",
     "text": [
      "\n"
     ]
    },
    {
     "name": "stdout",
     "output_type": "stream",
     "text": [
      "[    1] iter, [0.000000] epoch, classifer loss: 0.028, attn_loss: -0.18616 \n",
      "[   21] iter, [0.078422] epoch, classifer loss: 1.119, attn_loss: -3.72326 \n",
      "[   41] iter, [0.156844] epoch, classifer loss: 1.143, attn_loss: -3.72326 \n",
      "[   61] iter, [0.235265] epoch, classifer loss: 0.933, attn_loss: -3.72326 \n",
      "[   81] iter, [0.313687] epoch, classifer loss: 0.848, attn_loss: -3.72326 \n",
      "[  101] iter, [0.392109] epoch, classifer loss: 0.891, attn_loss: -3.72326 \n",
      "[  121] iter, [0.470531] epoch, classifer loss: 0.946, attn_loss: -3.72326 \n",
      "[  141] iter, [0.548952] epoch, classifer loss: 0.824, attn_loss: -3.72326 \n",
      "[  161] iter, [0.627374] epoch, classifer loss: 0.891, attn_loss: -3.72326 \n",
      "[  181] iter, [0.705796] epoch, classifer loss: 0.804, attn_loss: -3.72326 \n",
      "[  201] iter, [0.784218] epoch, classifer loss: 0.925, attn_loss: -3.72326 \n",
      "[  221] iter, [0.862639] epoch, classifer loss: 1.035, attn_loss: -3.72326 \n",
      "[  241] iter, [0.941061] epoch, classifer loss: 0.925, attn_loss: -3.72326 \n"
     ]
    },
    {
     "name": "stderr",
     "output_type": "stream",
     "text": [
      "100%|██████████| 256/256 [01:06<00:00,  3.85it/s]\n",
      "100%|██████████| 55/55 [00:14<00:00,  3.82it/s]"
     ]
    },
    {
     "name": "stdout",
     "output_type": "stream",
     "text": [
      "{'train_accu': 0.7953682146795735, 'val_accu': 0.42873432155074115}\n",
      "Training ['attn_weights']\n"
     ]
    },
    {
     "name": "stderr",
     "output_type": "stream",
     "text": [
      "\n"
     ]
    },
    {
     "name": "stdout",
     "output_type": "stream",
     "text": [
      "[    1] iter, [0.000000] epoch, classifer loss: 0.030, attn_loss: -0.18616 \n",
      "[   21] iter, [0.078422] epoch, classifer loss: 0.704, attn_loss: -3.78284 \n",
      "[   41] iter, [0.156844] epoch, classifer loss: 0.660, attn_loss: -3.89727 \n",
      "[   61] iter, [0.235265] epoch, classifer loss: 0.608, attn_loss: -4.01447 \n",
      "[   81] iter, [0.313687] epoch, classifer loss: 0.525, attn_loss: -4.13515 \n",
      "[  101] iter, [0.392109] epoch, classifer loss: 0.544, attn_loss: -4.25836 \n",
      "[  121] iter, [0.470531] epoch, classifer loss: 0.566, attn_loss: -4.38472 \n",
      "[  141] iter, [0.548952] epoch, classifer loss: 0.623, attn_loss: -4.51347 \n",
      "[  161] iter, [0.627374] epoch, classifer loss: 0.572, attn_loss: -4.64471 \n",
      "[  181] iter, [0.705796] epoch, classifer loss: 0.586, attn_loss: -4.77865 \n",
      "[  201] iter, [0.784218] epoch, classifer loss: 0.517, attn_loss: -4.91531 \n",
      "[  221] iter, [0.862639] epoch, classifer loss: 0.568, attn_loss: -5.05609 \n",
      "[  241] iter, [0.941061] epoch, classifer loss: 0.548, attn_loss: -5.19962 \n"
     ]
    },
    {
     "name": "stderr",
     "output_type": "stream",
     "text": [
      "100%|██████████| 256/256 [01:06<00:00,  3.84it/s]\n",
      "100%|██████████| 55/55 [00:14<00:00,  3.82it/s]"
     ]
    },
    {
     "name": "stdout",
     "output_type": "stream",
     "text": [
      "{'train_accu': 0.8606788383776498, 'val_accu': 0.4452679589509692}\n",
      "Training ['bn']\n"
     ]
    },
    {
     "name": "stderr",
     "output_type": "stream",
     "text": [
      "\n"
     ]
    },
    {
     "name": "stdout",
     "output_type": "stream",
     "text": [
      "[    1] iter, [0.000000] epoch, classifer loss: 0.041, attn_loss: -0.26940 \n",
      "[   21] iter, [0.078422] epoch, classifer loss: 0.921, attn_loss: -5.38797 \n",
      "[   41] iter, [0.156844] epoch, classifer loss: 0.985, attn_loss: -5.38797 \n",
      "[   61] iter, [0.235265] epoch, classifer loss: 0.890, attn_loss: -5.38797 \n",
      "[   81] iter, [0.313687] epoch, classifer loss: 0.850, attn_loss: -5.38797 \n",
      "[  101] iter, [0.392109] epoch, classifer loss: 1.004, attn_loss: -5.38797 \n",
      "[  121] iter, [0.470531] epoch, classifer loss: 0.916, attn_loss: -5.38797 \n",
      "[  141] iter, [0.548952] epoch, classifer loss: 0.899, attn_loss: -5.38797 \n",
      "[  161] iter, [0.627374] epoch, classifer loss: 0.988, attn_loss: -5.38797 \n",
      "[  181] iter, [0.705796] epoch, classifer loss: 0.902, attn_loss: -5.38797 \n",
      "[  201] iter, [0.784218] epoch, classifer loss: 0.855, attn_loss: -5.38797 \n",
      "[  221] iter, [0.862639] epoch, classifer loss: 0.953, attn_loss: -5.38797 \n",
      "[  241] iter, [0.941061] epoch, classifer loss: 1.015, attn_loss: -5.38797 \n"
     ]
    },
    {
     "name": "stderr",
     "output_type": "stream",
     "text": [
      "100%|██████████| 256/256 [01:08<00:00,  3.72it/s]\n",
      "100%|██████████| 55/55 [00:14<00:00,  3.69it/s]"
     ]
    },
    {
     "name": "stdout",
     "output_type": "stream",
     "text": [
      "{'train_accu': 0.8121553731160397, 'val_accu': 0.4412770809578107}\n",
      "Training ['attn_weights']\n"
     ]
    },
    {
     "name": "stderr",
     "output_type": "stream",
     "text": [
      "\n"
     ]
    },
    {
     "name": "stdout",
     "output_type": "stream",
     "text": [
      "[    1] iter, [0.000000] epoch, classifer loss: 0.033, attn_loss: -0.26940 \n",
      "[   21] iter, [0.078422] epoch, classifer loss: 0.518, attn_loss: -5.46796 \n",
      "[   41] iter, [0.156844] epoch, classifer loss: 0.448, attn_loss: -5.61986 \n",
      "[   61] iter, [0.235265] epoch, classifer loss: 0.413, attn_loss: -5.77558 \n",
      "[   81] iter, [0.313687] epoch, classifer loss: 0.457, attn_loss: -5.93482 \n",
      "[  101] iter, [0.392109] epoch, classifer loss: 0.446, attn_loss: -6.09588 \n",
      "[  121] iter, [0.470531] epoch, classifer loss: 0.423, attn_loss: -6.25858 \n",
      "[  141] iter, [0.548952] epoch, classifer loss: 0.432, attn_loss: -6.42464 \n",
      "[  161] iter, [0.627374] epoch, classifer loss: 0.505, attn_loss: -6.59432 \n",
      "[  181] iter, [0.705796] epoch, classifer loss: 0.479, attn_loss: -6.76578 \n",
      "[  201] iter, [0.784218] epoch, classifer loss: 0.452, attn_loss: -6.94047 \n",
      "[  221] iter, [0.862639] epoch, classifer loss: 0.492, attn_loss: -7.11921 \n",
      "[  241] iter, [0.941061] epoch, classifer loss: 0.480, attn_loss: -7.30107 \n"
     ]
    },
    {
     "name": "stderr",
     "output_type": "stream",
     "text": [
      "100%|██████████| 256/256 [01:06<00:00,  3.84it/s]\n",
      "100%|██████████| 55/55 [00:14<00:00,  3.82it/s]"
     ]
    },
    {
     "name": "stdout",
     "output_type": "stream",
     "text": [
      "{'train_accu': 0.8956010292856268, 'val_accu': 0.4549600912200684}\n",
      "Training ['bn']\n"
     ]
    },
    {
     "name": "stderr",
     "output_type": "stream",
     "text": [
      "\n"
     ]
    },
    {
     "name": "stdout",
     "output_type": "stream",
     "text": [
      "[    1] iter, [0.000000] epoch, classifer loss: 0.043, attn_loss: -0.37690 \n",
      "[   21] iter, [0.078422] epoch, classifer loss: 0.712, attn_loss: -7.53802 \n",
      "[   41] iter, [0.156844] epoch, classifer loss: 0.775, attn_loss: -7.53802 \n",
      "[   61] iter, [0.235265] epoch, classifer loss: 0.775, attn_loss: -7.53802 \n",
      "[   81] iter, [0.313687] epoch, classifer loss: 0.764, attn_loss: -7.53802 \n",
      "[  101] iter, [0.392109] epoch, classifer loss: 0.799, attn_loss: -7.53802 \n",
      "[  121] iter, [0.470531] epoch, classifer loss: 0.871, attn_loss: -7.53802 \n",
      "[  141] iter, [0.548952] epoch, classifer loss: 0.789, attn_loss: -7.53802 \n",
      "[  161] iter, [0.627374] epoch, classifer loss: 0.866, attn_loss: -7.53802 \n",
      "[  181] iter, [0.705796] epoch, classifer loss: 0.915, attn_loss: -7.53802 \n",
      "[  201] iter, [0.784218] epoch, classifer loss: 0.818, attn_loss: -7.53802 \n",
      "[  221] iter, [0.862639] epoch, classifer loss: 0.862, attn_loss: -7.53802 \n",
      "[  241] iter, [0.941061] epoch, classifer loss: 0.820, attn_loss: -7.53802 \n"
     ]
    },
    {
     "name": "stderr",
     "output_type": "stream",
     "text": [
      "100%|██████████| 256/256 [01:08<00:00,  3.72it/s]\n",
      "100%|██████████| 55/55 [00:14<00:00,  3.68it/s]"
     ]
    },
    {
     "name": "stdout",
     "output_type": "stream",
     "text": [
      "{'train_accu': 0.8255115794633011, 'val_accu': 0.43101482326111745}\n",
      "Training ['fc']\n"
     ]
    },
    {
     "name": "stderr",
     "output_type": "stream",
     "text": [
      "\n"
     ]
    },
    {
     "name": "stdout",
     "output_type": "stream",
     "text": [
      "[    1] iter, [0.000000] epoch, classifer loss: 0.032, attn_loss: -0.37690 \n"
     ]
    },
    {
     "name": "stderr",
     "output_type": "stream",
     "text": [
      "Process Process-122:\n",
      "Process Process-121:\n",
      "Traceback (most recent call last):\n",
      "  File \"/home/ubuntu/miniconda3/lib/python3.6/multiprocessing/process.py\", line 258, in _bootstrap\n",
      "    self.run()\n",
      "Traceback (most recent call last):\n",
      "  File \"/home/ubuntu/miniconda3/lib/python3.6/multiprocessing/process.py\", line 258, in _bootstrap\n",
      "    self.run()\n",
      "  File \"/home/ubuntu/miniconda3/lib/python3.6/multiprocessing/process.py\", line 93, in run\n",
      "    self._target(*self._args, **self._kwargs)\n",
      "  File \"/home/ubuntu/miniconda3/lib/python3.6/multiprocessing/process.py\", line 93, in run\n",
      "    self._target(*self._args, **self._kwargs)\n",
      "  File \"/home/ubuntu/miniconda3/lib/python3.6/site-packages/torch/utils/data/dataloader.py\", line 50, in _worker_loop\n",
      "    r = index_queue.get()\n",
      "  File \"/home/ubuntu/miniconda3/lib/python3.6/site-packages/torch/utils/data/dataloader.py\", line 50, in _worker_loop\n",
      "    r = index_queue.get()\n",
      "  File \"/home/ubuntu/miniconda3/lib/python3.6/multiprocessing/queues.py\", line 335, in get\n",
      "    res = self._reader.recv_bytes()\n",
      "  File \"/home/ubuntu/miniconda3/lib/python3.6/multiprocessing/queues.py\", line 334, in get\n",
      "    with self._rlock:\n",
      "  File \"/home/ubuntu/miniconda3/lib/python3.6/multiprocessing/connection.py\", line 216, in recv_bytes\n",
      "    buf = self._recv_bytes(maxlength)\n",
      "  File \"/home/ubuntu/miniconda3/lib/python3.6/multiprocessing/connection.py\", line 407, in _recv_bytes\n",
      "    buf = self._recv(4)\n",
      "  File \"/home/ubuntu/miniconda3/lib/python3.6/multiprocessing/connection.py\", line 379, in _recv\n",
      "    chunk = read(handle, remaining)\n",
      "KeyboardInterrupt\n",
      "KeyboardInterrupt\n",
      "  File \"/home/ubuntu/miniconda3/lib/python3.6/multiprocessing/synchronize.py\", line 96, in __enter__\n",
      "    return self._semlock.__enter__()\n",
      "Exception ignored in: <bound method DataLoaderIter.__del__ of <torch.utils.data.dataloader.DataLoaderIter object at 0x7ff54e657320>>\n",
      "Traceback (most recent call last):\n",
      "  File \"/home/ubuntu/miniconda3/lib/python3.6/site-packages/torch/utils/data/dataloader.py\", line 333, in __del__\n",
      "    self._shutdown_workers()\n",
      "  File \"/home/ubuntu/miniconda3/lib/python3.6/site-packages/torch/utils/data/dataloader.py\", line 319, in _shutdown_workers\n",
      "    self.data_queue.get()\n",
      "  File \"/home/ubuntu/miniconda3/lib/python3.6/multiprocessing/queues.py\", line 337, in get\n",
      "    return _ForkingPickler.loads(res)\n",
      "  File \"/home/ubuntu/miniconda3/lib/python3.6/site-packages/torch/multiprocessing/reductions.py\", line 70, in rebuild_storage_fd\n",
      "    fd = df.detach()\n",
      "  File \"/home/ubuntu/miniconda3/lib/python3.6/multiprocessing/resource_sharer.py\", line 57, in detach\n",
      "    with _resource_sharer.get_connection(self._id) as conn:\n",
      "  File \"/home/ubuntu/miniconda3/lib/python3.6/multiprocessing/resource_sharer.py\", line 87, in get_connection\n",
      "    c = Client(address, authkey=process.current_process().authkey)\n",
      "  File \"/home/ubuntu/miniconda3/lib/python3.6/multiprocessing/connection.py\", line 487, in Client\n",
      "    c = SocketClient(address)\n",
      "  File \"/home/ubuntu/miniconda3/lib/python3.6/multiprocessing/connection.py\", line 614, in SocketClient\n",
      "    s.connect(address)\n",
      "FileNotFoundError: [Errno 2] No such file or directory\n"
     ]
    },
    {
     "ename": "KeyboardInterrupt",
     "evalue": "",
     "output_type": "error",
     "traceback": [
      "\u001b[0;31m---------------------------------------------------------------------------\u001b[0m",
      "\u001b[0;31mKeyboardInterrupt\u001b[0m                         Traceback (most recent call last)",
      "\u001b[0;32m<ipython-input-21-18b8be1373f8>\u001b[0m in \u001b[0;36m<module>\u001b[0;34m()\u001b[0m\n\u001b[1;32m      9\u001b[0m         \u001b[0mresnet_attn\u001b[0m\u001b[0;34m.\u001b[0m\u001b[0meval\u001b[0m\u001b[0;34m(\u001b[0m\u001b[0;34m)\u001b[0m\u001b[0;34m\u001b[0m\u001b[0m\n\u001b[1;32m     10\u001b[0m \u001b[0;34m\u001b[0m\u001b[0m\n\u001b[0;32m---> 11\u001b[0;31m     \u001b[0mtrain_one_epoch\u001b[0m\u001b[0;34m(\u001b[0m\u001b[0madd_attn\u001b[0m\u001b[0;34m=\u001b[0m \u001b[0mtrain_layer\u001b[0m\u001b[0;34m[\u001b[0m\u001b[0;36m0\u001b[0m\u001b[0;34m]\u001b[0m \u001b[0;34m==\u001b[0m \u001b[0;34m'attn_weights'\u001b[0m \u001b[0;34m)\u001b[0m\u001b[0;34m\u001b[0m\u001b[0m\n\u001b[0m\u001b[1;32m     12\u001b[0m \u001b[0;34m\u001b[0m\u001b[0m\n\u001b[1;32m     13\u001b[0m     \u001b[0ms\u001b[0m \u001b[0;34m=\u001b[0m \u001b[0mscore\u001b[0m\u001b[0;34m(\u001b[0m\u001b[0mbatch_size\u001b[0m\u001b[0;34m=\u001b[0m\u001b[0;36m32\u001b[0m\u001b[0;34m)\u001b[0m\u001b[0;34m\u001b[0m\u001b[0m\n",
      "\u001b[0;32m<ipython-input-15-24a6576762cd>\u001b[0m in \u001b[0;36mtrain_one_epoch\u001b[0;34m(add_attn)\u001b[0m\n\u001b[1;32m     12\u001b[0m         \u001b[0moutputs\u001b[0m \u001b[0;34m=\u001b[0m \u001b[0mresnet_attn\u001b[0m\u001b[0;34m(\u001b[0m\u001b[0minputs\u001b[0m\u001b[0;34m)\u001b[0m\u001b[0;34m\u001b[0m\u001b[0m\n\u001b[1;32m     13\u001b[0m         \u001b[0mclf_loss\u001b[0m \u001b[0;34m=\u001b[0m \u001b[0mcls_criterion\u001b[0m\u001b[0;34m(\u001b[0m\u001b[0moutputs\u001b[0m\u001b[0;34m,\u001b[0m \u001b[0mlabels\u001b[0m\u001b[0;34m)\u001b[0m\u001b[0;34m\u001b[0m\u001b[0m\n\u001b[0;32m---> 14\u001b[0;31m         \u001b[0mattn_loss\u001b[0m \u001b[0;34m=\u001b[0m \u001b[0mcompute_attn_loss\u001b[0m\u001b[0;34m(\u001b[0m\u001b[0;34m)\u001b[0m\u001b[0;34m\u001b[0m\u001b[0m\n\u001b[0m\u001b[1;32m     15\u001b[0m         \u001b[0;32mif\u001b[0m \u001b[0madd_attn\u001b[0m\u001b[0;34m:\u001b[0m\u001b[0;34m\u001b[0m\u001b[0m\n\u001b[1;32m     16\u001b[0m             \u001b[0mloss\u001b[0m \u001b[0;34m=\u001b[0m \u001b[0mclf_loss\u001b[0m \u001b[0;34m+\u001b[0m \u001b[0mattn_loss\u001b[0m\u001b[0;34m\u001b[0m\u001b[0m\n",
      "\u001b[0;32m<ipython-input-13-91b3788b8700>\u001b[0m in \u001b[0;36mcompute_attn_loss\u001b[0;34m(n_params)\u001b[0m\n\u001b[1;32m      1\u001b[0m \u001b[0;32mdef\u001b[0m \u001b[0mcompute_attn_loss\u001b[0m\u001b[0;34m(\u001b[0m\u001b[0mn_params\u001b[0m\u001b[0;34m=\u001b[0m\u001b[0;36m26560\u001b[0m\u001b[0;34m)\u001b[0m\u001b[0;34m:\u001b[0m\u001b[0;34m\u001b[0m\u001b[0m\n\u001b[1;32m      2\u001b[0m     \u001b[0mattns\u001b[0m \u001b[0;34m=\u001b[0m \u001b[0mget_params_objs\u001b[0m\u001b[0;34m(\u001b[0m\u001b[0;34m'attn_weights'\u001b[0m\u001b[0;34m)\u001b[0m\u001b[0;34m\u001b[0m\u001b[0m\n\u001b[0;32m----> 3\u001b[0;31m     \u001b[0mpenality\u001b[0m \u001b[0;34m=\u001b[0m \u001b[0msum\u001b[0m\u001b[0;34m(\u001b[0m\u001b[0;34m[\u001b[0m\u001b[0mtorch\u001b[0m\u001b[0;34m.\u001b[0m\u001b[0mpow\u001b[0m\u001b[0;34m(\u001b[0m\u001b[0mt\u001b[0m \u001b[0;34m-\u001b[0m \u001b[0;36m1\u001b[0m\u001b[0;34m,\u001b[0m\u001b[0;36m2\u001b[0m\u001b[0;34m)\u001b[0m\u001b[0;34m.\u001b[0m\u001b[0mmean\u001b[0m\u001b[0;34m(\u001b[0m\u001b[0;34m)\u001b[0m \u001b[0;32mfor\u001b[0m \u001b[0mt\u001b[0m \u001b[0;32min\u001b[0m \u001b[0mattns\u001b[0m\u001b[0;34m]\u001b[0m\u001b[0;34m)\u001b[0m\u001b[0;34m\u001b[0m\u001b[0m\n\u001b[0m\u001b[1;32m      4\u001b[0m     \u001b[0;32mreturn\u001b[0m \u001b[0m_lambda\u001b[0m\u001b[0;34m*\u001b[0m\u001b[0;34m(\u001b[0m\u001b[0;34m-\u001b[0m \u001b[0mpenality\u001b[0m\u001b[0;34m)\u001b[0m\u001b[0;34m\u001b[0m\u001b[0m\n",
      "\u001b[0;32m<ipython-input-13-91b3788b8700>\u001b[0m in \u001b[0;36m<listcomp>\u001b[0;34m(.0)\u001b[0m\n\u001b[1;32m      1\u001b[0m \u001b[0;32mdef\u001b[0m \u001b[0mcompute_attn_loss\u001b[0m\u001b[0;34m(\u001b[0m\u001b[0mn_params\u001b[0m\u001b[0;34m=\u001b[0m\u001b[0;36m26560\u001b[0m\u001b[0;34m)\u001b[0m\u001b[0;34m:\u001b[0m\u001b[0;34m\u001b[0m\u001b[0m\n\u001b[1;32m      2\u001b[0m     \u001b[0mattns\u001b[0m \u001b[0;34m=\u001b[0m \u001b[0mget_params_objs\u001b[0m\u001b[0;34m(\u001b[0m\u001b[0;34m'attn_weights'\u001b[0m\u001b[0;34m)\u001b[0m\u001b[0;34m\u001b[0m\u001b[0m\n\u001b[0;32m----> 3\u001b[0;31m     \u001b[0mpenality\u001b[0m \u001b[0;34m=\u001b[0m \u001b[0msum\u001b[0m\u001b[0;34m(\u001b[0m\u001b[0;34m[\u001b[0m\u001b[0mtorch\u001b[0m\u001b[0;34m.\u001b[0m\u001b[0mpow\u001b[0m\u001b[0;34m(\u001b[0m\u001b[0mt\u001b[0m \u001b[0;34m-\u001b[0m \u001b[0;36m1\u001b[0m\u001b[0;34m,\u001b[0m\u001b[0;36m2\u001b[0m\u001b[0;34m)\u001b[0m\u001b[0;34m.\u001b[0m\u001b[0mmean\u001b[0m\u001b[0;34m(\u001b[0m\u001b[0;34m)\u001b[0m \u001b[0;32mfor\u001b[0m \u001b[0mt\u001b[0m \u001b[0;32min\u001b[0m \u001b[0mattns\u001b[0m\u001b[0;34m]\u001b[0m\u001b[0;34m)\u001b[0m\u001b[0;34m\u001b[0m\u001b[0m\n\u001b[0m\u001b[1;32m      4\u001b[0m     \u001b[0;32mreturn\u001b[0m \u001b[0m_lambda\u001b[0m\u001b[0;34m*\u001b[0m\u001b[0;34m(\u001b[0m\u001b[0;34m-\u001b[0m \u001b[0mpenality\u001b[0m\u001b[0;34m)\u001b[0m\u001b[0;34m\u001b[0m\u001b[0m\n",
      "\u001b[0;31mKeyboardInterrupt\u001b[0m: "
     ]
    }
   ],
   "source": [
    "for train_layer in train_in_order:\n",
    "    print(f\"Training {train_layer}\")\n",
    "    \n",
    "    turn_off_grad_except(train_layer)\n",
    "    \n",
    "    if train_layer[0] == 'bn':\n",
    "        resnet_attn.train() \n",
    "    else:\n",
    "        resnet_attn.eval()\n",
    "        \n",
    "    train_one_epoch(add_attn= train_layer[0] == 'attn_weights' )\n",
    "    \n",
    "    s = score(batch_size=32)\n",
    "    print(s)\n",
    "    scores.append(s)"
   ]
  },
  {
   "cell_type": "code",
   "execution_count": 24,
   "metadata": {},
   "outputs": [],
   "source": [
    "attns = get_params_objs('attn_weights')"
   ]
  },
  {
   "cell_type": "code",
   "execution_count": 26,
   "metadata": {},
   "outputs": [],
   "source": [
    "all_weights = [a.data.squeeze().cpu().numpy() for a in attns]"
   ]
  },
  {
   "cell_type": "code",
   "execution_count": 29,
   "metadata": {},
   "outputs": [],
   "source": [
    "all_weights = np.concatenate(all_weights)"
   ]
  },
  {
   "cell_type": "code",
   "execution_count": 30,
   "metadata": {},
   "outputs": [
    {
     "data": {
      "text/plain": [
       "(26560,)"
      ]
     },
     "execution_count": 30,
     "metadata": {},
     "output_type": "execute_result"
    }
   ],
   "source": [
    "all_weights.shape"
   ]
  },
  {
   "cell_type": "code",
   "execution_count": 31,
   "metadata": {},
   "outputs": [],
   "source": [
    "import numpy as np\n",
    "import pandas as pd\n",
    "import matplotlib.pyplot as plt\n",
    "%matplotlib inline\n",
    "\n",
    "import seaborn as sns"
   ]
  },
  {
   "cell_type": "code",
   "execution_count": 34,
   "metadata": {},
   "outputs": [
    {
     "data": {
      "text/plain": [
       "Text(0.5,1,'Attention Weight Distribution')"
      ]
     },
     "execution_count": 34,
     "metadata": {},
     "output_type": "execute_result"
    },
    {
     "data": {
      "image/png": "[encoded data removed]",
      "text/plain": [
       "<Figure size 432x288 with 1 Axes>"
      ]
     },
     "metadata": {},
     "output_type": "display_data"
    }
   ],
   "source": [
    "plt.hist(all_weights, bins=20)\n",
    "plt.title(\"Attention Weight Distribution\")"
   ]
  },
  {
   "cell_type": "code",
   "execution_count": null,
   "metadata": {},
   "outputs": [],
   "source": []
  },
  {
   "cell_type": "code",
   "execution_count": 35,
   "metadata": {},
   "outputs": [],
   "source": [
    "raw = open('loss_history/AttnExperiment-V2.txt','r').readlines()"
   ]
  },
  {
   "cell_type": "code",
   "execution_count": 37,
   "metadata": {},
   "outputs": [],
   "source": [
    "raw_accu = [l for l in raw if 'train' in l]"
   ]
  },
  {
   "cell_type": "code",
   "execution_count": 39,
   "metadata": {},
   "outputs": [],
   "source": [
    "from ast import literal_eval"
   ]
  },
  {
   "cell_type": "code",
   "execution_count": 40,
   "metadata": {},
   "outputs": [],
   "source": [
    "accu = [literal_eval(d.rstrip('\\n')) for d in raw_accu]"
   ]
  },
  {
   "cell_type": "code",
   "execution_count": 54,
   "metadata": {},
   "outputs": [],
   "source": [
    "attn_duration = [(i,i+1) for i in range(0,20) if i % 5 in [0,2]]\n",
    "bn_duration = [(i,i+1) for i in range(0,20) if i % 5 in [1,3]]"
   ]
  },
  {
   "cell_type": "code",
   "execution_count": 55,
   "metadata": {},
   "outputs": [],
   "source": [
    "df = pd.DataFrame.from_dict(accu)"
   ]
  },
  {
   "cell_type": "code",
   "execution_count": 56,
   "metadata": {},
   "outputs": [
    {
     "data": {
      "text/plain": [
       "Text(0.5,1,'Adding Batchnorm, Increase Lambda helps boosting val accuracy by 5%')"
      ]
     },
     "execution_count": 56,
     "metadata": {},
     "output_type": "execute_result"
    },
    {
     "data": {
      "image/png": "[encoded data removed]",
      "text/plain": [
       "<Figure size 720x432 with 1 Axes>"
      ]
     },
     "metadata": {},
     "output_type": "display_data"
    }
   ],
   "source": [
    "df.plot(figsize=(10,6))\n",
    "flag = True\n",
    "for a_d, b_d in zip(attn_duration, bn_duration):\n",
    "    if flag:\n",
    "        plt.axvspan(a_d[0], a_d[1], alpha=0.2, color='gold', label='attn')\n",
    "        plt.axvspan(b_d[0], b_d[1], alpha=0.2, color='cyan', label='bn')\n",
    "        flag = False\n",
    "    else:\n",
    "        plt.axvspan(a_d[0], a_d[1], alpha=0.2, color='gold')\n",
    "        plt.axvspan(b_d[0], b_d[1], alpha=0.2, color='cyan')\n",
    "plt.legend()\n",
    "plt.xlabel('Epoch')\n",
    "plt.ylabel('Accuracy')\n",
    "plt.title(\"Adding Batchnorm, Increase Lambda helps boosting val accuracy by 5%\")"
   ]
  },
  {
   "cell_type": "code",
   "execution_count": null,
   "metadata": {},
   "outputs": [],
   "source": []
  },
  {
   "cell_type": "code",
   "execution_count": 57,
   "metadata": {},
   "outputs": [],
   "source": [
    "raw_loss = [l for l in raw if 'iter' in l]"
   ]
  },
  {
   "cell_type": "code",
   "execution_count": 59,
   "metadata": {},
   "outputs": [],
   "source": [
    "raw_loss = [l.strip('\\n') for l in raw_loss if '[    1] iter' not in l]"
   ]
  },
  {
   "cell_type": "code",
   "execution_count": 63,
   "metadata": {},
   "outputs": [],
   "source": [
    "from io import StringIO"
   ]
  },
  {
   "cell_type": "code",
   "execution_count": 68,
   "metadata": {},
   "outputs": [],
   "source": [
    "df_loss = pd.read_csv(StringIO('\\n'.join(raw_loss)), header=None)"
   ]
  },
  {
   "cell_type": "code",
   "execution_count": 70,
   "metadata": {},
   "outputs": [],
   "source": [
    "df_loss = df_loss.iloc[:,2:]"
   ]
  },
  {
   "cell_type": "code",
   "execution_count": 76,
   "metadata": {},
   "outputs": [
    {
     "data": {
      "text/plain": [
       "Int64Index([2, 3], dtype='int64')"
      ]
     },
     "execution_count": 76,
     "metadata": {},
     "output_type": "execute_result"
    }
   ],
   "source": [
    "df_loss.columns"
   ]
  },
  {
   "cell_type": "code",
   "execution_count": 78,
   "metadata": {},
   "outputs": [
    {
     "name": "stderr",
     "output_type": "stream",
     "text": [
      "/home/ubuntu/miniconda3/lib/python3.6/site-packages/ipykernel_launcher.py:1: SettingWithCopyWarning: \n",
      "A value is trying to be set on a copy of a slice from a DataFrame.\n",
      "Try using .loc[row_indexer,col_indexer] = value instead\n",
      "\n",
      "See the caveats in the documentation: http://pandas.pydata.org/pandas-docs/stable/indexing.html#indexing-view-versus-copy\n",
      "  \"\"\"Entry point for launching an IPython kernel.\n",
      "/home/ubuntu/miniconda3/lib/python3.6/site-packages/ipykernel_launcher.py:2: SettingWithCopyWarning: \n",
      "A value is trying to be set on a copy of a slice from a DataFrame.\n",
      "Try using .loc[row_indexer,col_indexer] = value instead\n",
      "\n",
      "See the caveats in the documentation: http://pandas.pydata.org/pandas-docs/stable/indexing.html#indexing-view-versus-copy\n",
      "  \n"
     ]
    }
   ],
   "source": [
    "df_loss[2] = df_loss[2].str.split(': ').apply(lambda x: float(x[1]))\n",
    "df_loss[3] = df_loss[3].str.split(': ').apply(lambda x: float(x[1]))"
   ]
  },
  {
   "cell_type": "code",
   "execution_count": 81,
   "metadata": {},
   "outputs": [],
   "source": [
    "df_loss= df_loss.rename({\n",
    "    2:'Clf Loss',\n",
    "    3:'Attn Loss'\n",
    "}, axis=1)"
   ]
  },
  {
   "cell_type": "code",
   "execution_count": 92,
   "metadata": {},
   "outputs": [],
   "source": [
    "attn_period = [(i,i+12) for i in np.arange(0,240) if i % 60 in [12, 36]]"
   ]
  },
  {
   "cell_type": "code",
   "execution_count": 94,
   "metadata": {},
   "outputs": [
    {
     "data": {
      "text/plain": [
       "Text(0.5,0.98,'Loss Over time')"
      ]
     },
     "execution_count": 94,
     "metadata": {},
     "output_type": "execute_result"
    },
    {
     "data": {
      "image/png": "[encoded data removed]",
      "text/plain": [
       "<Figure size 720x432 with 2 Axes>"
      ]
     },
     "metadata": {},
     "output_type": "display_data"
    }
   ],
   "source": [
    "plt.figure(figsize=(10,6))\n",
    "\n",
    "plt.subplot(211)\n",
    "plt.title(\"Cross Entropy Loss\")\n",
    "df_loss['Clf Loss'].plot()\n",
    "for attn in attn_period:\n",
    "    plt.axvspan(attn[0], attn[1], alpha=0.2, color='gold')\n",
    "\n",
    "plt.subplot(212)\n",
    "plt.title('Attention Loss')\n",
    "df_loss['Attn Loss'].plot()\n",
    "for attn in attn_period:\n",
    "    plt.axvspan(attn[0], attn[1], alpha=0.2, color='gold')\n",
    "\n",
    "plt.suptitle(\"Loss Over time\")"
   ]
  },
  {
   "cell_type": "code",
   "execution_count": null,
   "metadata": {},
   "outputs": [],
   "source": []
  }
 ],
 "metadata": {
  "kernelspec": {
   "display_name": "Python 3",
   "language": "python",
   "name": "python3"
  },
  "language_info": {
   "codemirror_mode": {
    "name": "ipython",
    "version": 3
   },
   "file_extension": ".py",
   "mimetype": "text/x-python",
   "name": "python",
   "nbconvert_exporter": "python",
   "pygments_lexer": "ipython3",
   "version": "3.5.2"
  }
 },
 "nbformat": 4,
 "nbformat_minor": 2
}
