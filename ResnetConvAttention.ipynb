{
 "cells": [
  {
   "cell_type": "code",
   "execution_count": 1,
   "metadata": {
    "collapsed": true
   },
   "outputs": [],
   "source": [
    "from AttentionModule import Conv2d_Attn\n",
    "\n",
    "import torch\n",
    "from torch import nn\n",
    "from torchvision import models"
   ]
  },
  {
   "cell_type": "code",
   "execution_count": 2,
   "metadata": {
    "collapsed": true
   },
   "outputs": [],
   "source": [
    "import re"
   ]
  },
  {
   "cell_type": "code",
   "execution_count": 3,
   "metadata": {
    "collapsed": true
   },
   "outputs": [],
   "source": [
    "import numpy as np"
   ]
  },
  {
   "cell_type": "code",
   "execution_count": 4,
   "metadata": {
    "collapsed": true
   },
   "outputs": [],
   "source": [
    "from torchvision import datasets, transforms"
   ]
  },
  {
   "cell_type": "code",
   "execution_count": 5,
   "metadata": {},
   "outputs": [],
   "source": [
    "resnet_pretrained = models.resnet50(pretrained=True)"
   ]
  },
  {
   "cell_type": "code",
   "execution_count": 6,
   "metadata": {
    "collapsed": true
   },
   "outputs": [],
   "source": [
    "nn.Conv2d = Conv2d_Attn\n",
    "resnet_attn = models.resnet50()"
   ]
  },
  {
   "cell_type": "code",
   "execution_count": 7,
   "metadata": {},
   "outputs": [],
   "source": [
    "resnet_attn.load_state_dict(resnet_pretrained.state_dict(), strict=False)"
   ]
  },
  {
   "cell_type": "code",
   "execution_count": 8,
   "metadata": {
    "collapsed": true
   },
   "outputs": [],
   "source": [
    "# Change batchnorm behavior\n",
    "resnet_attn = resnet_attn.eval() "
   ]
  },
  {
   "cell_type": "code",
   "execution_count": 9,
   "metadata": {
    "collapsed": true
   },
   "outputs": [],
   "source": [
    "# This block turns 'layer1.0.downsample.0.weight' to 'layer1[0].downsample[0].weight'\n",
    "param_keys = list(resnet_attn.state_dict().keys())\n",
    "formatted_keys = []\n",
    "for k in param_keys:\n",
    "    found = re.findall(r'\\.[\\d]{1,2}\\.', k)\n",
    "    if len(found):\n",
    "        for f in found:\n",
    "            k = k.replace(f, '[{}].'.format(f.strip('.')))\n",
    "    formatted_keys.append(k)"
   ]
  },
  {
   "cell_type": "code",
   "execution_count": 10,
   "metadata": {
    "collapsed": true
   },
   "outputs": [],
   "source": [
    "# This block turn off gradient up for all params except attn_weights\n",
    "for k in formatted_keys:\n",
    "    obj = eval('resnet_attn.'+k)\n",
    "    if not 'attn_weights' in k:\n",
    "        obj.requires_grad = False"
   ]
  },
  {
   "cell_type": "code",
   "execution_count": 11,
   "metadata": {
    "collapsed": true
   },
   "outputs": [],
   "source": [
    "out_class = 10\n",
    "resnet_attn.fc = nn.Linear(resnet_attn.fc.in_features, 10)"
   ]
  },
  {
   "cell_type": "code",
   "execution_count": null,
   "metadata": {
    "collapsed": true
   },
   "outputs": [],
   "source": []
  },
  {
   "cell_type": "markdown",
   "metadata": {},
   "source": [
    "Start training"
   ]
  },
  {
   "cell_type": "code",
   "execution_count": 12,
   "metadata": {
    "collapsed": true
   },
   "outputs": [],
   "source": [
    "import torch\n",
    "import torchvision\n",
    "import torchvision.transforms as transforms"
   ]
  },
  {
   "cell_type": "code",
   "execution_count": 13,
   "metadata": {},
   "outputs": [
    {
     "name": "stderr",
     "output_type": "stream",
     "text": [
      "/home/seg-image/anaconda3/envs/simon/lib/python3.6/site-packages/torchvision/transforms/transforms.py:156: UserWarning: The use of the transforms.Scale transform is deprecated, please use transforms.Resize instead.\n",
      "  \"please use transforms.Resize instead.\")\n"
     ]
    },
    {
     "name": "stdout",
     "output_type": "stream",
     "text": [
      "Files already downloaded and verified\n"
     ]
    }
   ],
   "source": [
    "transform = transforms.Compose(\n",
    "    [transforms.Scale(224),\n",
    "        transforms.ToTensor(),\n",
    "    transforms.Normalize((0.5, 0.5, 0.5), (0.5, 0.5, 0.5))])\n",
    "\n",
    "trainset = torchvision.datasets.CIFAR10(root='./data', train=True,\n",
    "                                        download=True, transform=transform)"
   ]
  },
  {
   "cell_type": "code",
   "execution_count": 14,
   "metadata": {
    "collapsed": true
   },
   "outputs": [],
   "source": [
    "trainloader = torch.utils.data.DataLoader(trainset, batch_size=4,\n",
    "                                          shuffle=True, num_workers=2)"
   ]
  },
  {
   "cell_type": "code",
   "execution_count": 15,
   "metadata": {
    "collapsed": true
   },
   "outputs": [],
   "source": [
    "import torch.optim as optim\n",
    "\n",
    "criterion = nn.CrossEntropyLoss()\n",
    "optimizer = optim.SGD(filter(lambda p: p.requires_grad, resnet_attn.parameters()), lr=0.001, momentum=0.9)"
   ]
  },
  {
   "cell_type": "code",
   "execution_count": 16,
   "metadata": {
    "collapsed": true
   },
   "outputs": [],
   "source": [
    "from torch.autograd import Variable"
   ]
  },
  {
   "cell_type": "code",
   "execution_count": null,
   "metadata": {},
   "outputs": [],
   "source": [
    "resnet_attn = resnet_attn.cuda()"
   ]
  },
  {
   "cell_type": "code",
   "execution_count": null,
   "metadata": {
    "scrolled": true
   },
   "outputs": [
    {
     "name": "stdout",
     "output_type": "stream",
     "text": [
      "[  200] loss: 0.126, attn_mean: 1.001, attn_std: 0.001\n",
      "[  400] loss: 0.060, attn_mean: 1.001, attn_std: 0.002\n",
      "[  600] loss: 0.046, attn_mean: 1.002, attn_std: 0.003\n",
      "[  800] loss: 0.045, attn_mean: 1.002, attn_std: 0.004\n",
      "[ 1000] loss: 0.033, attn_mean: 1.002, attn_std: 0.004\n",
      "[ 1200] loss: 0.035, attn_mean: 1.002, attn_std: 0.004\n",
      "[ 1400] loss: 0.035, attn_mean: 1.002, attn_std: 0.005\n",
      "[ 1600] loss: 0.037, attn_mean: 1.003, attn_std: 0.005\n",
      "[ 1800] loss: 0.029, attn_mean: 1.003, attn_std: 0.006\n",
      "[ 2000] loss: 0.033, attn_mean: 1.003, attn_std: 0.006\n",
      "[ 2200] loss: 0.029, attn_mean: 1.003, attn_std: 0.006\n",
      "[ 2400] loss: 0.035, attn_mean: 1.003, attn_std: 0.006\n",
      "[ 2600] loss: 0.035, attn_mean: 1.003, attn_std: 0.006\n",
      "[ 2800] loss: 0.032, attn_mean: 1.003, attn_std: 0.007\n",
      "[ 3000] loss: 0.026, attn_mean: 1.003, attn_std: 0.007\n",
      "[ 3200] loss: 0.026, attn_mean: 1.003, attn_std: 0.007\n",
      "[ 3400] loss: 0.032, attn_mean: 1.003, attn_std: 0.007\n",
      "[ 3600] loss: 0.026, attn_mean: 1.003, attn_std: 0.007\n",
      "[ 3800] loss: 0.030, attn_mean: 1.003, attn_std: 0.007\n",
      "[ 4000] loss: 0.030, attn_mean: 1.003, attn_std: 0.007\n",
      "[ 4200] loss: 0.028, attn_mean: 1.003, attn_std: 0.008\n",
      "[ 4400] loss: 0.029, attn_mean: 1.003, attn_std: 0.008\n",
      "[ 4600] loss: 0.020, attn_mean: 1.004, attn_std: 0.008\n",
      "[ 4800] loss: 0.028, attn_mean: 1.004, attn_std: 0.008\n",
      "[ 5000] loss: 0.029, attn_mean: 1.003, attn_std: 0.008\n"
     ]
    }
   ],
   "source": [
    "running_loss = 0.0\n",
    "for i, data in enumerate(trainloader, 0):\n",
    "    # get the inputs\n",
    "    inputs, labels = data\n",
    "\n",
    "    # wrap them in Variable\n",
    "    inputs, labels = Variable(inputs.cuda()), Variable(labels.cuda())\n",
    "\n",
    "    # zero the parameter gradients\n",
    "    optimizer.zero_grad()\n",
    "\n",
    "    # forward + backward + optimize\n",
    "    outputs = resnet_attn(inputs)\n",
    "    loss = criterion(outputs, labels)\n",
    "    \n",
    "    attn_summary = []\n",
    "    \n",
    "    for k in formatted_keys:\n",
    "        if 'attn_weights' in k:\n",
    "            obj = eval('resnet_attn.'+k)\n",
    "#             loss += torch.mean(torch.pow(obj - 0.5, 2))\n",
    "            attn_summary.append(obj.data.mean())\n",
    "    \n",
    "    loss.backward()\n",
    "    optimizer.step()\n",
    "\n",
    "    # print statistics\n",
    "    running_loss += loss.data[0]\n",
    "    if i % 200 == 199:    # print every 2000 mini-batches\n",
    "        print('[%5d] loss: %.3f, attn_mean: %.3f, attn_std: %.3f' %\n",
    "              (i + 1, running_loss / 2000, np.mean(attn_summary), np.std(attn_summary)))\n",
    "        running_loss = 0.0\n"
   ]
  },
  {
   "cell_type": "markdown",
   "metadata": {},
   "source": [
    "Training run @ April 10, 2018 – 21:27:\n",
    "- We need to add regularization to move the attention around. \n",
    "- Otherwise, the attention will just stay where they are and be happy with it. \n",
    "- Todo:\n",
    "    - Figure out the correct attn size for a conv tensor of size (channel_out, channel_in, H, W)\n",
    "    - Figure out the correct initialization + penalization scheme. It's 1 for now. "
   ]
  },
  {
   "cell_type": "code",
   "execution_count": null,
   "metadata": {
    "collapsed": true
   },
   "outputs": [],
   "source": []
  }
 ],
 "metadata": {
  "kernelspec": {
   "display_name": "Python 3",
   "language": "python",
   "name": "python3"
  },
  "language_info": {
   "codemirror_mode": {
    "name": "ipython",
    "version": 3
   },
   "file_extension": ".py",
   "mimetype": "text/x-python",
   "name": "python",
   "nbconvert_exporter": "python",
   "pygments_lexer": "ipython3",
   "version": "3.6.2"
  }
 },
 "nbformat": 4,
 "nbformat_minor": 2
}
